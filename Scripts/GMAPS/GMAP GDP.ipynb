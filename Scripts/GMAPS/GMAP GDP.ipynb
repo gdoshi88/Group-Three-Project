{
 "cells": [
  {
   "cell_type": "code",
   "execution_count": 1,
   "metadata": {},
   "outputs": [],
   "source": [
    "import pandas as pd\n",
    "import gmaps\n",
    "from config import gkey\n",
    "import matplotlib.pyplot as plt\n",
    "\n",
    "gmaps.configure(api_key=gkey)"
   ]
  },
  {
   "cell_type": "code",
   "execution_count": 2,
   "metadata": {},
   "outputs": [
    {
     "data": {
      "text/html": [
       "<div>\n",
       "<style scoped>\n",
       "    .dataframe tbody tr th:only-of-type {\n",
       "        vertical-align: middle;\n",
       "    }\n",
       "\n",
       "    .dataframe tbody tr th {\n",
       "        vertical-align: top;\n",
       "    }\n",
       "\n",
       "    .dataframe thead th {\n",
       "        text-align: right;\n",
       "    }\n",
       "</style>\n",
       "<table border=\"1\" class=\"dataframe\">\n",
       "  <thead>\n",
       "    <tr style=\"text-align: right;\">\n",
       "      <th></th>\n",
       "      <th>State</th>\n",
       "      <th>2013</th>\n",
       "      <th>2014</th>\n",
       "      <th>2015</th>\n",
       "      <th>2016</th>\n",
       "      <th>2017</th>\n",
       "      <th>Latitude</th>\n",
       "      <th>Longitude</th>\n",
       "    </tr>\n",
       "  </thead>\n",
       "  <tbody>\n",
       "    <tr>\n",
       "      <th>0</th>\n",
       "      <td>Alabama</td>\n",
       "      <td>36674</td>\n",
       "      <td>36473</td>\n",
       "      <td>36818</td>\n",
       "      <td>37158</td>\n",
       "      <td>37508</td>\n",
       "      <td>32.840571</td>\n",
       "      <td>-86.631861</td>\n",
       "    </tr>\n",
       "    <tr>\n",
       "      <th>1</th>\n",
       "      <td>Alaska</td>\n",
       "      <td>69711</td>\n",
       "      <td>67179</td>\n",
       "      <td>65971</td>\n",
       "      <td>63304</td>\n",
       "      <td>63610</td>\n",
       "      <td>64.845080</td>\n",
       "      <td>-147.722059</td>\n",
       "    </tr>\n",
       "    <tr>\n",
       "      <th>2</th>\n",
       "      <td>Arizona</td>\n",
       "      <td>38352</td>\n",
       "      <td>38534</td>\n",
       "      <td>38787</td>\n",
       "      <td>38940</td>\n",
       "      <td>39583</td>\n",
       "      <td>34.865970</td>\n",
       "      <td>-111.763811</td>\n",
       "    </tr>\n",
       "    <tr>\n",
       "      <th>3</th>\n",
       "      <td>Arkansas</td>\n",
       "      <td>35888</td>\n",
       "      <td>36265</td>\n",
       "      <td>36295</td>\n",
       "      <td>36502</td>\n",
       "      <td>36714</td>\n",
       "      <td>34.748650</td>\n",
       "      <td>-92.274491</td>\n",
       "    </tr>\n",
       "    <tr>\n",
       "      <th>4</th>\n",
       "      <td>California</td>\n",
       "      <td>53838</td>\n",
       "      <td>55571</td>\n",
       "      <td>57637</td>\n",
       "      <td>58974</td>\n",
       "      <td>60359</td>\n",
       "      <td>34.748650</td>\n",
       "      <td>-92.274491</td>\n",
       "    </tr>\n",
       "  </tbody>\n",
       "</table>\n",
       "</div>"
      ],
      "text/plain": [
       "        State   2013   2014   2015   2016   2017   Latitude   Longitude\n",
       "0     Alabama  36674  36473  36818  37158  37508  32.840571  -86.631861\n",
       "1      Alaska  69711  67179  65971  63304  63610  64.845080 -147.722059\n",
       "2     Arizona  38352  38534  38787  38940  39583  34.865970 -111.763811\n",
       "3    Arkansas  35888  36265  36295  36502  36714  34.748650  -92.274491\n",
       "4  California  53838  55571  57637  58974  60359  34.748650  -92.274491"
      ]
     },
     "execution_count": 2,
     "metadata": {},
     "output_type": "execute_result"
    }
   ],
   "source": [
    "csv_path = (\"Cleaned_GDP_Data.csv\")\n",
    "\n",
    "csv_df = pd.read_csv(csv_path)\n",
    "csv_df.head()"
   ]
  },
  {
   "cell_type": "code",
   "execution_count": 3,
   "metadata": {},
   "outputs": [],
   "source": [
    "locations = csv_df[[\"Latitude\", \"Longitude\"]]\n",
    "rating = csv_df[\"2017\"].astype(\"float\")"
   ]
  },
  {
   "cell_type": "code",
   "execution_count": 4,
   "metadata": {},
   "outputs": [],
   "source": [
    "fig = gmaps.figure()\n",
    "heat_layer = gmaps.heatmap_layer(locations, weights=rating, point_radius=32)\n",
    "fig.add_layer(heat_layer)"
   ]
  },
  {
   "cell_type": "code",
   "execution_count": 5,
   "metadata": {},
   "outputs": [
    {
     "data": {
      "application/vnd.jupyter.widget-view+json": {
       "model_id": "9a8c27ebf15a4c7f95270409836714c1",
       "version_major": 2,
       "version_minor": 0
      },
      "text/plain": [
       "Figure(layout=FigureLayout(height='420px'))"
      ]
     },
     "metadata": {},
     "output_type": "display_data"
    }
   ],
   "source": [
    "fig"
   ]
  },
  {
   "cell_type": "code",
   "execution_count": 6,
   "metadata": {},
   "outputs": [
    {
     "data": {
      "text/plain": [
       "<Figure size 432x288 with 0 Axes>"
      ]
     },
     "metadata": {},
     "output_type": "display_data"
    }
   ],
   "source": [
    "plt.savefig(\"GMAP_GDP_Across_States.png\")"
   ]
  },
  {
   "cell_type": "code",
   "execution_count": null,
   "metadata": {},
   "outputs": [],
   "source": []
  }
 ],
 "metadata": {
  "kernelspec": {
   "display_name": "Python [conda env:PythonData3] *",
   "language": "python",
   "name": "conda-env-PythonData3-py"
  },
  "language_info": {
   "codemirror_mode": {
    "name": "ipython",
    "version": 3
   },
   "file_extension": ".py",
   "mimetype": "text/x-python",
   "name": "python",
   "nbconvert_exporter": "python",
   "pygments_lexer": "ipython3",
   "version": "3.7.3"
  }
 },
 "nbformat": 4,
 "nbformat_minor": 2
}
