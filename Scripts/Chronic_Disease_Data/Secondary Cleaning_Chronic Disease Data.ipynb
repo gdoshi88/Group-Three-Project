{
 "cells": [
  {
   "cell_type": "code",
   "execution_count": 2,
   "metadata": {},
   "outputs": [],
   "source": [
    "import pandas as pd"
   ]
  },
  {
   "cell_type": "code",
   "execution_count": 3,
   "metadata": {
    "scrolled": true
   },
   "outputs": [
    {
     "data": {
      "text/html": [
       "<div>\n",
       "<style scoped>\n",
       "    .dataframe tbody tr th:only-of-type {\n",
       "        vertical-align: middle;\n",
       "    }\n",
       "\n",
       "    .dataframe tbody tr th {\n",
       "        vertical-align: top;\n",
       "    }\n",
       "\n",
       "    .dataframe thead th {\n",
       "        text-align: right;\n",
       "    }\n",
       "</style>\n",
       "<table border=\"1\" class=\"dataframe\">\n",
       "  <thead>\n",
       "    <tr style=\"text-align: right;\">\n",
       "      <th></th>\n",
       "      <th>YearStart</th>\n",
       "      <th>YearEnd</th>\n",
       "      <th>LocationAbbr</th>\n",
       "      <th>LocationDesc</th>\n",
       "      <th>Topic</th>\n",
       "      <th>Question</th>\n",
       "      <th>DataValueUnit</th>\n",
       "      <th>DataValue</th>\n",
       "      <th>StratificationCategory1</th>\n",
       "      <th>Latitude</th>\n",
       "      <th>Longitude</th>\n",
       "    </tr>\n",
       "  </thead>\n",
       "  <tbody>\n",
       "    <tr>\n",
       "      <th>0</th>\n",
       "      <td>2016</td>\n",
       "      <td>2016</td>\n",
       "      <td>AL</td>\n",
       "      <td>Alabama</td>\n",
       "      <td>Alcohol</td>\n",
       "      <td>Binge drinking prevalence among adults aged &gt;=...</td>\n",
       "      <td>%</td>\n",
       "      <td>13.0</td>\n",
       "      <td>Overall</td>\n",
       "      <td>32.840571</td>\n",
       "      <td>-86.631861</td>\n",
       "    </tr>\n",
       "    <tr>\n",
       "      <th>1</th>\n",
       "      <td>2016</td>\n",
       "      <td>2016</td>\n",
       "      <td>AK</td>\n",
       "      <td>Alaska</td>\n",
       "      <td>Alcohol</td>\n",
       "      <td>Binge drinking prevalence among adults aged &gt;=...</td>\n",
       "      <td>%</td>\n",
       "      <td>18.2</td>\n",
       "      <td>Overall</td>\n",
       "      <td>64.845080</td>\n",
       "      <td>-147.722059</td>\n",
       "    </tr>\n",
       "    <tr>\n",
       "      <th>2</th>\n",
       "      <td>2016</td>\n",
       "      <td>2016</td>\n",
       "      <td>AZ</td>\n",
       "      <td>Arizona</td>\n",
       "      <td>Alcohol</td>\n",
       "      <td>Binge drinking prevalence among adults aged &gt;=...</td>\n",
       "      <td>%</td>\n",
       "      <td>15.6</td>\n",
       "      <td>Overall</td>\n",
       "      <td>34.865970</td>\n",
       "      <td>-111.763811</td>\n",
       "    </tr>\n",
       "    <tr>\n",
       "      <th>3</th>\n",
       "      <td>2016</td>\n",
       "      <td>2016</td>\n",
       "      <td>AR</td>\n",
       "      <td>Arkansas</td>\n",
       "      <td>Alcohol</td>\n",
       "      <td>Binge drinking prevalence among adults aged &gt;=...</td>\n",
       "      <td>%</td>\n",
       "      <td>15.0</td>\n",
       "      <td>Overall</td>\n",
       "      <td>34.748650</td>\n",
       "      <td>-92.274491</td>\n",
       "    </tr>\n",
       "    <tr>\n",
       "      <th>4</th>\n",
       "      <td>2016</td>\n",
       "      <td>2016</td>\n",
       "      <td>CA</td>\n",
       "      <td>California</td>\n",
       "      <td>Alcohol</td>\n",
       "      <td>Binge drinking prevalence among adults aged &gt;=...</td>\n",
       "      <td>%</td>\n",
       "      <td>16.3</td>\n",
       "      <td>Overall</td>\n",
       "      <td>37.638640</td>\n",
       "      <td>-121.000000</td>\n",
       "    </tr>\n",
       "  </tbody>\n",
       "</table>\n",
       "</div>"
      ],
      "text/plain": [
       "   YearStart  YearEnd LocationAbbr LocationDesc    Topic  \\\n",
       "0       2016     2016           AL      Alabama  Alcohol   \n",
       "1       2016     2016           AK       Alaska  Alcohol   \n",
       "2       2016     2016           AZ      Arizona  Alcohol   \n",
       "3       2016     2016           AR     Arkansas  Alcohol   \n",
       "4       2016     2016           CA   California  Alcohol   \n",
       "\n",
       "                                            Question DataValueUnit  DataValue  \\\n",
       "0  Binge drinking prevalence among adults aged >=...             %       13.0   \n",
       "1  Binge drinking prevalence among adults aged >=...             %       18.2   \n",
       "2  Binge drinking prevalence among adults aged >=...             %       15.6   \n",
       "3  Binge drinking prevalence among adults aged >=...             %       15.0   \n",
       "4  Binge drinking prevalence among adults aged >=...             %       16.3   \n",
       "\n",
       "  StratificationCategory1   Latitude   Longitude  \n",
       "0                 Overall  32.840571  -86.631861  \n",
       "1                 Overall  64.845080 -147.722059  \n",
       "2                 Overall  34.865970 -111.763811  \n",
       "3                 Overall  34.748650  -92.274491  \n",
       "4                 Overall  37.638640 -121.000000  "
      ]
     },
     "execution_count": 3,
     "metadata": {},
     "output_type": "execute_result"
    }
   ],
   "source": [
    "csv_path = (\"Cleaned_Chronic_Disease_Data4.csv\")\n",
    "\n",
    "csv_df = pd.read_csv(csv_path)\n",
    "csv_df.head()"
   ]
  },
  {
   "cell_type": "code",
   "execution_count": 4,
   "metadata": {},
   "outputs": [
    {
     "data": {
      "text/plain": [
       "<bound method IndexOpsMixin.value_counts of 0         %\n",
       "1         %\n",
       "2         %\n",
       "3         %\n",
       "4         %\n",
       "5         %\n",
       "6         %\n",
       "7         %\n",
       "8         %\n",
       "9         %\n",
       "10        %\n",
       "11        %\n",
       "12        %\n",
       "13        %\n",
       "14        %\n",
       "15        %\n",
       "16        %\n",
       "17        %\n",
       "18        %\n",
       "19        %\n",
       "20        %\n",
       "21        %\n",
       "22        %\n",
       "23        %\n",
       "24        %\n",
       "25        %\n",
       "26        %\n",
       "27        %\n",
       "28        %\n",
       "29        %\n",
       "         ..\n",
       "123322    %\n",
       "123323    %\n",
       "123324    %\n",
       "123325    %\n",
       "123326    %\n",
       "123327    %\n",
       "123328    %\n",
       "123329    %\n",
       "123330    %\n",
       "123331    %\n",
       "123332    %\n",
       "123333    %\n",
       "123334    %\n",
       "123335    %\n",
       "123336    %\n",
       "123337    %\n",
       "123338    %\n",
       "123339    %\n",
       "123340    %\n",
       "123341    %\n",
       "123342    %\n",
       "123343    %\n",
       "123344    %\n",
       "123345    %\n",
       "123346    %\n",
       "123347    %\n",
       "123348    %\n",
       "123349    %\n",
       "123350    %\n",
       "123351    %\n",
       "Name: DataValueUnit, Length: 123352, dtype: object>"
      ]
     },
     "execution_count": 4,
     "metadata": {},
     "output_type": "execute_result"
    }
   ],
   "source": [
    "csv_df[\"DataValueUnit\"].value_counts"
   ]
  },
  {
   "cell_type": "code",
   "execution_count": 5,
   "metadata": {},
   "outputs": [
    {
     "data": {
      "text/html": [
       "<div>\n",
       "<style scoped>\n",
       "    .dataframe tbody tr th:only-of-type {\n",
       "        vertical-align: middle;\n",
       "    }\n",
       "\n",
       "    .dataframe tbody tr th {\n",
       "        vertical-align: top;\n",
       "    }\n",
       "\n",
       "    .dataframe thead th {\n",
       "        text-align: right;\n",
       "    }\n",
       "</style>\n",
       "<table border=\"1\" class=\"dataframe\">\n",
       "  <thead>\n",
       "    <tr style=\"text-align: right;\">\n",
       "      <th></th>\n",
       "      <th>YearStart</th>\n",
       "      <th>YearEnd</th>\n",
       "      <th>LocationAbbr</th>\n",
       "      <th>LocationDesc</th>\n",
       "      <th>Topic</th>\n",
       "      <th>Question</th>\n",
       "      <th>DataValueUnit</th>\n",
       "      <th>DataValue</th>\n",
       "      <th>StratificationCategory1</th>\n",
       "      <th>Latitude</th>\n",
       "      <th>Longitude</th>\n",
       "    </tr>\n",
       "  </thead>\n",
       "  <tbody>\n",
       "    <tr>\n",
       "      <th>0</th>\n",
       "      <td>2016</td>\n",
       "      <td>2016</td>\n",
       "      <td>AL</td>\n",
       "      <td>Alabama</td>\n",
       "      <td>Alcohol</td>\n",
       "      <td>Binge drinking prevalence among adults aged &gt;=...</td>\n",
       "      <td>%</td>\n",
       "      <td>13.0</td>\n",
       "      <td>Overall</td>\n",
       "      <td>32.840571</td>\n",
       "      <td>-86.631861</td>\n",
       "    </tr>\n",
       "    <tr>\n",
       "      <th>1</th>\n",
       "      <td>2016</td>\n",
       "      <td>2016</td>\n",
       "      <td>AK</td>\n",
       "      <td>Alaska</td>\n",
       "      <td>Alcohol</td>\n",
       "      <td>Binge drinking prevalence among adults aged &gt;=...</td>\n",
       "      <td>%</td>\n",
       "      <td>18.2</td>\n",
       "      <td>Overall</td>\n",
       "      <td>64.845080</td>\n",
       "      <td>-147.722059</td>\n",
       "    </tr>\n",
       "    <tr>\n",
       "      <th>2</th>\n",
       "      <td>2016</td>\n",
       "      <td>2016</td>\n",
       "      <td>AZ</td>\n",
       "      <td>Arizona</td>\n",
       "      <td>Alcohol</td>\n",
       "      <td>Binge drinking prevalence among adults aged &gt;=...</td>\n",
       "      <td>%</td>\n",
       "      <td>15.6</td>\n",
       "      <td>Overall</td>\n",
       "      <td>34.865970</td>\n",
       "      <td>-111.763811</td>\n",
       "    </tr>\n",
       "    <tr>\n",
       "      <th>3</th>\n",
       "      <td>2016</td>\n",
       "      <td>2016</td>\n",
       "      <td>AR</td>\n",
       "      <td>Arkansas</td>\n",
       "      <td>Alcohol</td>\n",
       "      <td>Binge drinking prevalence among adults aged &gt;=...</td>\n",
       "      <td>%</td>\n",
       "      <td>15.0</td>\n",
       "      <td>Overall</td>\n",
       "      <td>34.748650</td>\n",
       "      <td>-92.274491</td>\n",
       "    </tr>\n",
       "    <tr>\n",
       "      <th>4</th>\n",
       "      <td>2016</td>\n",
       "      <td>2016</td>\n",
       "      <td>CA</td>\n",
       "      <td>California</td>\n",
       "      <td>Alcohol</td>\n",
       "      <td>Binge drinking prevalence among adults aged &gt;=...</td>\n",
       "      <td>%</td>\n",
       "      <td>16.3</td>\n",
       "      <td>Overall</td>\n",
       "      <td>37.638640</td>\n",
       "      <td>-121.000000</td>\n",
       "    </tr>\n",
       "    <tr>\n",
       "      <th>5</th>\n",
       "      <td>2016</td>\n",
       "      <td>2016</td>\n",
       "      <td>CO</td>\n",
       "      <td>Colorado</td>\n",
       "      <td>Alcohol</td>\n",
       "      <td>Binge drinking prevalence among adults aged &gt;=...</td>\n",
       "      <td>%</td>\n",
       "      <td>19.0</td>\n",
       "      <td>Overall</td>\n",
       "      <td>38.843841</td>\n",
       "      <td>-106.133611</td>\n",
       "    </tr>\n",
       "    <tr>\n",
       "      <th>6</th>\n",
       "      <td>2016</td>\n",
       "      <td>2016</td>\n",
       "      <td>CT</td>\n",
       "      <td>Connecticut</td>\n",
       "      <td>Alcohol</td>\n",
       "      <td>Binge drinking prevalence among adults aged &gt;=...</td>\n",
       "      <td>%</td>\n",
       "      <td>16.7</td>\n",
       "      <td>Overall</td>\n",
       "      <td>41.562661</td>\n",
       "      <td>-72.649841</td>\n",
       "    </tr>\n",
       "    <tr>\n",
       "      <th>7</th>\n",
       "      <td>2016</td>\n",
       "      <td>2016</td>\n",
       "      <td>DE</td>\n",
       "      <td>Delaware</td>\n",
       "      <td>Alcohol</td>\n",
       "      <td>Binge drinking prevalence among adults aged &gt;=...</td>\n",
       "      <td>%</td>\n",
       "      <td>17.0</td>\n",
       "      <td>Overall</td>\n",
       "      <td>39.008831</td>\n",
       "      <td>-75.577741</td>\n",
       "    </tr>\n",
       "    <tr>\n",
       "      <th>8</th>\n",
       "      <td>2016</td>\n",
       "      <td>2016</td>\n",
       "      <td>DC</td>\n",
       "      <td>District of Columbia</td>\n",
       "      <td>Alcohol</td>\n",
       "      <td>Binge drinking prevalence among adults aged &gt;=...</td>\n",
       "      <td>%</td>\n",
       "      <td>25.6</td>\n",
       "      <td>Overall</td>\n",
       "      <td>38.907192</td>\n",
       "      <td>-77.036871</td>\n",
       "    </tr>\n",
       "    <tr>\n",
       "      <th>9</th>\n",
       "      <td>2016</td>\n",
       "      <td>2016</td>\n",
       "      <td>FL</td>\n",
       "      <td>Florida</td>\n",
       "      <td>Alcohol</td>\n",
       "      <td>Binge drinking prevalence among adults aged &gt;=...</td>\n",
       "      <td>%</td>\n",
       "      <td>15.5</td>\n",
       "      <td>Overall</td>\n",
       "      <td>28.932040</td>\n",
       "      <td>-81.928961</td>\n",
       "    </tr>\n",
       "    <tr>\n",
       "      <th>10</th>\n",
       "      <td>2016</td>\n",
       "      <td>2016</td>\n",
       "      <td>GA</td>\n",
       "      <td>Georgia</td>\n",
       "      <td>Alcohol</td>\n",
       "      <td>Binge drinking prevalence among adults aged &gt;=...</td>\n",
       "      <td>%</td>\n",
       "      <td>13.3</td>\n",
       "      <td>Overall</td>\n",
       "      <td>32.839681</td>\n",
       "      <td>-83.627580</td>\n",
       "    </tr>\n",
       "    <tr>\n",
       "      <th>11</th>\n",
       "      <td>2016</td>\n",
       "      <td>2016</td>\n",
       "      <td>HI</td>\n",
       "      <td>Hawaii</td>\n",
       "      <td>Alcohol</td>\n",
       "      <td>Binge drinking prevalence among adults aged &gt;=...</td>\n",
       "      <td>%</td>\n",
       "      <td>18.6</td>\n",
       "      <td>Overall</td>\n",
       "      <td>21.304850</td>\n",
       "      <td>-157.857749</td>\n",
       "    </tr>\n",
       "    <tr>\n",
       "      <th>12</th>\n",
       "      <td>2016</td>\n",
       "      <td>2016</td>\n",
       "      <td>ID</td>\n",
       "      <td>Idaho</td>\n",
       "      <td>Alcohol</td>\n",
       "      <td>Binge drinking prevalence among adults aged &gt;=...</td>\n",
       "      <td>%</td>\n",
       "      <td>16.1</td>\n",
       "      <td>Overall</td>\n",
       "      <td>43.682630</td>\n",
       "      <td>-114.363730</td>\n",
       "    </tr>\n",
       "    <tr>\n",
       "      <th>13</th>\n",
       "      <td>2016</td>\n",
       "      <td>2016</td>\n",
       "      <td>IL</td>\n",
       "      <td>Illinois</td>\n",
       "      <td>Alcohol</td>\n",
       "      <td>Binge drinking prevalence among adults aged &gt;=...</td>\n",
       "      <td>%</td>\n",
       "      <td>19.9</td>\n",
       "      <td>Overall</td>\n",
       "      <td>40.485010</td>\n",
       "      <td>-88.997710</td>\n",
       "    </tr>\n",
       "    <tr>\n",
       "      <th>14</th>\n",
       "      <td>2016</td>\n",
       "      <td>2016</td>\n",
       "      <td>IN</td>\n",
       "      <td>Indiana</td>\n",
       "      <td>Alcohol</td>\n",
       "      <td>Binge drinking prevalence among adults aged &gt;=...</td>\n",
       "      <td>%</td>\n",
       "      <td>17.5</td>\n",
       "      <td>Overall</td>\n",
       "      <td>39.766910</td>\n",
       "      <td>-86.149960</td>\n",
       "    </tr>\n",
       "    <tr>\n",
       "      <th>15</th>\n",
       "      <td>2016</td>\n",
       "      <td>2016</td>\n",
       "      <td>IA</td>\n",
       "      <td>Iowa</td>\n",
       "      <td>Alcohol</td>\n",
       "      <td>Binge drinking prevalence among adults aged &gt;=...</td>\n",
       "      <td>%</td>\n",
       "      <td>21.2</td>\n",
       "      <td>Overall</td>\n",
       "      <td>42.469401</td>\n",
       "      <td>-93.816491</td>\n",
       "    </tr>\n",
       "    <tr>\n",
       "      <th>16</th>\n",
       "      <td>2016</td>\n",
       "      <td>2016</td>\n",
       "      <td>KS</td>\n",
       "      <td>Kansas</td>\n",
       "      <td>Alcohol</td>\n",
       "      <td>Binge drinking prevalence among adults aged &gt;=...</td>\n",
       "      <td>%</td>\n",
       "      <td>16.0</td>\n",
       "      <td>Overall</td>\n",
       "      <td>38.347740</td>\n",
       "      <td>-98.200781</td>\n",
       "    </tr>\n",
       "    <tr>\n",
       "      <th>17</th>\n",
       "      <td>2016</td>\n",
       "      <td>2016</td>\n",
       "      <td>KY</td>\n",
       "      <td>Kentucky</td>\n",
       "      <td>Alcohol</td>\n",
       "      <td>Binge drinking prevalence among adults aged &gt;=...</td>\n",
       "      <td>%</td>\n",
       "      <td>14.6</td>\n",
       "      <td>Overall</td>\n",
       "      <td>37.645970</td>\n",
       "      <td>-84.774971</td>\n",
       "    </tr>\n",
       "    <tr>\n",
       "      <th>18</th>\n",
       "      <td>2016</td>\n",
       "      <td>2016</td>\n",
       "      <td>LA</td>\n",
       "      <td>Louisiana</td>\n",
       "      <td>Alcohol</td>\n",
       "      <td>Binge drinking prevalence among adults aged &gt;=...</td>\n",
       "      <td>%</td>\n",
       "      <td>16.9</td>\n",
       "      <td>Overall</td>\n",
       "      <td>31.312661</td>\n",
       "      <td>-92.445680</td>\n",
       "    </tr>\n",
       "    <tr>\n",
       "      <th>19</th>\n",
       "      <td>2016</td>\n",
       "      <td>2016</td>\n",
       "      <td>ME</td>\n",
       "      <td>Maine</td>\n",
       "      <td>Alcohol</td>\n",
       "      <td>Binge drinking prevalence among adults aged &gt;=...</td>\n",
       "      <td>%</td>\n",
       "      <td>18.3</td>\n",
       "      <td>Overall</td>\n",
       "      <td>45.254229</td>\n",
       "      <td>-68.985031</td>\n",
       "    </tr>\n",
       "    <tr>\n",
       "      <th>20</th>\n",
       "      <td>2016</td>\n",
       "      <td>2016</td>\n",
       "      <td>MD</td>\n",
       "      <td>Maryland</td>\n",
       "      <td>Alcohol</td>\n",
       "      <td>Binge drinking prevalence among adults aged &gt;=...</td>\n",
       "      <td>%</td>\n",
       "      <td>15.3</td>\n",
       "      <td>Overall</td>\n",
       "      <td>39.290581</td>\n",
       "      <td>-76.609260</td>\n",
       "    </tr>\n",
       "    <tr>\n",
       "      <th>21</th>\n",
       "      <td>2016</td>\n",
       "      <td>2016</td>\n",
       "      <td>MA</td>\n",
       "      <td>Massachusetts</td>\n",
       "      <td>Alcohol</td>\n",
       "      <td>Binge drinking prevalence among adults aged &gt;=...</td>\n",
       "      <td>%</td>\n",
       "      <td>17.8</td>\n",
       "      <td>Overall</td>\n",
       "      <td>42.276870</td>\n",
       "      <td>-72.082691</td>\n",
       "    </tr>\n",
       "    <tr>\n",
       "      <th>22</th>\n",
       "      <td>2016</td>\n",
       "      <td>2016</td>\n",
       "      <td>MI</td>\n",
       "      <td>Michigan</td>\n",
       "      <td>Alcohol</td>\n",
       "      <td>Binge drinking prevalence among adults aged &gt;=...</td>\n",
       "      <td>%</td>\n",
       "      <td>19.0</td>\n",
       "      <td>Overall</td>\n",
       "      <td>44.661320</td>\n",
       "      <td>-84.714390</td>\n",
       "    </tr>\n",
       "    <tr>\n",
       "      <th>23</th>\n",
       "      <td>2016</td>\n",
       "      <td>2016</td>\n",
       "      <td>MN</td>\n",
       "      <td>Minnesota</td>\n",
       "      <td>Alcohol</td>\n",
       "      <td>Binge drinking prevalence among adults aged &gt;=...</td>\n",
       "      <td>%</td>\n",
       "      <td>21.3</td>\n",
       "      <td>Overall</td>\n",
       "      <td>46.355649</td>\n",
       "      <td>-94.794201</td>\n",
       "    </tr>\n",
       "    <tr>\n",
       "      <th>24</th>\n",
       "      <td>2016</td>\n",
       "      <td>2016</td>\n",
       "      <td>MS</td>\n",
       "      <td>Mississippi</td>\n",
       "      <td>Alcohol</td>\n",
       "      <td>Binge drinking prevalence among adults aged &gt;=...</td>\n",
       "      <td>%</td>\n",
       "      <td>12.3</td>\n",
       "      <td>Overall</td>\n",
       "      <td>32.745510</td>\n",
       "      <td>-89.538031</td>\n",
       "    </tr>\n",
       "    <tr>\n",
       "      <th>25</th>\n",
       "      <td>2016</td>\n",
       "      <td>2016</td>\n",
       "      <td>MO</td>\n",
       "      <td>Missouri</td>\n",
       "      <td>Alcohol</td>\n",
       "      <td>Binge drinking prevalence among adults aged &gt;=...</td>\n",
       "      <td>%</td>\n",
       "      <td>18.4</td>\n",
       "      <td>Overall</td>\n",
       "      <td>38.635791</td>\n",
       "      <td>-92.566300</td>\n",
       "    </tr>\n",
       "    <tr>\n",
       "      <th>26</th>\n",
       "      <td>2016</td>\n",
       "      <td>2016</td>\n",
       "      <td>MT</td>\n",
       "      <td>Montana</td>\n",
       "      <td>Alcohol</td>\n",
       "      <td>Binge drinking prevalence among adults aged &gt;=...</td>\n",
       "      <td>%</td>\n",
       "      <td>18.9</td>\n",
       "      <td>Overall</td>\n",
       "      <td>47.066529</td>\n",
       "      <td>-109.424421</td>\n",
       "    </tr>\n",
       "    <tr>\n",
       "      <th>27</th>\n",
       "      <td>2016</td>\n",
       "      <td>2016</td>\n",
       "      <td>NE</td>\n",
       "      <td>Nebraska</td>\n",
       "      <td>Alcohol</td>\n",
       "      <td>Binge drinking prevalence among adults aged &gt;=...</td>\n",
       "      <td>%</td>\n",
       "      <td>20.0</td>\n",
       "      <td>Overall</td>\n",
       "      <td>41.641041</td>\n",
       "      <td>-99.365721</td>\n",
       "    </tr>\n",
       "    <tr>\n",
       "      <th>28</th>\n",
       "      <td>2016</td>\n",
       "      <td>2016</td>\n",
       "      <td>NV</td>\n",
       "      <td>Nevada</td>\n",
       "      <td>Alcohol</td>\n",
       "      <td>Binge drinking prevalence among adults aged &gt;=...</td>\n",
       "      <td>%</td>\n",
       "      <td>15.8</td>\n",
       "      <td>Overall</td>\n",
       "      <td>39.493240</td>\n",
       "      <td>-117.071841</td>\n",
       "    </tr>\n",
       "    <tr>\n",
       "      <th>29</th>\n",
       "      <td>2016</td>\n",
       "      <td>2016</td>\n",
       "      <td>NH</td>\n",
       "      <td>New Hampshire</td>\n",
       "      <td>Alcohol</td>\n",
       "      <td>Binge drinking prevalence among adults aged &gt;=...</td>\n",
       "      <td>%</td>\n",
       "      <td>18.0</td>\n",
       "      <td>Overall</td>\n",
       "      <td>43.655950</td>\n",
       "      <td>-71.500361</td>\n",
       "    </tr>\n",
       "    <tr>\n",
       "      <th>...</th>\n",
       "      <td>...</td>\n",
       "      <td>...</td>\n",
       "      <td>...</td>\n",
       "      <td>...</td>\n",
       "      <td>...</td>\n",
       "      <td>...</td>\n",
       "      <td>...</td>\n",
       "      <td>...</td>\n",
       "      <td>...</td>\n",
       "      <td>...</td>\n",
       "      <td>...</td>\n",
       "    </tr>\n",
       "    <tr>\n",
       "      <th>123322</th>\n",
       "      <td>2010</td>\n",
       "      <td>2010</td>\n",
       "      <td>MI</td>\n",
       "      <td>Michigan</td>\n",
       "      <td>Overarching Conditions</td>\n",
       "      <td>High school completion among adults aged 18-24...</td>\n",
       "      <td>%</td>\n",
       "      <td>87.3</td>\n",
       "      <td>Gender</td>\n",
       "      <td>44.661320</td>\n",
       "      <td>-84.714390</td>\n",
       "    </tr>\n",
       "    <tr>\n",
       "      <th>123323</th>\n",
       "      <td>2010</td>\n",
       "      <td>2010</td>\n",
       "      <td>MN</td>\n",
       "      <td>Minnesota</td>\n",
       "      <td>Overarching Conditions</td>\n",
       "      <td>High school completion among adults aged 18-24...</td>\n",
       "      <td>%</td>\n",
       "      <td>89.6</td>\n",
       "      <td>Gender</td>\n",
       "      <td>46.355649</td>\n",
       "      <td>-94.794201</td>\n",
       "    </tr>\n",
       "    <tr>\n",
       "      <th>123324</th>\n",
       "      <td>2010</td>\n",
       "      <td>2010</td>\n",
       "      <td>MO</td>\n",
       "      <td>Missouri</td>\n",
       "      <td>Overarching Conditions</td>\n",
       "      <td>High school completion among adults aged 18-24...</td>\n",
       "      <td>%</td>\n",
       "      <td>86.8</td>\n",
       "      <td>Gender</td>\n",
       "      <td>38.635791</td>\n",
       "      <td>-92.566300</td>\n",
       "    </tr>\n",
       "    <tr>\n",
       "      <th>123325</th>\n",
       "      <td>2010</td>\n",
       "      <td>2010</td>\n",
       "      <td>MS</td>\n",
       "      <td>Mississippi</td>\n",
       "      <td>Overarching Conditions</td>\n",
       "      <td>High school completion among adults aged 18-24...</td>\n",
       "      <td>%</td>\n",
       "      <td>84.5</td>\n",
       "      <td>Gender</td>\n",
       "      <td>32.745510</td>\n",
       "      <td>-89.538031</td>\n",
       "    </tr>\n",
       "    <tr>\n",
       "      <th>123326</th>\n",
       "      <td>2010</td>\n",
       "      <td>2010</td>\n",
       "      <td>MT</td>\n",
       "      <td>Montana</td>\n",
       "      <td>Overarching Conditions</td>\n",
       "      <td>High school completion among adults aged 18-24...</td>\n",
       "      <td>%</td>\n",
       "      <td>84.4</td>\n",
       "      <td>Gender</td>\n",
       "      <td>47.066529</td>\n",
       "      <td>-109.424421</td>\n",
       "    </tr>\n",
       "    <tr>\n",
       "      <th>123327</th>\n",
       "      <td>2010</td>\n",
       "      <td>2010</td>\n",
       "      <td>NC</td>\n",
       "      <td>North Carolina</td>\n",
       "      <td>Overarching Conditions</td>\n",
       "      <td>High school completion among adults aged 18-24...</td>\n",
       "      <td>%</td>\n",
       "      <td>85.5</td>\n",
       "      <td>Gender</td>\n",
       "      <td>35.466221</td>\n",
       "      <td>-79.159250</td>\n",
       "    </tr>\n",
       "    <tr>\n",
       "      <th>123328</th>\n",
       "      <td>2010</td>\n",
       "      <td>2010</td>\n",
       "      <td>ND</td>\n",
       "      <td>North Dakota</td>\n",
       "      <td>Overarching Conditions</td>\n",
       "      <td>High school completion among adults aged 18-24...</td>\n",
       "      <td>%</td>\n",
       "      <td>93.4</td>\n",
       "      <td>Gender</td>\n",
       "      <td>47.475320</td>\n",
       "      <td>-100.118421</td>\n",
       "    </tr>\n",
       "    <tr>\n",
       "      <th>123329</th>\n",
       "      <td>2010</td>\n",
       "      <td>2010</td>\n",
       "      <td>NE</td>\n",
       "      <td>Nebraska</td>\n",
       "      <td>Overarching Conditions</td>\n",
       "      <td>High school completion among adults aged 18-24...</td>\n",
       "      <td>%</td>\n",
       "      <td>88.7</td>\n",
       "      <td>Gender</td>\n",
       "      <td>41.641041</td>\n",
       "      <td>-99.365721</td>\n",
       "    </tr>\n",
       "    <tr>\n",
       "      <th>123330</th>\n",
       "      <td>2010</td>\n",
       "      <td>2010</td>\n",
       "      <td>NH</td>\n",
       "      <td>New Hampshire</td>\n",
       "      <td>Overarching Conditions</td>\n",
       "      <td>High school completion among adults aged 18-24...</td>\n",
       "      <td>%</td>\n",
       "      <td>88.6</td>\n",
       "      <td>Gender</td>\n",
       "      <td>43.655950</td>\n",
       "      <td>-71.500361</td>\n",
       "    </tr>\n",
       "    <tr>\n",
       "      <th>123331</th>\n",
       "      <td>2010</td>\n",
       "      <td>2010</td>\n",
       "      <td>NJ</td>\n",
       "      <td>New Jersey</td>\n",
       "      <td>Overarching Conditions</td>\n",
       "      <td>High school completion among adults aged 18-24...</td>\n",
       "      <td>%</td>\n",
       "      <td>89.0</td>\n",
       "      <td>Gender</td>\n",
       "      <td>40.130570</td>\n",
       "      <td>-74.273691</td>\n",
       "    </tr>\n",
       "    <tr>\n",
       "      <th>123332</th>\n",
       "      <td>2010</td>\n",
       "      <td>2010</td>\n",
       "      <td>NM</td>\n",
       "      <td>New Mexico</td>\n",
       "      <td>Overarching Conditions</td>\n",
       "      <td>High school completion among adults aged 18-24...</td>\n",
       "      <td>%</td>\n",
       "      <td>81.1</td>\n",
       "      <td>Gender</td>\n",
       "      <td>34.520881</td>\n",
       "      <td>-106.240581</td>\n",
       "    </tr>\n",
       "    <tr>\n",
       "      <th>123333</th>\n",
       "      <td>2010</td>\n",
       "      <td>2010</td>\n",
       "      <td>NV</td>\n",
       "      <td>Nevada</td>\n",
       "      <td>Overarching Conditions</td>\n",
       "      <td>High school completion among adults aged 18-24...</td>\n",
       "      <td>%</td>\n",
       "      <td>81.8</td>\n",
       "      <td>Gender</td>\n",
       "      <td>39.493240</td>\n",
       "      <td>-117.071841</td>\n",
       "    </tr>\n",
       "    <tr>\n",
       "      <th>123334</th>\n",
       "      <td>2010</td>\n",
       "      <td>2010</td>\n",
       "      <td>NY</td>\n",
       "      <td>New York</td>\n",
       "      <td>Overarching Conditions</td>\n",
       "      <td>High school completion among adults aged 18-24...</td>\n",
       "      <td>%</td>\n",
       "      <td>87.8</td>\n",
       "      <td>Gender</td>\n",
       "      <td>42.827001</td>\n",
       "      <td>-75.543970</td>\n",
       "    </tr>\n",
       "    <tr>\n",
       "      <th>123335</th>\n",
       "      <td>2010</td>\n",
       "      <td>2010</td>\n",
       "      <td>OH</td>\n",
       "      <td>Ohio</td>\n",
       "      <td>Overarching Conditions</td>\n",
       "      <td>High school completion among adults aged 18-24...</td>\n",
       "      <td>%</td>\n",
       "      <td>85.8</td>\n",
       "      <td>Gender</td>\n",
       "      <td>40.060210</td>\n",
       "      <td>-82.404260</td>\n",
       "    </tr>\n",
       "    <tr>\n",
       "      <th>123336</th>\n",
       "      <td>2010</td>\n",
       "      <td>2010</td>\n",
       "      <td>OK</td>\n",
       "      <td>Oklahoma</td>\n",
       "      <td>Overarching Conditions</td>\n",
       "      <td>High school completion among adults aged 18-24...</td>\n",
       "      <td>%</td>\n",
       "      <td>84.6</td>\n",
       "      <td>Gender</td>\n",
       "      <td>35.472031</td>\n",
       "      <td>-97.521070</td>\n",
       "    </tr>\n",
       "    <tr>\n",
       "      <th>123337</th>\n",
       "      <td>2010</td>\n",
       "      <td>2010</td>\n",
       "      <td>OR</td>\n",
       "      <td>Oregon</td>\n",
       "      <td>Overarching Conditions</td>\n",
       "      <td>High school completion among adults aged 18-24...</td>\n",
       "      <td>%</td>\n",
       "      <td>85.6</td>\n",
       "      <td>Gender</td>\n",
       "      <td>44.567449</td>\n",
       "      <td>-120.155031</td>\n",
       "    </tr>\n",
       "    <tr>\n",
       "      <th>123338</th>\n",
       "      <td>2010</td>\n",
       "      <td>2010</td>\n",
       "      <td>PA</td>\n",
       "      <td>Pennsylvania</td>\n",
       "      <td>Overarching Conditions</td>\n",
       "      <td>High school completion among adults aged 18-24...</td>\n",
       "      <td>%</td>\n",
       "      <td>88.5</td>\n",
       "      <td>Gender</td>\n",
       "      <td>40.793730</td>\n",
       "      <td>-77.860700</td>\n",
       "    </tr>\n",
       "    <tr>\n",
       "      <th>123339</th>\n",
       "      <td>2010</td>\n",
       "      <td>2010</td>\n",
       "      <td>PR</td>\n",
       "      <td>Puerto Rico</td>\n",
       "      <td>Overarching Conditions</td>\n",
       "      <td>High school completion among adults aged 18-24...</td>\n",
       "      <td>%</td>\n",
       "      <td>86.8</td>\n",
       "      <td>Gender</td>\n",
       "      <td>18.220833</td>\n",
       "      <td>-66.590149</td>\n",
       "    </tr>\n",
       "    <tr>\n",
       "      <th>123340</th>\n",
       "      <td>2010</td>\n",
       "      <td>2010</td>\n",
       "      <td>RI</td>\n",
       "      <td>Rhode Island</td>\n",
       "      <td>Overarching Conditions</td>\n",
       "      <td>High school completion among adults aged 18-24...</td>\n",
       "      <td>%</td>\n",
       "      <td>90.3</td>\n",
       "      <td>Gender</td>\n",
       "      <td>41.708280</td>\n",
       "      <td>-71.522470</td>\n",
       "    </tr>\n",
       "    <tr>\n",
       "      <th>123341</th>\n",
       "      <td>2010</td>\n",
       "      <td>2010</td>\n",
       "      <td>SC</td>\n",
       "      <td>South Carolina</td>\n",
       "      <td>Overarching Conditions</td>\n",
       "      <td>High school completion among adults aged 18-24...</td>\n",
       "      <td>%</td>\n",
       "      <td>83.3</td>\n",
       "      <td>Gender</td>\n",
       "      <td>33.998821</td>\n",
       "      <td>-81.045371</td>\n",
       "    </tr>\n",
       "    <tr>\n",
       "      <th>123342</th>\n",
       "      <td>2010</td>\n",
       "      <td>2010</td>\n",
       "      <td>SD</td>\n",
       "      <td>South Dakota</td>\n",
       "      <td>Overarching Conditions</td>\n",
       "      <td>High school completion among adults aged 18-24...</td>\n",
       "      <td>%</td>\n",
       "      <td>84.5</td>\n",
       "      <td>Gender</td>\n",
       "      <td>44.353130</td>\n",
       "      <td>-100.373531</td>\n",
       "    </tr>\n",
       "    <tr>\n",
       "      <th>123343</th>\n",
       "      <td>2010</td>\n",
       "      <td>2010</td>\n",
       "      <td>TN</td>\n",
       "      <td>Tennessee</td>\n",
       "      <td>Overarching Conditions</td>\n",
       "      <td>High school completion among adults aged 18-24...</td>\n",
       "      <td>%</td>\n",
       "      <td>86.3</td>\n",
       "      <td>Gender</td>\n",
       "      <td>35.680941</td>\n",
       "      <td>-85.774491</td>\n",
       "    </tr>\n",
       "    <tr>\n",
       "      <th>123344</th>\n",
       "      <td>2010</td>\n",
       "      <td>2010</td>\n",
       "      <td>TX</td>\n",
       "      <td>Texas</td>\n",
       "      <td>Overarching Conditions</td>\n",
       "      <td>High school completion among adults aged 18-24...</td>\n",
       "      <td>%</td>\n",
       "      <td>83.1</td>\n",
       "      <td>Gender</td>\n",
       "      <td>31.827240</td>\n",
       "      <td>-99.426770</td>\n",
       "    </tr>\n",
       "    <tr>\n",
       "      <th>123345</th>\n",
       "      <td>2010</td>\n",
       "      <td>2010</td>\n",
       "      <td>UT</td>\n",
       "      <td>Utah</td>\n",
       "      <td>Overarching Conditions</td>\n",
       "      <td>High school completion among adults aged 18-24...</td>\n",
       "      <td>%</td>\n",
       "      <td>87.8</td>\n",
       "      <td>Gender</td>\n",
       "      <td>39.360700</td>\n",
       "      <td>-111.587131</td>\n",
       "    </tr>\n",
       "    <tr>\n",
       "      <th>123346</th>\n",
       "      <td>2010</td>\n",
       "      <td>2010</td>\n",
       "      <td>VA</td>\n",
       "      <td>Virginia</td>\n",
       "      <td>Overarching Conditions</td>\n",
       "      <td>High school completion among adults aged 18-24...</td>\n",
       "      <td>%</td>\n",
       "      <td>89.5</td>\n",
       "      <td>Gender</td>\n",
       "      <td>37.542681</td>\n",
       "      <td>-78.457890</td>\n",
       "    </tr>\n",
       "    <tr>\n",
       "      <th>123347</th>\n",
       "      <td>2010</td>\n",
       "      <td>2010</td>\n",
       "      <td>VT</td>\n",
       "      <td>Vermont</td>\n",
       "      <td>Overarching Conditions</td>\n",
       "      <td>High school completion among adults aged 18-24...</td>\n",
       "      <td>%</td>\n",
       "      <td>94.2</td>\n",
       "      <td>Gender</td>\n",
       "      <td>43.625381</td>\n",
       "      <td>-72.517641</td>\n",
       "    </tr>\n",
       "    <tr>\n",
       "      <th>123348</th>\n",
       "      <td>2010</td>\n",
       "      <td>2010</td>\n",
       "      <td>WA</td>\n",
       "      <td>Washington</td>\n",
       "      <td>Overarching Conditions</td>\n",
       "      <td>High school completion among adults aged 18-24...</td>\n",
       "      <td>%</td>\n",
       "      <td>85.4</td>\n",
       "      <td>Gender</td>\n",
       "      <td>47.522279</td>\n",
       "      <td>-120.470011</td>\n",
       "    </tr>\n",
       "    <tr>\n",
       "      <th>123349</th>\n",
       "      <td>2010</td>\n",
       "      <td>2010</td>\n",
       "      <td>WI</td>\n",
       "      <td>Wisconsin</td>\n",
       "      <td>Overarching Conditions</td>\n",
       "      <td>High school completion among adults aged 18-24...</td>\n",
       "      <td>%</td>\n",
       "      <td>89.4</td>\n",
       "      <td>Gender</td>\n",
       "      <td>44.393191</td>\n",
       "      <td>-89.816371</td>\n",
       "    </tr>\n",
       "    <tr>\n",
       "      <th>123350</th>\n",
       "      <td>2010</td>\n",
       "      <td>2010</td>\n",
       "      <td>WV</td>\n",
       "      <td>West Virginia</td>\n",
       "      <td>Overarching Conditions</td>\n",
       "      <td>High school completion among adults aged 18-24...</td>\n",
       "      <td>%</td>\n",
       "      <td>84.1</td>\n",
       "      <td>Gender</td>\n",
       "      <td>38.665510</td>\n",
       "      <td>-80.712640</td>\n",
       "    </tr>\n",
       "    <tr>\n",
       "      <th>123351</th>\n",
       "      <td>2010</td>\n",
       "      <td>2010</td>\n",
       "      <td>WY</td>\n",
       "      <td>Wyoming</td>\n",
       "      <td>Overarching Conditions</td>\n",
       "      <td>High school completion among adults aged 18-24...</td>\n",
       "      <td>%</td>\n",
       "      <td>85.7</td>\n",
       "      <td>Gender</td>\n",
       "      <td>43.235541</td>\n",
       "      <td>-108.109830</td>\n",
       "    </tr>\n",
       "  </tbody>\n",
       "</table>\n",
       "<p>117995 rows × 11 columns</p>\n",
       "</div>"
      ],
      "text/plain": [
       "        YearStart  YearEnd LocationAbbr          LocationDesc  \\\n",
       "0            2016     2016           AL               Alabama   \n",
       "1            2016     2016           AK                Alaska   \n",
       "2            2016     2016           AZ               Arizona   \n",
       "3            2016     2016           AR              Arkansas   \n",
       "4            2016     2016           CA            California   \n",
       "5            2016     2016           CO              Colorado   \n",
       "6            2016     2016           CT           Connecticut   \n",
       "7            2016     2016           DE              Delaware   \n",
       "8            2016     2016           DC  District of Columbia   \n",
       "9            2016     2016           FL               Florida   \n",
       "10           2016     2016           GA               Georgia   \n",
       "11           2016     2016           HI                Hawaii   \n",
       "12           2016     2016           ID                 Idaho   \n",
       "13           2016     2016           IL              Illinois   \n",
       "14           2016     2016           IN               Indiana   \n",
       "15           2016     2016           IA                  Iowa   \n",
       "16           2016     2016           KS                Kansas   \n",
       "17           2016     2016           KY              Kentucky   \n",
       "18           2016     2016           LA             Louisiana   \n",
       "19           2016     2016           ME                 Maine   \n",
       "20           2016     2016           MD              Maryland   \n",
       "21           2016     2016           MA         Massachusetts   \n",
       "22           2016     2016           MI              Michigan   \n",
       "23           2016     2016           MN             Minnesota   \n",
       "24           2016     2016           MS           Mississippi   \n",
       "25           2016     2016           MO              Missouri   \n",
       "26           2016     2016           MT               Montana   \n",
       "27           2016     2016           NE              Nebraska   \n",
       "28           2016     2016           NV                Nevada   \n",
       "29           2016     2016           NH         New Hampshire   \n",
       "...           ...      ...          ...                   ...   \n",
       "123322       2010     2010           MI              Michigan   \n",
       "123323       2010     2010           MN             Minnesota   \n",
       "123324       2010     2010           MO              Missouri   \n",
       "123325       2010     2010           MS           Mississippi   \n",
       "123326       2010     2010           MT               Montana   \n",
       "123327       2010     2010           NC        North Carolina   \n",
       "123328       2010     2010           ND          North Dakota   \n",
       "123329       2010     2010           NE              Nebraska   \n",
       "123330       2010     2010           NH         New Hampshire   \n",
       "123331       2010     2010           NJ            New Jersey   \n",
       "123332       2010     2010           NM            New Mexico   \n",
       "123333       2010     2010           NV                Nevada   \n",
       "123334       2010     2010           NY              New York   \n",
       "123335       2010     2010           OH                  Ohio   \n",
       "123336       2010     2010           OK              Oklahoma   \n",
       "123337       2010     2010           OR                Oregon   \n",
       "123338       2010     2010           PA          Pennsylvania   \n",
       "123339       2010     2010           PR           Puerto Rico   \n",
       "123340       2010     2010           RI          Rhode Island   \n",
       "123341       2010     2010           SC        South Carolina   \n",
       "123342       2010     2010           SD          South Dakota   \n",
       "123343       2010     2010           TN             Tennessee   \n",
       "123344       2010     2010           TX                 Texas   \n",
       "123345       2010     2010           UT                  Utah   \n",
       "123346       2010     2010           VA              Virginia   \n",
       "123347       2010     2010           VT               Vermont   \n",
       "123348       2010     2010           WA            Washington   \n",
       "123349       2010     2010           WI             Wisconsin   \n",
       "123350       2010     2010           WV         West Virginia   \n",
       "123351       2010     2010           WY               Wyoming   \n",
       "\n",
       "                         Topic  \\\n",
       "0                      Alcohol   \n",
       "1                      Alcohol   \n",
       "2                      Alcohol   \n",
       "3                      Alcohol   \n",
       "4                      Alcohol   \n",
       "5                      Alcohol   \n",
       "6                      Alcohol   \n",
       "7                      Alcohol   \n",
       "8                      Alcohol   \n",
       "9                      Alcohol   \n",
       "10                     Alcohol   \n",
       "11                     Alcohol   \n",
       "12                     Alcohol   \n",
       "13                     Alcohol   \n",
       "14                     Alcohol   \n",
       "15                     Alcohol   \n",
       "16                     Alcohol   \n",
       "17                     Alcohol   \n",
       "18                     Alcohol   \n",
       "19                     Alcohol   \n",
       "20                     Alcohol   \n",
       "21                     Alcohol   \n",
       "22                     Alcohol   \n",
       "23                     Alcohol   \n",
       "24                     Alcohol   \n",
       "25                     Alcohol   \n",
       "26                     Alcohol   \n",
       "27                     Alcohol   \n",
       "28                     Alcohol   \n",
       "29                     Alcohol   \n",
       "...                        ...   \n",
       "123322  Overarching Conditions   \n",
       "123323  Overarching Conditions   \n",
       "123324  Overarching Conditions   \n",
       "123325  Overarching Conditions   \n",
       "123326  Overarching Conditions   \n",
       "123327  Overarching Conditions   \n",
       "123328  Overarching Conditions   \n",
       "123329  Overarching Conditions   \n",
       "123330  Overarching Conditions   \n",
       "123331  Overarching Conditions   \n",
       "123332  Overarching Conditions   \n",
       "123333  Overarching Conditions   \n",
       "123334  Overarching Conditions   \n",
       "123335  Overarching Conditions   \n",
       "123336  Overarching Conditions   \n",
       "123337  Overarching Conditions   \n",
       "123338  Overarching Conditions   \n",
       "123339  Overarching Conditions   \n",
       "123340  Overarching Conditions   \n",
       "123341  Overarching Conditions   \n",
       "123342  Overarching Conditions   \n",
       "123343  Overarching Conditions   \n",
       "123344  Overarching Conditions   \n",
       "123345  Overarching Conditions   \n",
       "123346  Overarching Conditions   \n",
       "123347  Overarching Conditions   \n",
       "123348  Overarching Conditions   \n",
       "123349  Overarching Conditions   \n",
       "123350  Overarching Conditions   \n",
       "123351  Overarching Conditions   \n",
       "\n",
       "                                                 Question DataValueUnit  \\\n",
       "0       Binge drinking prevalence among adults aged >=...             %   \n",
       "1       Binge drinking prevalence among adults aged >=...             %   \n",
       "2       Binge drinking prevalence among adults aged >=...             %   \n",
       "3       Binge drinking prevalence among adults aged >=...             %   \n",
       "4       Binge drinking prevalence among adults aged >=...             %   \n",
       "5       Binge drinking prevalence among adults aged >=...             %   \n",
       "6       Binge drinking prevalence among adults aged >=...             %   \n",
       "7       Binge drinking prevalence among adults aged >=...             %   \n",
       "8       Binge drinking prevalence among adults aged >=...             %   \n",
       "9       Binge drinking prevalence among adults aged >=...             %   \n",
       "10      Binge drinking prevalence among adults aged >=...             %   \n",
       "11      Binge drinking prevalence among adults aged >=...             %   \n",
       "12      Binge drinking prevalence among adults aged >=...             %   \n",
       "13      Binge drinking prevalence among adults aged >=...             %   \n",
       "14      Binge drinking prevalence among adults aged >=...             %   \n",
       "15      Binge drinking prevalence among adults aged >=...             %   \n",
       "16      Binge drinking prevalence among adults aged >=...             %   \n",
       "17      Binge drinking prevalence among adults aged >=...             %   \n",
       "18      Binge drinking prevalence among adults aged >=...             %   \n",
       "19      Binge drinking prevalence among adults aged >=...             %   \n",
       "20      Binge drinking prevalence among adults aged >=...             %   \n",
       "21      Binge drinking prevalence among adults aged >=...             %   \n",
       "22      Binge drinking prevalence among adults aged >=...             %   \n",
       "23      Binge drinking prevalence among adults aged >=...             %   \n",
       "24      Binge drinking prevalence among adults aged >=...             %   \n",
       "25      Binge drinking prevalence among adults aged >=...             %   \n",
       "26      Binge drinking prevalence among adults aged >=...             %   \n",
       "27      Binge drinking prevalence among adults aged >=...             %   \n",
       "28      Binge drinking prevalence among adults aged >=...             %   \n",
       "29      Binge drinking prevalence among adults aged >=...             %   \n",
       "...                                                   ...           ...   \n",
       "123322  High school completion among adults aged 18-24...             %   \n",
       "123323  High school completion among adults aged 18-24...             %   \n",
       "123324  High school completion among adults aged 18-24...             %   \n",
       "123325  High school completion among adults aged 18-24...             %   \n",
       "123326  High school completion among adults aged 18-24...             %   \n",
       "123327  High school completion among adults aged 18-24...             %   \n",
       "123328  High school completion among adults aged 18-24...             %   \n",
       "123329  High school completion among adults aged 18-24...             %   \n",
       "123330  High school completion among adults aged 18-24...             %   \n",
       "123331  High school completion among adults aged 18-24...             %   \n",
       "123332  High school completion among adults aged 18-24...             %   \n",
       "123333  High school completion among adults aged 18-24...             %   \n",
       "123334  High school completion among adults aged 18-24...             %   \n",
       "123335  High school completion among adults aged 18-24...             %   \n",
       "123336  High school completion among adults aged 18-24...             %   \n",
       "123337  High school completion among adults aged 18-24...             %   \n",
       "123338  High school completion among adults aged 18-24...             %   \n",
       "123339  High school completion among adults aged 18-24...             %   \n",
       "123340  High school completion among adults aged 18-24...             %   \n",
       "123341  High school completion among adults aged 18-24...             %   \n",
       "123342  High school completion among adults aged 18-24...             %   \n",
       "123343  High school completion among adults aged 18-24...             %   \n",
       "123344  High school completion among adults aged 18-24...             %   \n",
       "123345  High school completion among adults aged 18-24...             %   \n",
       "123346  High school completion among adults aged 18-24...             %   \n",
       "123347  High school completion among adults aged 18-24...             %   \n",
       "123348  High school completion among adults aged 18-24...             %   \n",
       "123349  High school completion among adults aged 18-24...             %   \n",
       "123350  High school completion among adults aged 18-24...             %   \n",
       "123351  High school completion among adults aged 18-24...             %   \n",
       "\n",
       "        DataValue StratificationCategory1   Latitude   Longitude  \n",
       "0            13.0                 Overall  32.840571  -86.631861  \n",
       "1            18.2                 Overall  64.845080 -147.722059  \n",
       "2            15.6                 Overall  34.865970 -111.763811  \n",
       "3            15.0                 Overall  34.748650  -92.274491  \n",
       "4            16.3                 Overall  37.638640 -121.000000  \n",
       "5            19.0                 Overall  38.843841 -106.133611  \n",
       "6            16.7                 Overall  41.562661  -72.649841  \n",
       "7            17.0                 Overall  39.008831  -75.577741  \n",
       "8            25.6                 Overall  38.907192  -77.036871  \n",
       "9            15.5                 Overall  28.932040  -81.928961  \n",
       "10           13.3                 Overall  32.839681  -83.627580  \n",
       "11           18.6                 Overall  21.304850 -157.857749  \n",
       "12           16.1                 Overall  43.682630 -114.363730  \n",
       "13           19.9                 Overall  40.485010  -88.997710  \n",
       "14           17.5                 Overall  39.766910  -86.149960  \n",
       "15           21.2                 Overall  42.469401  -93.816491  \n",
       "16           16.0                 Overall  38.347740  -98.200781  \n",
       "17           14.6                 Overall  37.645970  -84.774971  \n",
       "18           16.9                 Overall  31.312661  -92.445680  \n",
       "19           18.3                 Overall  45.254229  -68.985031  \n",
       "20           15.3                 Overall  39.290581  -76.609260  \n",
       "21           17.8                 Overall  42.276870  -72.082691  \n",
       "22           19.0                 Overall  44.661320  -84.714390  \n",
       "23           21.3                 Overall  46.355649  -94.794201  \n",
       "24           12.3                 Overall  32.745510  -89.538031  \n",
       "25           18.4                 Overall  38.635791  -92.566300  \n",
       "26           18.9                 Overall  47.066529 -109.424421  \n",
       "27           20.0                 Overall  41.641041  -99.365721  \n",
       "28           15.8                 Overall  39.493240 -117.071841  \n",
       "29           18.0                 Overall  43.655950  -71.500361  \n",
       "...           ...                     ...        ...         ...  \n",
       "123322       87.3                  Gender  44.661320  -84.714390  \n",
       "123323       89.6                  Gender  46.355649  -94.794201  \n",
       "123324       86.8                  Gender  38.635791  -92.566300  \n",
       "123325       84.5                  Gender  32.745510  -89.538031  \n",
       "123326       84.4                  Gender  47.066529 -109.424421  \n",
       "123327       85.5                  Gender  35.466221  -79.159250  \n",
       "123328       93.4                  Gender  47.475320 -100.118421  \n",
       "123329       88.7                  Gender  41.641041  -99.365721  \n",
       "123330       88.6                  Gender  43.655950  -71.500361  \n",
       "123331       89.0                  Gender  40.130570  -74.273691  \n",
       "123332       81.1                  Gender  34.520881 -106.240581  \n",
       "123333       81.8                  Gender  39.493240 -117.071841  \n",
       "123334       87.8                  Gender  42.827001  -75.543970  \n",
       "123335       85.8                  Gender  40.060210  -82.404260  \n",
       "123336       84.6                  Gender  35.472031  -97.521070  \n",
       "123337       85.6                  Gender  44.567449 -120.155031  \n",
       "123338       88.5                  Gender  40.793730  -77.860700  \n",
       "123339       86.8                  Gender  18.220833  -66.590149  \n",
       "123340       90.3                  Gender  41.708280  -71.522470  \n",
       "123341       83.3                  Gender  33.998821  -81.045371  \n",
       "123342       84.5                  Gender  44.353130 -100.373531  \n",
       "123343       86.3                  Gender  35.680941  -85.774491  \n",
       "123344       83.1                  Gender  31.827240  -99.426770  \n",
       "123345       87.8                  Gender  39.360700 -111.587131  \n",
       "123346       89.5                  Gender  37.542681  -78.457890  \n",
       "123347       94.2                  Gender  43.625381  -72.517641  \n",
       "123348       85.4                  Gender  47.522279 -120.470011  \n",
       "123349       89.4                  Gender  44.393191  -89.816371  \n",
       "123350       84.1                  Gender  38.665510  -80.712640  \n",
       "123351       85.7                  Gender  43.235541 -108.109830  \n",
       "\n",
       "[117995 rows x 11 columns]"
      ]
     },
     "execution_count": 5,
     "metadata": {},
     "output_type": "execute_result"
    }
   ],
   "source": [
    "#Drop duplicates to confirm there are no multiples by 'YearStart', 'YearEnd', 'LocationAbbr', 'LocationDesc', 'Topic', 'DataValue'\n",
    "csv_df.drop_duplicates(subset=['YearStart', 'YearEnd', 'LocationAbbr', 'LocationDesc', 'Topic', 'DataValue' ], keep=\"first\")"
   ]
  },
  {
   "cell_type": "code",
   "execution_count": 6,
   "metadata": {},
   "outputs": [],
   "source": [
    "# csv_df.count"
   ]
  },
  {
   "cell_type": "code",
   "execution_count": 7,
   "metadata": {},
   "outputs": [
    {
     "data": {
      "text/plain": [
       "array(['AL', 'AK', 'AZ', 'AR', 'CA', 'CO', 'CT', 'DE', 'DC', 'FL', 'GA',\n",
       "       'HI', 'ID', 'IL', 'IN', 'IA', 'KS', 'KY', 'LA', 'ME', 'MD', 'MA',\n",
       "       'MI', 'MN', 'MS', 'MO', 'MT', 'NE', 'NV', 'NH', 'NJ', 'NM', 'NY',\n",
       "       'NC', 'ND', 'OH', 'OK', 'OR', 'PA', 'RI', 'SC', 'SD', 'TN', 'TX',\n",
       "       'UT', 'VT', 'VA', 'WA', 'WV', 'WI', 'WY', 'GU', 'PR', 'VI'],\n",
       "      dtype=object)"
      ]
     },
     "execution_count": 7,
     "metadata": {},
     "output_type": "execute_result"
    }
   ],
   "source": [
    "csv_df[\"LocationAbbr\"].unique()"
   ]
  },
  {
   "cell_type": "code",
   "execution_count": 8,
   "metadata": {},
   "outputs": [],
   "source": [
    "# csv_df.head()"
   ]
  },
  {
   "cell_type": "code",
   "execution_count": 9,
   "metadata": {},
   "outputs": [],
   "source": [
    "# csv_df.duplicated()"
   ]
  },
  {
   "cell_type": "code",
   "execution_count": 67,
   "metadata": {},
   "outputs": [],
   "source": [
    "grouped_by_abbreviation = csv_df.groupby(\"YearStart\")"
   ]
  },
  {
   "cell_type": "code",
   "execution_count": 11,
   "metadata": {},
   "outputs": [
    {
     "data": {
      "text/plain": [
       "YearStart\n",
       "2010     1173.40\n",
       "2011    12900.08\n",
       "2012    14770.10\n",
       "2013    17020.17\n",
       "2014    14917.00\n",
       "2015    13801.10\n",
       "2016    12123.60\n",
       "Name: DataValue, dtype: float64"
      ]
     },
     "execution_count": 11,
     "metadata": {},
     "output_type": "execute_result"
    }
   ],
   "source": [
    "2012 = grouped_by_abbreviation.get_group(\"2012\")\n",
    "\n",
    "2012.groupby(\"LocationAbbr\")[\"DataValue\"].sum()\n"
   ]
  },
  {
   "cell_type": "code",
   "execution_count": 12,
   "metadata": {},
   "outputs": [
    {
     "data": {
      "text/plain": [
       "YearStart\n",
       "2010     1351.20\n",
       "2011    16889.54\n",
       "2012    16915.10\n",
       "2013    18410.95\n",
       "2014    16044.30\n",
       "2015    17780.30\n",
       "2016    16503.60\n",
       "Name: DataValue, dtype: float64"
      ]
     },
     "execution_count": 12,
     "metadata": {},
     "output_type": "execute_result"
    }
   ],
   "source": [
    "AL = grouped_by_abbreviation.get_group(\"AL\")\n",
    "\n",
    "AL.groupby(\"YearStart\")[\"DataValue\"].sum()"
   ]
  },
  {
   "cell_type": "code",
   "execution_count": 13,
   "metadata": {},
   "outputs": [
    {
     "data": {
      "text/plain": [
       "YearStart\n",
       "2010    45.486667\n",
       "2011    41.830512\n",
       "2012    39.701084\n",
       "2013    41.870905\n",
       "2014    41.928105\n",
       "2015    40.534545\n",
       "2016    38.897632\n",
       "Name: DataValue, dtype: float64"
      ]
     },
     "execution_count": 13,
     "metadata": {},
     "output_type": "execute_result"
    }
   ],
   "source": [
    "AZ = grouped_by_abbreviation.get_group(\"AZ\")\n",
    "\n",
    "AZ.groupby(\"YearStart\")[\"DataValue\"].mean()"
   ]
  },
  {
   "cell_type": "code",
   "execution_count": 14,
   "metadata": {},
   "outputs": [
    {
     "data": {
      "text/plain": [
       "YearStart\n",
       "2009      216.50\n",
       "2010     1290.10\n",
       "2011    15348.56\n",
       "2012    15889.50\n",
       "2013    17940.21\n",
       "2014    15745.60\n",
       "2015    16250.00\n",
       "2016    13735.40\n",
       "Name: DataValue, dtype: float64"
      ]
     },
     "execution_count": 14,
     "metadata": {},
     "output_type": "execute_result"
    }
   ],
   "source": [
    "AR = grouped_by_abbreviation.get_group(\"AR\")\n",
    "\n",
    "AR.groupby(\"YearStart\")[\"DataValue\"].sum()"
   ]
  },
  {
   "cell_type": "code",
   "execution_count": 15,
   "metadata": {},
   "outputs": [
    {
     "data": {
      "text/plain": [
       "YearStart\n",
       "2010     1392.70\n",
       "2011    17621.02\n",
       "2012    17415.70\n",
       "2013    17121.60\n",
       "2014    16632.00\n",
       "2015    19077.30\n",
       "2016    16151.90\n",
       "Name: DataValue, dtype: float64"
      ]
     },
     "execution_count": 15,
     "metadata": {},
     "output_type": "execute_result"
    }
   ],
   "source": [
    "CA = grouped_by_abbreviation.get_group(\"CA\")\n",
    "\n",
    "CA.groupby(\"YearStart\")[\"DataValue\"].sum()"
   ]
  },
  {
   "cell_type": "code",
   "execution_count": 16,
   "metadata": {},
   "outputs": [
    {
     "data": {
      "text/plain": [
       "YearStart\n",
       "2009      143.20\n",
       "2010     1230.80\n",
       "2011    14934.59\n",
       "2012    15999.60\n",
       "2013    17440.50\n",
       "2014    16934.50\n",
       "2015    18442.10\n",
       "2016    15639.70\n",
       "Name: DataValue, dtype: float64"
      ]
     },
     "execution_count": 16,
     "metadata": {},
     "output_type": "execute_result"
    }
   ],
   "source": [
    "CO = grouped_by_abbreviation.get_group(\"CO\")\n",
    "\n",
    "CO.groupby(\"YearStart\")[\"DataValue\"].sum()"
   ]
  },
  {
   "cell_type": "code",
   "execution_count": 17,
   "metadata": {},
   "outputs": [
    {
     "data": {
      "text/plain": [
       "YearStart\n",
       "2010     1320.90\n",
       "2011    15878.87\n",
       "2012    17457.50\n",
       "2013    17991.21\n",
       "2014    17473.70\n",
       "2015    18869.20\n",
       "2016    14927.00\n",
       "Name: DataValue, dtype: float64"
      ]
     },
     "execution_count": 17,
     "metadata": {},
     "output_type": "execute_result"
    }
   ],
   "source": [
    "CT = grouped_by_abbreviation.get_group(\"CT\")\n",
    "\n",
    "CT.groupby(\"YearStart\")[\"DataValue\"].sum()"
   ]
  },
  {
   "cell_type": "code",
   "execution_count": 18,
   "metadata": {},
   "outputs": [
    {
     "data": {
      "text/plain": [
       "YearStart\n",
       "2010     1182.50\n",
       "2011    15193.37\n",
       "2012    16275.40\n",
       "2013    18056.96\n",
       "2014    17514.40\n",
       "2015    16399.90\n",
       "2016    15129.30\n",
       "Name: DataValue, dtype: float64"
      ]
     },
     "execution_count": 18,
     "metadata": {},
     "output_type": "execute_result"
    }
   ],
   "source": [
    "DE = grouped_by_abbreviation.get_group(\"DE\")\n",
    "\n",
    "DE.groupby(\"YearStart\")[\"DataValue\"].sum()"
   ]
  },
  {
   "cell_type": "code",
   "execution_count": 19,
   "metadata": {},
   "outputs": [
    {
     "data": {
      "text/plain": [
       "YearStart\n",
       "2010     1109.50\n",
       "2011    15046.19\n",
       "2012    13439.30\n",
       "2013    16664.26\n",
       "2014    15045.70\n",
       "2015    15474.70\n",
       "2016    13587.60\n",
       "Name: DataValue, dtype: float64"
      ]
     },
     "execution_count": 19,
     "metadata": {},
     "output_type": "execute_result"
    }
   ],
   "source": [
    "DC = grouped_by_abbreviation.get_group(\"DC\")\n",
    "\n",
    "DC.groupby(\"YearStart\")[\"DataValue\"].sum()"
   ]
  },
  {
   "cell_type": "code",
   "execution_count": 20,
   "metadata": {},
   "outputs": [
    {
     "data": {
      "text/plain": [
       "YearStart\n",
       "2010     1368.90\n",
       "2011    17741.25\n",
       "2012    15375.70\n",
       "2013    23561.79\n",
       "2014    17690.90\n",
       "2015    18339.00\n",
       "2016    18693.80\n",
       "Name: DataValue, dtype: float64"
      ]
     },
     "execution_count": 20,
     "metadata": {},
     "output_type": "execute_result"
    }
   ],
   "source": [
    "FL = grouped_by_abbreviation.get_group(\"FL\")\n",
    "\n",
    "FL.groupby(\"YearStart\")[\"DataValue\"].sum()"
   ]
  },
  {
   "cell_type": "code",
   "execution_count": 21,
   "metadata": {},
   "outputs": [
    {
     "data": {
      "text/plain": [
       "YearStart\n",
       "2009      212.10\n",
       "2010     1325.20\n",
       "2011    16621.37\n",
       "2012    16594.20\n",
       "2013    19668.15\n",
       "2014    16421.50\n",
       "2015    17993.60\n",
       "2016    14960.00\n",
       "Name: DataValue, dtype: float64"
      ]
     },
     "execution_count": 21,
     "metadata": {},
     "output_type": "execute_result"
    }
   ],
   "source": [
    "GA = grouped_by_abbreviation.get_group(\"GA\")\n",
    "\n",
    "GA.groupby(\"YearStart\")[\"DataValue\"].sum()"
   ]
  },
  {
   "cell_type": "code",
   "execution_count": 22,
   "metadata": {},
   "outputs": [
    {
     "data": {
      "text/plain": [
       "YearStart\n",
       "2009      248.00\n",
       "2010     1166.50\n",
       "2011    17349.09\n",
       "2012    17889.60\n",
       "2013    20561.47\n",
       "2014    17325.90\n",
       "2015    20340.70\n",
       "2016    16396.50\n",
       "Name: DataValue, dtype: float64"
      ]
     },
     "execution_count": 22,
     "metadata": {},
     "output_type": "execute_result"
    }
   ],
   "source": [
    "HI = grouped_by_abbreviation.get_group(\"HI\")\n",
    "\n",
    "HI.groupby(\"YearStart\")[\"DataValue\"].sum()"
   ]
  },
  {
   "cell_type": "code",
   "execution_count": 23,
   "metadata": {},
   "outputs": [
    {
     "data": {
      "text/plain": [
       "YearStart\n",
       "2010     1071.70\n",
       "2011    12110.01\n",
       "2012    12766.70\n",
       "2013    13566.63\n",
       "2014    12198.40\n",
       "2015    12869.90\n",
       "2016    11535.80\n",
       "Name: DataValue, dtype: float64"
      ]
     },
     "execution_count": 23,
     "metadata": {},
     "output_type": "execute_result"
    }
   ],
   "source": [
    "ID = grouped_by_abbreviation.get_group(\"ID\")\n",
    "\n",
    "ID.groupby(\"YearStart\")[\"DataValue\"].sum()"
   ]
  },
  {
   "cell_type": "code",
   "execution_count": 24,
   "metadata": {},
   "outputs": [
    {
     "data": {
      "text/plain": [
       "YearStart\n",
       "2010     1256.00\n",
       "2011    14217.87\n",
       "2012    13781.20\n",
       "2013    15380.90\n",
       "2014    15457.30\n",
       "2015    14614.70\n",
       "2016    13129.70\n",
       "Name: DataValue, dtype: float64"
      ]
     },
     "execution_count": 24,
     "metadata": {},
     "output_type": "execute_result"
    }
   ],
   "source": [
    "IA = grouped_by_abbreviation.get_group(\"IA\")\n",
    "\n",
    "IA.groupby(\"YearStart\")[\"DataValue\"].sum()"
   ]
  },
  {
   "cell_type": "code",
   "execution_count": 25,
   "metadata": {},
   "outputs": [
    {
     "data": {
      "text/plain": [
       "YearStart\n",
       "2010     1329.80\n",
       "2011    16315.26\n",
       "2012    15730.70\n",
       "2013    18208.10\n",
       "2014    17193.10\n",
       "2015    16810.10\n",
       "2016    15014.00\n",
       "Name: DataValue, dtype: float64"
      ]
     },
     "execution_count": 25,
     "metadata": {},
     "output_type": "execute_result"
    }
   ],
   "source": [
    "IN = grouped_by_abbreviation.get_group(\"IN\")\n",
    "\n",
    "IN.groupby(\"YearStart\")[\"DataValue\"].sum()"
   ]
  },
  {
   "cell_type": "code",
   "execution_count": 26,
   "metadata": {},
   "outputs": [
    {
     "data": {
      "text/plain": [
       "YearStart\n",
       "2010     1256.00\n",
       "2011    14217.87\n",
       "2012    13781.20\n",
       "2013    15380.90\n",
       "2014    15457.30\n",
       "2015    14614.70\n",
       "2016    13129.70\n",
       "Name: DataValue, dtype: float64"
      ]
     },
     "execution_count": 26,
     "metadata": {},
     "output_type": "execute_result"
    }
   ],
   "source": [
    "IA = grouped_by_abbreviation.get_group(\"IA\")\n",
    "\n",
    "IA.groupby(\"YearStart\")[\"DataValue\"].sum()"
   ]
  },
  {
   "cell_type": "code",
   "execution_count": 27,
   "metadata": {},
   "outputs": [
    {
     "data": {
      "text/plain": [
       "YearStart\n",
       "2010     1334.30\n",
       "2011    18171.27\n",
       "2012    18325.80\n",
       "2013    20047.18\n",
       "2014    16980.90\n",
       "2015    20948.50\n",
       "2016    15025.00\n",
       "Name: DataValue, dtype: float64"
      ]
     },
     "execution_count": 27,
     "metadata": {},
     "output_type": "execute_result"
    }
   ],
   "source": [
    "KS = grouped_by_abbreviation.get_group(\"KS\")\n",
    "\n",
    "KS.groupby(\"YearStart\")[\"DataValue\"].sum()"
   ]
  },
  {
   "cell_type": "code",
   "execution_count": 28,
   "metadata": {},
   "outputs": [
    {
     "data": {
      "text/plain": [
       "YearStart\n",
       "2010     1253.00\n",
       "2011    18473.93\n",
       "2012    18100.10\n",
       "2013    19126.58\n",
       "2014    16894.70\n",
       "2015    18542.80\n",
       "2016    16673.70\n",
       "Name: DataValue, dtype: float64"
      ]
     },
     "execution_count": 28,
     "metadata": {},
     "output_type": "execute_result"
    }
   ],
   "source": [
    "KY = grouped_by_abbreviation.get_group(\"KY\")\n",
    "\n",
    "KY.groupby(\"YearStart\")[\"DataValue\"].sum()"
   ]
  },
  {
   "cell_type": "code",
   "execution_count": 29,
   "metadata": {},
   "outputs": [
    {
     "data": {
      "text/plain": [
       "YearStart\n",
       "2010     1360.00\n",
       "2011    17591.46\n",
       "2012    15425.60\n",
       "2013    17327.47\n",
       "2014    17299.90\n",
       "2015    17430.90\n",
       "2016    15645.40\n",
       "Name: DataValue, dtype: float64"
      ]
     },
     "execution_count": 29,
     "metadata": {},
     "output_type": "execute_result"
    }
   ],
   "source": [
    "LA = grouped_by_abbreviation.get_group(\"LA\")\n",
    "\n",
    "LA.groupby(\"YearStart\")[\"DataValue\"].sum()"
   ]
  },
  {
   "cell_type": "code",
   "execution_count": 30,
   "metadata": {},
   "outputs": [
    {
     "data": {
      "text/plain": [
       "YearStart\n",
       "2009      153.10\n",
       "2010     1167.80\n",
       "2011    15224.57\n",
       "2012    14341.60\n",
       "2013    15192.04\n",
       "2014    14324.10\n",
       "2015    13765.50\n",
       "2016    12311.30\n",
       "Name: DataValue, dtype: float64"
      ]
     },
     "execution_count": 30,
     "metadata": {},
     "output_type": "execute_result"
    }
   ],
   "source": [
    "ME = grouped_by_abbreviation.get_group(\"ME\")\n",
    "\n",
    "ME.groupby(\"YearStart\")[\"DataValue\"].sum()"
   ]
  },
  {
   "cell_type": "code",
   "execution_count": 31,
   "metadata": {},
   "outputs": [
    {
     "data": {
      "text/plain": [
       "YearStart\n",
       "2009      153.40\n",
       "2010     1202.70\n",
       "2011    14823.04\n",
       "2012    16487.60\n",
       "2013    18564.92\n",
       "2014    17013.90\n",
       "2015    18388.00\n",
       "2016    16413.90\n",
       "Name: DataValue, dtype: float64"
      ]
     },
     "execution_count": 31,
     "metadata": {},
     "output_type": "execute_result"
    }
   ],
   "source": [
    "MD = grouped_by_abbreviation.get_group(\"MD\")\n",
    "\n",
    "MD.groupby(\"YearStart\")[\"DataValue\"].sum()"
   ]
  },
  {
   "cell_type": "code",
   "execution_count": 32,
   "metadata": {},
   "outputs": [
    {
     "data": {
      "text/plain": [
       "YearStart\n",
       "2010     1350.40\n",
       "2011    19533.68\n",
       "2012    18758.10\n",
       "2013    21212.78\n",
       "2014    18554.90\n",
       "2015    17078.90\n",
       "2016    16544.80\n",
       "Name: DataValue, dtype: float64"
      ]
     },
     "execution_count": 32,
     "metadata": {},
     "output_type": "execute_result"
    }
   ],
   "source": [
    "MA = grouped_by_abbreviation.get_group(\"MA\")\n",
    "\n",
    "MA.groupby(\"YearStart\")[\"DataValue\"].sum()"
   ]
  },
  {
   "cell_type": "code",
   "execution_count": 33,
   "metadata": {},
   "outputs": [
    {
     "data": {
      "text/plain": [
       "YearStart\n",
       "2009      240.40\n",
       "2010     1384.70\n",
       "2011    18012.02\n",
       "2012    18612.90\n",
       "2013    18734.11\n",
       "2014    16652.90\n",
       "2015    19426.50\n",
       "2016    17160.00\n",
       "Name: DataValue, dtype: float64"
      ]
     },
     "execution_count": 33,
     "metadata": {},
     "output_type": "execute_result"
    }
   ],
   "source": [
    "MI = grouped_by_abbreviation.get_group(\"MI\")\n",
    "\n",
    "MI.groupby(\"YearStart\")[\"DataValue\"].sum()"
   ]
  },
  {
   "cell_type": "code",
   "execution_count": 34,
   "metadata": {},
   "outputs": [
    {
     "data": {
      "text/plain": [
       "YearStart\n",
       "2009      257.70\n",
       "2010     1240.80\n",
       "2011    15947.88\n",
       "2012    16966.50\n",
       "2013    18395.60\n",
       "2014    16340.30\n",
       "2015    17711.10\n",
       "2016    15915.00\n",
       "Name: DataValue, dtype: float64"
      ]
     },
     "execution_count": 34,
     "metadata": {},
     "output_type": "execute_result"
    }
   ],
   "source": [
    "MN = grouped_by_abbreviation.get_group(\"MN\")\n",
    "\n",
    "MN.groupby(\"YearStart\")[\"DataValue\"].sum()"
   ]
  },
  {
   "cell_type": "code",
   "execution_count": 35,
   "metadata": {},
   "outputs": [
    {
     "data": {
      "text/plain": [
       "YearStart\n",
       "2010     1322.50\n",
       "2011    14968.71\n",
       "2012    15554.80\n",
       "2013    16509.41\n",
       "2014    14801.70\n",
       "2015    15218.50\n",
       "2016    14596.50\n",
       "Name: DataValue, dtype: float64"
      ]
     },
     "execution_count": 35,
     "metadata": {},
     "output_type": "execute_result"
    }
   ],
   "source": [
    "MS = grouped_by_abbreviation.get_group(\"MS\")\n",
    "\n",
    "MS.groupby(\"YearStart\")[\"DataValue\"].sum()"
   ]
  },
  {
   "cell_type": "code",
   "execution_count": 36,
   "metadata": {},
   "outputs": [
    {
     "data": {
      "text/plain": [
       "YearStart\n",
       "2009      231.90\n",
       "2010     1324.10\n",
       "2011    16362.20\n",
       "2012    15845.90\n",
       "2013    18489.45\n",
       "2014    15983.30\n",
       "2015    17086.20\n",
       "2016    14882.80\n",
       "Name: DataValue, dtype: float64"
      ]
     },
     "execution_count": 36,
     "metadata": {},
     "output_type": "execute_result"
    }
   ],
   "source": [
    "MO = grouped_by_abbreviation.get_group(\"MO\")\n",
    "\n",
    "MO.groupby(\"YearStart\")[\"DataValue\"].sum()"
   ]
  },
  {
   "cell_type": "code",
   "execution_count": 37,
   "metadata": {},
   "outputs": [
    {
     "data": {
      "text/plain": [
       "YearStart\n",
       "2010     1024.90\n",
       "2011    15879.08\n",
       "2012    14505.70\n",
       "2013    17411.23\n",
       "2014    14450.60\n",
       "2015    16536.30\n",
       "2016    13785.90\n",
       "Name: DataValue, dtype: float64"
      ]
     },
     "execution_count": 37,
     "metadata": {},
     "output_type": "execute_result"
    }
   ],
   "source": [
    "MT = grouped_by_abbreviation.get_group(\"MT\")\n",
    "\n",
    "MT.groupby(\"YearStart\")[\"DataValue\"].sum()"
   ]
  },
  {
   "cell_type": "code",
   "execution_count": 38,
   "metadata": {},
   "outputs": [
    {
     "data": {
      "text/plain": [
       "YearStart\n",
       "2009      152.80\n",
       "2010     1204.40\n",
       "2011    17757.20\n",
       "2012    17885.30\n",
       "2013    18526.35\n",
       "2014    18318.20\n",
       "2015    18369.50\n",
       "2016    14929.30\n",
       "Name: DataValue, dtype: float64"
      ]
     },
     "execution_count": 38,
     "metadata": {},
     "output_type": "execute_result"
    }
   ],
   "source": [
    "NE = grouped_by_abbreviation.get_group(\"NE\")\n",
    "\n",
    "NE.groupby(\"YearStart\")[\"DataValue\"].sum()"
   ]
  },
  {
   "cell_type": "code",
   "execution_count": 39,
   "metadata": {},
   "outputs": [
    {
     "data": {
      "text/plain": [
       "YearStart\n",
       "2010     1236.00\n",
       "2011    13545.65\n",
       "2012    15860.00\n",
       "2013    17176.28\n",
       "2014    13664.00\n",
       "2015    15103.80\n",
       "2016    13084.50\n",
       "Name: DataValue, dtype: float64"
      ]
     },
     "execution_count": 39,
     "metadata": {},
     "output_type": "execute_result"
    }
   ],
   "source": [
    "NV = grouped_by_abbreviation.get_group(\"NV\")\n",
    "\n",
    "NV.groupby(\"YearStart\")[\"DataValue\"].sum()"
   ]
  },
  {
   "cell_type": "code",
   "execution_count": 40,
   "metadata": {},
   "outputs": [
    {
     "data": {
      "text/plain": [
       "YearStart\n",
       "2010     1020.90\n",
       "2011    12829.11\n",
       "2012    12168.20\n",
       "2013    13456.38\n",
       "2014    12783.20\n",
       "2015    14926.00\n",
       "2016    11598.00\n",
       "Name: DataValue, dtype: float64"
      ]
     },
     "execution_count": 40,
     "metadata": {},
     "output_type": "execute_result"
    }
   ],
   "source": [
    "NH = grouped_by_abbreviation.get_group(\"NH\")\n",
    "\n",
    "NH.groupby(\"YearStart\")[\"DataValue\"].sum()"
   ]
  },
  {
   "cell_type": "code",
   "execution_count": 41,
   "metadata": {},
   "outputs": [
    {
     "data": {
      "text/plain": [
       "YearStart\n",
       "2009      237.70\n",
       "2010     1334.30\n",
       "2011    17789.26\n",
       "2012    18506.80\n",
       "2013    19452.96\n",
       "2014    19093.40\n",
       "2015    19824.60\n",
       "2016    16685.80\n",
       "Name: DataValue, dtype: float64"
      ]
     },
     "execution_count": 41,
     "metadata": {},
     "output_type": "execute_result"
    }
   ],
   "source": [
    "NJ = grouped_by_abbreviation.get_group(\"NJ\")\n",
    "\n",
    "NJ.groupby(\"YearStart\")[\"DataValue\"].sum()"
   ]
  },
  {
   "cell_type": "code",
   "execution_count": 42,
   "metadata": {},
   "outputs": [
    {
     "data": {
      "text/plain": [
       "YearStart\n",
       "2009      139.60\n",
       "2010     1261.90\n",
       "2011    17191.99\n",
       "2012    17343.80\n",
       "2013    19200.92\n",
       "2014    17837.50\n",
       "2015    18293.30\n",
       "2016    14391.90\n",
       "Name: DataValue, dtype: float64"
      ]
     },
     "execution_count": 42,
     "metadata": {},
     "output_type": "execute_result"
    }
   ],
   "source": [
    "NM = grouped_by_abbreviation.get_group(\"NM\")\n",
    "\n",
    "NM.groupby(\"YearStart\")[\"DataValue\"].sum()"
   ]
  },
  {
   "cell_type": "code",
   "execution_count": 43,
   "metadata": {},
   "outputs": [
    {
     "data": {
      "text/plain": [
       "YearStart\n",
       "2009      155.00\n",
       "2010     1367.40\n",
       "2011    15344.41\n",
       "2012    15112.00\n",
       "2013    16870.48\n",
       "2014    16621.20\n",
       "2015    20133.20\n",
       "2016    18721.80\n",
       "Name: DataValue, dtype: float64"
      ]
     },
     "execution_count": 43,
     "metadata": {},
     "output_type": "execute_result"
    }
   ],
   "source": [
    "NY = grouped_by_abbreviation.get_group(\"NY\")\n",
    "\n",
    "NY.groupby(\"YearStart\")[\"DataValue\"].sum()"
   ]
  },
  {
   "cell_type": "code",
   "execution_count": 44,
   "metadata": {},
   "outputs": [
    {
     "data": {
      "text/plain": [
       "YearStart\n",
       "2010     1424.90\n",
       "2011    18121.42\n",
       "2012    20028.80\n",
       "2013    20538.35\n",
       "2014    16793.70\n",
       "2015    18648.50\n",
       "2016    16098.80\n",
       "Name: DataValue, dtype: float64"
      ]
     },
     "execution_count": 44,
     "metadata": {},
     "output_type": "execute_result"
    }
   ],
   "source": [
    "NC = grouped_by_abbreviation.get_group(\"NC\")\n",
    "\n",
    "NC.groupby(\"YearStart\")[\"DataValue\"].sum()"
   ]
  },
  {
   "cell_type": "code",
   "execution_count": 45,
   "metadata": {},
   "outputs": [
    {
     "data": {
      "text/plain": [
       "YearStart\n",
       "2010     1017.30\n",
       "2011    12862.37\n",
       "2012    11393.40\n",
       "2013    15263.86\n",
       "2014    14605.20\n",
       "2015    12976.50\n",
       "2016    12458.80\n",
       "Name: DataValue, dtype: float64"
      ]
     },
     "execution_count": 45,
     "metadata": {},
     "output_type": "execute_result"
    }
   ],
   "source": [
    "ND = grouped_by_abbreviation.get_group(\"ND\")\n",
    "\n",
    "ND.groupby(\"YearStart\")[\"DataValue\"].sum()"
   ]
  },
  {
   "cell_type": "code",
   "execution_count": 46,
   "metadata": {},
   "outputs": [
    {
     "data": {
      "text/plain": [
       "YearStart\n",
       "2010     1377.80\n",
       "2011    16509.00\n",
       "2012    18546.00\n",
       "2013    19915.95\n",
       "2014    17550.80\n",
       "2015    17232.80\n",
       "2016    16857.60\n",
       "Name: DataValue, dtype: float64"
      ]
     },
     "execution_count": 46,
     "metadata": {},
     "output_type": "execute_result"
    }
   ],
   "source": [
    "OH = grouped_by_abbreviation.get_group(\"OH\")\n",
    "\n",
    "OH.groupby(\"YearStart\")[\"DataValue\"].sum()"
   ]
  },
  {
   "cell_type": "code",
   "execution_count": 47,
   "metadata": {},
   "outputs": [
    {
     "data": {
      "text/plain": [
       "YearStart\n",
       "2009      134.50\n",
       "2010     1376.10\n",
       "2011    20042.96\n",
       "2012    19739.90\n",
       "2013    22394.98\n",
       "2014    19615.10\n",
       "2015    20198.00\n",
       "2016    17411.40\n",
       "Name: DataValue, dtype: float64"
      ]
     },
     "execution_count": 47,
     "metadata": {},
     "output_type": "execute_result"
    }
   ],
   "source": [
    "OK = grouped_by_abbreviation.get_group(\"OK\")\n",
    "\n",
    "OK.groupby(\"YearStart\")[\"DataValue\"].sum()"
   ]
  },
  {
   "cell_type": "code",
   "execution_count": 48,
   "metadata": {},
   "outputs": [
    {
     "data": {
      "text/plain": [
       "YearStart\n",
       "2009      140.60\n",
       "2010     1288.70\n",
       "2011    14646.03\n",
       "2012    16301.90\n",
       "2013    15536.20\n",
       "2014    13959.50\n",
       "2015    14959.20\n",
       "2016    13396.80\n",
       "Name: DataValue, dtype: float64"
      ]
     },
     "execution_count": 48,
     "metadata": {},
     "output_type": "execute_result"
    }
   ],
   "source": [
    "OR = grouped_by_abbreviation.get_group(\"OR\")\n",
    "\n",
    "OR.groupby(\"YearStart\")[\"DataValue\"].sum()"
   ]
  },
  {
   "cell_type": "code",
   "execution_count": 49,
   "metadata": {},
   "outputs": [
    {
     "data": {
      "text/plain": [
       "YearStart\n",
       "2009      155.50\n",
       "2010     1364.90\n",
       "2011    17117.97\n",
       "2012    18950.70\n",
       "2013    19130.40\n",
       "2014    16389.30\n",
       "2015    16879.30\n",
       "2016    14659.50\n",
       "Name: DataValue, dtype: float64"
      ]
     },
     "execution_count": 49,
     "metadata": {},
     "output_type": "execute_result"
    }
   ],
   "source": [
    "PA = grouped_by_abbreviation.get_group(\"PA\")\n",
    "\n",
    "PA.groupby(\"YearStart\")[\"DataValue\"].sum()"
   ]
  },
  {
   "cell_type": "code",
   "execution_count": 50,
   "metadata": {},
   "outputs": [
    {
     "data": {
      "text/plain": [
       "YearStart\n",
       "2009      251.60\n",
       "2010     1196.50\n",
       "2011    15272.25\n",
       "2012    13807.00\n",
       "2013    16277.04\n",
       "2014    14970.50\n",
       "2015    16872.10\n",
       "2016    13292.60\n",
       "Name: DataValue, dtype: float64"
      ]
     },
     "execution_count": 50,
     "metadata": {},
     "output_type": "execute_result"
    }
   ],
   "source": [
    "RI = grouped_by_abbreviation.get_group(\"RI\")\n",
    "\n",
    "RI.groupby(\"YearStart\")[\"DataValue\"].sum()"
   ]
  },
  {
   "cell_type": "code",
   "execution_count": 51,
   "metadata": {},
   "outputs": [
    {
     "data": {
      "text/plain": [
       "YearStart\n",
       "2010     1292.40\n",
       "2011    17658.13\n",
       "2012    17858.90\n",
       "2013    19985.29\n",
       "2014    18258.40\n",
       "2015    19497.30\n",
       "2016    16365.30\n",
       "Name: DataValue, dtype: float64"
      ]
     },
     "execution_count": 51,
     "metadata": {},
     "output_type": "execute_result"
    }
   ],
   "source": [
    "SC = grouped_by_abbreviation.get_group(\"SC\")\n",
    "\n",
    "SC.groupby(\"YearStart\")[\"DataValue\"].sum()"
   ]
  },
  {
   "cell_type": "code",
   "execution_count": 52,
   "metadata": {},
   "outputs": [
    {
     "data": {
      "text/plain": [
       "YearStart\n",
       "2010     1006.30\n",
       "2011    14601.54\n",
       "2012    15865.30\n",
       "2013    14978.24\n",
       "2014    15613.90\n",
       "2015    14907.50\n",
       "2016    14258.60\n",
       "Name: DataValue, dtype: float64"
      ]
     },
     "execution_count": 52,
     "metadata": {},
     "output_type": "execute_result"
    }
   ],
   "source": [
    "SD = grouped_by_abbreviation.get_group(\"SD\")\n",
    "\n",
    "SD.groupby(\"YearStart\")[\"DataValue\"].sum()"
   ]
  },
  {
   "cell_type": "code",
   "execution_count": 53,
   "metadata": {},
   "outputs": [
    {
     "data": {
      "text/plain": [
       "YearStart\n",
       "2010     1347.50\n",
       "2011    15180.04\n",
       "2012    16090.70\n",
       "2013    17454.55\n",
       "2014    15689.00\n",
       "2015    17902.30\n",
       "2016    14332.20\n",
       "Name: DataValue, dtype: float64"
      ]
     },
     "execution_count": 53,
     "metadata": {},
     "output_type": "execute_result"
    }
   ],
   "source": [
    "TN = grouped_by_abbreviation.get_group(\"TN\")\n",
    "\n",
    "TN.groupby(\"YearStart\")[\"DataValue\"].sum()"
   ]
  },
  {
   "cell_type": "code",
   "execution_count": 54,
   "metadata": {},
   "outputs": [
    {
     "data": {
      "text/plain": [
       "YearStart\n",
       "2010     1433.00\n",
       "2011    18577.03\n",
       "2012    17345.00\n",
       "2013    20124.64\n",
       "2014    19151.10\n",
       "2015    19445.70\n",
       "2016    17722.20\n",
       "Name: DataValue, dtype: float64"
      ]
     },
     "execution_count": 54,
     "metadata": {},
     "output_type": "execute_result"
    }
   ],
   "source": [
    "TX = grouped_by_abbreviation.get_group(\"TX\")\n",
    "\n",
    "TX.groupby(\"YearStart\")[\"DataValue\"].sum()"
   ]
  },
  {
   "cell_type": "code",
   "execution_count": 55,
   "metadata": {},
   "outputs": [
    {
     "data": {
      "text/plain": [
       "YearStart\n",
       "2009      245.80\n",
       "2010     1152.90\n",
       "2011    14159.52\n",
       "2012    14727.90\n",
       "2013    14398.70\n",
       "2014    14150.20\n",
       "2015    15066.90\n",
       "2016    12737.20\n",
       "Name: DataValue, dtype: float64"
      ]
     },
     "execution_count": 55,
     "metadata": {},
     "output_type": "execute_result"
    }
   ],
   "source": [
    "UT = grouped_by_abbreviation.get_group(\"UT\")\n",
    "\n",
    "UT.groupby(\"YearStart\")[\"DataValue\"].sum()"
   ]
  },
  {
   "cell_type": "code",
   "execution_count": 56,
   "metadata": {},
   "outputs": [
    {
     "data": {
      "text/plain": [
       "YearStart\n",
       "2009      159.20\n",
       "2010     1019.60\n",
       "2011    12346.03\n",
       "2012    13007.90\n",
       "2013    13613.12\n",
       "2014    12209.90\n",
       "2015    14231.00\n",
       "2016    11373.80\n",
       "Name: DataValue, dtype: float64"
      ]
     },
     "execution_count": 56,
     "metadata": {},
     "output_type": "execute_result"
    }
   ],
   "source": [
    "VT = grouped_by_abbreviation.get_group(\"VT\")\n",
    "\n",
    "VT.groupby(\"YearStart\")[\"DataValue\"].sum()"
   ]
  },
  {
   "cell_type": "code",
   "execution_count": 57,
   "metadata": {},
   "outputs": [
    {
     "data": {
      "text/plain": [
       "YearStart\n",
       "2010     1306.80\n",
       "2011    14709.35\n",
       "2012    17417.50\n",
       "2013    18655.79\n",
       "2014    18180.90\n",
       "2015    18158.70\n",
       "2016    17093.10\n",
       "Name: DataValue, dtype: float64"
      ]
     },
     "execution_count": 57,
     "metadata": {},
     "output_type": "execute_result"
    }
   ],
   "source": [
    "VA = grouped_by_abbreviation.get_group(\"VA\")\n",
    "\n",
    "VA.groupby(\"YearStart\")[\"DataValue\"].sum()"
   ]
  },
  {
   "cell_type": "code",
   "execution_count": 58,
   "metadata": {},
   "outputs": [
    {
     "data": {
      "text/plain": [
       "YearStart\n",
       "2009      234.50\n",
       "2010     1350.20\n",
       "2011    15733.95\n",
       "2012    16440.60\n",
       "2013    17250.30\n",
       "2014    15893.30\n",
       "2015    20946.60\n",
       "2016    15505.00\n",
       "Name: DataValue, dtype: float64"
      ]
     },
     "execution_count": 58,
     "metadata": {},
     "output_type": "execute_result"
    }
   ],
   "source": [
    "WA = grouped_by_abbreviation.get_group(\"WA\")\n",
    "\n",
    "WA.groupby(\"YearStart\")[\"DataValue\"].sum()"
   ]
  },
  {
   "cell_type": "code",
   "execution_count": 59,
   "metadata": {},
   "outputs": [
    {
     "data": {
      "text/plain": [
       "YearStart\n",
       "2009      218.00\n",
       "2010     1092.80\n",
       "2011    14761.86\n",
       "2012    13909.70\n",
       "2013    15970.68\n",
       "2014    14868.30\n",
       "2015    15133.90\n",
       "2016    13247.90\n",
       "Name: DataValue, dtype: float64"
      ]
     },
     "execution_count": 59,
     "metadata": {},
     "output_type": "execute_result"
    }
   ],
   "source": [
    "WV = grouped_by_abbreviation.get_group(\"WV\")\n",
    "\n",
    "WV.groupby(\"YearStart\")[\"DataValue\"].sum()"
   ]
  },
  {
   "cell_type": "code",
   "execution_count": 60,
   "metadata": {},
   "outputs": [
    {
     "data": {
      "text/plain": [
       "YearStart\n",
       "2009      255.50\n",
       "2010     1309.80\n",
       "2011    15065.83\n",
       "2012    15299.90\n",
       "2013    17385.16\n",
       "2014    14983.30\n",
       "2015    16478.20\n",
       "2016    14257.20\n",
       "Name: DataValue, dtype: float64"
      ]
     },
     "execution_count": 60,
     "metadata": {},
     "output_type": "execute_result"
    }
   ],
   "source": [
    "WI = grouped_by_abbreviation.get_group(\"WI\")\n",
    "\n",
    "WI.groupby(\"YearStart\")[\"DataValue\"].sum()"
   ]
  },
  {
   "cell_type": "code",
   "execution_count": 61,
   "metadata": {},
   "outputs": [
    {
     "data": {
      "text/plain": [
       "YearStart\n",
       "2009      140.40\n",
       "2010     1024.70\n",
       "2011    13080.64\n",
       "2012    12840.20\n",
       "2013    14123.50\n",
       "2014    13963.90\n",
       "2015    13805.40\n",
       "2016    11853.10\n",
       "Name: DataValue, dtype: float64"
      ]
     },
     "execution_count": 61,
     "metadata": {},
     "output_type": "execute_result"
    }
   ],
   "source": [
    "WY = grouped_by_abbreviation.get_group(\"WY\")\n",
    "\n",
    "WY.groupby(\"YearStart\")[\"DataValue\"].sum()"
   ]
  },
  {
   "cell_type": "code",
   "execution_count": 62,
   "metadata": {},
   "outputs": [
    {
     "data": {
      "text/plain": [
       "YearStart\n",
       "2011     7867.4\n",
       "2012     8840.8\n",
       "2013    10893.4\n",
       "2014     9753.7\n",
       "2015    10013.4\n",
       "2016     8535.6\n",
       "Name: DataValue, dtype: float64"
      ]
     },
     "execution_count": 62,
     "metadata": {},
     "output_type": "execute_result"
    }
   ],
   "source": [
    "GU = grouped_by_abbreviation.get_group(\"GU\")\n",
    "\n",
    "GU.groupby(\"YearStart\")[\"DataValue\"].sum()"
   ]
  },
  {
   "cell_type": "code",
   "execution_count": 63,
   "metadata": {},
   "outputs": [
    {
     "data": {
      "text/plain": [
       "YearStart\n",
       "2010      932.6\n",
       "2011     9242.3\n",
       "2012     9032.5\n",
       "2013    10264.4\n",
       "2014     9449.8\n",
       "2015     9315.3\n",
       "2016     8671.2\n",
       "Name: DataValue, dtype: float64"
      ]
     },
     "execution_count": 63,
     "metadata": {},
     "output_type": "execute_result"
    }
   ],
   "source": [
    "PR = grouped_by_abbreviation.get_group(\"PR\")\n",
    "\n",
    "PR.groupby(\"YearStart\")[\"DataValue\"].sum()"
   ]
  },
  {
   "cell_type": "code",
   "execution_count": 64,
   "metadata": {},
   "outputs": [
    {
     "data": {
      "text/plain": [
       "YearStart\n",
       "2010     133.2\n",
       "2011     140.9\n",
       "2012     181.5\n",
       "2013     190.9\n",
       "2014     179.5\n",
       "2015     180.2\n",
       "2016    6635.1\n",
       "Name: DataValue, dtype: float64"
      ]
     },
     "execution_count": 64,
     "metadata": {},
     "output_type": "execute_result"
    }
   ],
   "source": [
    "VI = grouped_by_abbreviation.get_group(\"VI\")\n",
    "\n",
    "VI.groupby(\"YearStart\")[\"DataValue\"].sum()"
   ]
  },
  {
   "cell_type": "code",
   "execution_count": null,
   "metadata": {},
   "outputs": [],
   "source": []
  }
 ],
 "metadata": {
  "kernelspec": {
   "display_name": "Python 3",
   "language": "python",
   "name": "python3"
  },
  "language_info": {
   "codemirror_mode": {
    "name": "ipython",
    "version": 3
   },
   "file_extension": ".py",
   "mimetype": "text/x-python",
   "name": "python",
   "nbconvert_exporter": "python",
   "pygments_lexer": "ipython3",
   "version": "3.7.3"
  }
 },
 "nbformat": 4,
 "nbformat_minor": 2
}
