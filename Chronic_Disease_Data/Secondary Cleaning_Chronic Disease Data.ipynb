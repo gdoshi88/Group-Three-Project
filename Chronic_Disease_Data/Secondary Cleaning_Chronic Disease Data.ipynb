{
 "cells": [
  {
   "cell_type": "code",
   "execution_count": 119,
   "metadata": {},
   "outputs": [],
   "source": [
    "import pandas as pd"
   ]
  },
  {
   "cell_type": "code",
   "execution_count": 120,
   "metadata": {
    "scrolled": true
   },
   "outputs": [
    {
     "data": {
      "text/html": [
       "<div>\n",
       "<style scoped>\n",
       "    .dataframe tbody tr th:only-of-type {\n",
       "        vertical-align: middle;\n",
       "    }\n",
       "\n",
       "    .dataframe tbody tr th {\n",
       "        vertical-align: top;\n",
       "    }\n",
       "\n",
       "    .dataframe thead th {\n",
       "        text-align: right;\n",
       "    }\n",
       "</style>\n",
       "<table border=\"1\" class=\"dataframe\">\n",
       "  <thead>\n",
       "    <tr style=\"text-align: right;\">\n",
       "      <th></th>\n",
       "      <th>YearStart</th>\n",
       "      <th>YearEnd</th>\n",
       "      <th>LocationAbbr</th>\n",
       "      <th>LocationDesc</th>\n",
       "      <th>Topic</th>\n",
       "      <th>Question</th>\n",
       "      <th>DataValueUnit</th>\n",
       "      <th>DataValue</th>\n",
       "      <th>Latitude</th>\n",
       "      <th>Longitude</th>\n",
       "    </tr>\n",
       "  </thead>\n",
       "  <tbody>\n",
       "    <tr>\n",
       "      <th>0</th>\n",
       "      <td>2016</td>\n",
       "      <td>2016</td>\n",
       "      <td>AL</td>\n",
       "      <td>Alabama</td>\n",
       "      <td>Alcohol</td>\n",
       "      <td>Binge drinking prevalence among adults aged &gt;=...</td>\n",
       "      <td>%</td>\n",
       "      <td>13.0</td>\n",
       "      <td>32.840571</td>\n",
       "      <td>-86.631861</td>\n",
       "    </tr>\n",
       "    <tr>\n",
       "      <th>1</th>\n",
       "      <td>2016</td>\n",
       "      <td>2016</td>\n",
       "      <td>AK</td>\n",
       "      <td>Alaska</td>\n",
       "      <td>Alcohol</td>\n",
       "      <td>Binge drinking prevalence among adults aged &gt;=...</td>\n",
       "      <td>%</td>\n",
       "      <td>18.2</td>\n",
       "      <td>64.845080</td>\n",
       "      <td>-147.722059</td>\n",
       "    </tr>\n",
       "    <tr>\n",
       "      <th>2</th>\n",
       "      <td>2016</td>\n",
       "      <td>2016</td>\n",
       "      <td>AZ</td>\n",
       "      <td>Arizona</td>\n",
       "      <td>Alcohol</td>\n",
       "      <td>Binge drinking prevalence among adults aged &gt;=...</td>\n",
       "      <td>%</td>\n",
       "      <td>15.6</td>\n",
       "      <td>34.865970</td>\n",
       "      <td>-111.763811</td>\n",
       "    </tr>\n",
       "    <tr>\n",
       "      <th>3</th>\n",
       "      <td>2016</td>\n",
       "      <td>2016</td>\n",
       "      <td>AR</td>\n",
       "      <td>Arkansas</td>\n",
       "      <td>Alcohol</td>\n",
       "      <td>Binge drinking prevalence among adults aged &gt;=...</td>\n",
       "      <td>%</td>\n",
       "      <td>15.0</td>\n",
       "      <td>34.748650</td>\n",
       "      <td>-92.274491</td>\n",
       "    </tr>\n",
       "    <tr>\n",
       "      <th>4</th>\n",
       "      <td>2016</td>\n",
       "      <td>2016</td>\n",
       "      <td>CA</td>\n",
       "      <td>California</td>\n",
       "      <td>Alcohol</td>\n",
       "      <td>Binge drinking prevalence among adults aged &gt;=...</td>\n",
       "      <td>%</td>\n",
       "      <td>16.3</td>\n",
       "      <td>37.638640</td>\n",
       "      <td>-121.000000</td>\n",
       "    </tr>\n",
       "  </tbody>\n",
       "</table>\n",
       "</div>"
      ],
      "text/plain": [
       "   YearStart  YearEnd LocationAbbr LocationDesc    Topic  \\\n",
       "0       2016     2016           AL      Alabama  Alcohol   \n",
       "1       2016     2016           AK       Alaska  Alcohol   \n",
       "2       2016     2016           AZ      Arizona  Alcohol   \n",
       "3       2016     2016           AR     Arkansas  Alcohol   \n",
       "4       2016     2016           CA   California  Alcohol   \n",
       "\n",
       "                                            Question DataValueUnit  DataValue  \\\n",
       "0  Binge drinking prevalence among adults aged >=...             %       13.0   \n",
       "1  Binge drinking prevalence among adults aged >=...             %       18.2   \n",
       "2  Binge drinking prevalence among adults aged >=...             %       15.6   \n",
       "3  Binge drinking prevalence among adults aged >=...             %       15.0   \n",
       "4  Binge drinking prevalence among adults aged >=...             %       16.3   \n",
       "\n",
       "    Latitude   Longitude  \n",
       "0  32.840571  -86.631861  \n",
       "1  64.845080 -147.722059  \n",
       "2  34.865970 -111.763811  \n",
       "3  34.748650  -92.274491  \n",
       "4  37.638640 -121.000000  "
      ]
     },
     "execution_count": 120,
     "metadata": {},
     "output_type": "execute_result"
    }
   ],
   "source": [
    "csv_path = (\"Cleaned_Chronic_Disease_Data2.csv\")\n",
    "\n",
    "csv_df = pd.read_csv(csv_path)\n",
    "csv_df.head()"
   ]
  },
  {
   "cell_type": "code",
   "execution_count": 121,
   "metadata": {},
   "outputs": [
    {
     "data": {
      "text/plain": [
       "<bound method IndexOpsMixin.value_counts of 0         %\n",
       "1         %\n",
       "2         %\n",
       "3         %\n",
       "4         %\n",
       "5         %\n",
       "6         %\n",
       "7         %\n",
       "8         %\n",
       "9         %\n",
       "10        %\n",
       "11        %\n",
       "12        %\n",
       "13        %\n",
       "14        %\n",
       "15        %\n",
       "16        %\n",
       "17        %\n",
       "18        %\n",
       "19        %\n",
       "20        %\n",
       "21        %\n",
       "22        %\n",
       "23        %\n",
       "24        %\n",
       "25        %\n",
       "26        %\n",
       "27        %\n",
       "28        %\n",
       "29        %\n",
       "         ..\n",
       "226490    %\n",
       "226491    %\n",
       "226492    %\n",
       "226493    %\n",
       "226494    %\n",
       "226495    %\n",
       "226496    %\n",
       "226497    %\n",
       "226498    %\n",
       "226499    %\n",
       "226500    %\n",
       "226501    %\n",
       "226502    %\n",
       "226503    %\n",
       "226504    %\n",
       "226505    %\n",
       "226506    %\n",
       "226507    %\n",
       "226508    %\n",
       "226509    %\n",
       "226510    %\n",
       "226511    %\n",
       "226512    %\n",
       "226513    %\n",
       "226514    %\n",
       "226515    %\n",
       "226516    %\n",
       "226517    %\n",
       "226518    %\n",
       "226519    %\n",
       "Name: DataValueUnit, Length: 226520, dtype: object>"
      ]
     },
     "execution_count": 121,
     "metadata": {},
     "output_type": "execute_result"
    }
   ],
   "source": [
    "csv_df[\"DataValueUnit\"].value_counts"
   ]
  },
  {
   "cell_type": "code",
   "execution_count": 122,
   "metadata": {},
   "outputs": [
    {
     "data": {
      "text/html": [
       "<div>\n",
       "<style scoped>\n",
       "    .dataframe tbody tr th:only-of-type {\n",
       "        vertical-align: middle;\n",
       "    }\n",
       "\n",
       "    .dataframe tbody tr th {\n",
       "        vertical-align: top;\n",
       "    }\n",
       "\n",
       "    .dataframe thead th {\n",
       "        text-align: right;\n",
       "    }\n",
       "</style>\n",
       "<table border=\"1\" class=\"dataframe\">\n",
       "  <thead>\n",
       "    <tr style=\"text-align: right;\">\n",
       "      <th></th>\n",
       "      <th>YearStart</th>\n",
       "      <th>YearEnd</th>\n",
       "      <th>LocationAbbr</th>\n",
       "      <th>LocationDesc</th>\n",
       "      <th>Topic</th>\n",
       "      <th>Question</th>\n",
       "      <th>DataValueUnit</th>\n",
       "      <th>DataValue</th>\n",
       "      <th>Latitude</th>\n",
       "      <th>Longitude</th>\n",
       "    </tr>\n",
       "  </thead>\n",
       "  <tbody>\n",
       "    <tr>\n",
       "      <th>0</th>\n",
       "      <td>2016</td>\n",
       "      <td>2016</td>\n",
       "      <td>AL</td>\n",
       "      <td>Alabama</td>\n",
       "      <td>Alcohol</td>\n",
       "      <td>Binge drinking prevalence among adults aged &gt;=...</td>\n",
       "      <td>%</td>\n",
       "      <td>13.0</td>\n",
       "      <td>32.840571</td>\n",
       "      <td>-86.631861</td>\n",
       "    </tr>\n",
       "    <tr>\n",
       "      <th>1</th>\n",
       "      <td>2016</td>\n",
       "      <td>2016</td>\n",
       "      <td>AK</td>\n",
       "      <td>Alaska</td>\n",
       "      <td>Alcohol</td>\n",
       "      <td>Binge drinking prevalence among adults aged &gt;=...</td>\n",
       "      <td>%</td>\n",
       "      <td>18.2</td>\n",
       "      <td>64.845080</td>\n",
       "      <td>-147.722059</td>\n",
       "    </tr>\n",
       "    <tr>\n",
       "      <th>2</th>\n",
       "      <td>2016</td>\n",
       "      <td>2016</td>\n",
       "      <td>AZ</td>\n",
       "      <td>Arizona</td>\n",
       "      <td>Alcohol</td>\n",
       "      <td>Binge drinking prevalence among adults aged &gt;=...</td>\n",
       "      <td>%</td>\n",
       "      <td>15.6</td>\n",
       "      <td>34.865970</td>\n",
       "      <td>-111.763811</td>\n",
       "    </tr>\n",
       "    <tr>\n",
       "      <th>3</th>\n",
       "      <td>2016</td>\n",
       "      <td>2016</td>\n",
       "      <td>AR</td>\n",
       "      <td>Arkansas</td>\n",
       "      <td>Alcohol</td>\n",
       "      <td>Binge drinking prevalence among adults aged &gt;=...</td>\n",
       "      <td>%</td>\n",
       "      <td>15.0</td>\n",
       "      <td>34.748650</td>\n",
       "      <td>-92.274491</td>\n",
       "    </tr>\n",
       "    <tr>\n",
       "      <th>4</th>\n",
       "      <td>2016</td>\n",
       "      <td>2016</td>\n",
       "      <td>CA</td>\n",
       "      <td>California</td>\n",
       "      <td>Alcohol</td>\n",
       "      <td>Binge drinking prevalence among adults aged &gt;=...</td>\n",
       "      <td>%</td>\n",
       "      <td>16.3</td>\n",
       "      <td>37.638640</td>\n",
       "      <td>-121.000000</td>\n",
       "    </tr>\n",
       "    <tr>\n",
       "      <th>5</th>\n",
       "      <td>2016</td>\n",
       "      <td>2016</td>\n",
       "      <td>CO</td>\n",
       "      <td>Colorado</td>\n",
       "      <td>Alcohol</td>\n",
       "      <td>Binge drinking prevalence among adults aged &gt;=...</td>\n",
       "      <td>%</td>\n",
       "      <td>19.0</td>\n",
       "      <td>38.843841</td>\n",
       "      <td>-106.133611</td>\n",
       "    </tr>\n",
       "    <tr>\n",
       "      <th>6</th>\n",
       "      <td>2016</td>\n",
       "      <td>2016</td>\n",
       "      <td>CT</td>\n",
       "      <td>Connecticut</td>\n",
       "      <td>Alcohol</td>\n",
       "      <td>Binge drinking prevalence among adults aged &gt;=...</td>\n",
       "      <td>%</td>\n",
       "      <td>16.7</td>\n",
       "      <td>41.562661</td>\n",
       "      <td>-72.649841</td>\n",
       "    </tr>\n",
       "    <tr>\n",
       "      <th>7</th>\n",
       "      <td>2016</td>\n",
       "      <td>2016</td>\n",
       "      <td>DE</td>\n",
       "      <td>Delaware</td>\n",
       "      <td>Alcohol</td>\n",
       "      <td>Binge drinking prevalence among adults aged &gt;=...</td>\n",
       "      <td>%</td>\n",
       "      <td>17.0</td>\n",
       "      <td>39.008831</td>\n",
       "      <td>-75.577741</td>\n",
       "    </tr>\n",
       "    <tr>\n",
       "      <th>8</th>\n",
       "      <td>2016</td>\n",
       "      <td>2016</td>\n",
       "      <td>DC</td>\n",
       "      <td>District of Columbia</td>\n",
       "      <td>Alcohol</td>\n",
       "      <td>Binge drinking prevalence among adults aged &gt;=...</td>\n",
       "      <td>%</td>\n",
       "      <td>25.6</td>\n",
       "      <td>38.907192</td>\n",
       "      <td>-77.036871</td>\n",
       "    </tr>\n",
       "    <tr>\n",
       "      <th>9</th>\n",
       "      <td>2016</td>\n",
       "      <td>2016</td>\n",
       "      <td>FL</td>\n",
       "      <td>Florida</td>\n",
       "      <td>Alcohol</td>\n",
       "      <td>Binge drinking prevalence among adults aged &gt;=...</td>\n",
       "      <td>%</td>\n",
       "      <td>15.5</td>\n",
       "      <td>28.932040</td>\n",
       "      <td>-81.928961</td>\n",
       "    </tr>\n",
       "    <tr>\n",
       "      <th>10</th>\n",
       "      <td>2016</td>\n",
       "      <td>2016</td>\n",
       "      <td>GA</td>\n",
       "      <td>Georgia</td>\n",
       "      <td>Alcohol</td>\n",
       "      <td>Binge drinking prevalence among adults aged &gt;=...</td>\n",
       "      <td>%</td>\n",
       "      <td>13.3</td>\n",
       "      <td>32.839681</td>\n",
       "      <td>-83.627580</td>\n",
       "    </tr>\n",
       "    <tr>\n",
       "      <th>11</th>\n",
       "      <td>2016</td>\n",
       "      <td>2016</td>\n",
       "      <td>HI</td>\n",
       "      <td>Hawaii</td>\n",
       "      <td>Alcohol</td>\n",
       "      <td>Binge drinking prevalence among adults aged &gt;=...</td>\n",
       "      <td>%</td>\n",
       "      <td>18.6</td>\n",
       "      <td>21.304850</td>\n",
       "      <td>-157.857749</td>\n",
       "    </tr>\n",
       "    <tr>\n",
       "      <th>12</th>\n",
       "      <td>2016</td>\n",
       "      <td>2016</td>\n",
       "      <td>ID</td>\n",
       "      <td>Idaho</td>\n",
       "      <td>Alcohol</td>\n",
       "      <td>Binge drinking prevalence among adults aged &gt;=...</td>\n",
       "      <td>%</td>\n",
       "      <td>16.1</td>\n",
       "      <td>43.682630</td>\n",
       "      <td>-114.363730</td>\n",
       "    </tr>\n",
       "    <tr>\n",
       "      <th>13</th>\n",
       "      <td>2016</td>\n",
       "      <td>2016</td>\n",
       "      <td>IL</td>\n",
       "      <td>Illinois</td>\n",
       "      <td>Alcohol</td>\n",
       "      <td>Binge drinking prevalence among adults aged &gt;=...</td>\n",
       "      <td>%</td>\n",
       "      <td>19.9</td>\n",
       "      <td>40.485010</td>\n",
       "      <td>-88.997710</td>\n",
       "    </tr>\n",
       "    <tr>\n",
       "      <th>14</th>\n",
       "      <td>2016</td>\n",
       "      <td>2016</td>\n",
       "      <td>IN</td>\n",
       "      <td>Indiana</td>\n",
       "      <td>Alcohol</td>\n",
       "      <td>Binge drinking prevalence among adults aged &gt;=...</td>\n",
       "      <td>%</td>\n",
       "      <td>17.5</td>\n",
       "      <td>39.766910</td>\n",
       "      <td>-86.149960</td>\n",
       "    </tr>\n",
       "    <tr>\n",
       "      <th>15</th>\n",
       "      <td>2016</td>\n",
       "      <td>2016</td>\n",
       "      <td>IA</td>\n",
       "      <td>Iowa</td>\n",
       "      <td>Alcohol</td>\n",
       "      <td>Binge drinking prevalence among adults aged &gt;=...</td>\n",
       "      <td>%</td>\n",
       "      <td>21.2</td>\n",
       "      <td>42.469401</td>\n",
       "      <td>-93.816491</td>\n",
       "    </tr>\n",
       "    <tr>\n",
       "      <th>16</th>\n",
       "      <td>2016</td>\n",
       "      <td>2016</td>\n",
       "      <td>KS</td>\n",
       "      <td>Kansas</td>\n",
       "      <td>Alcohol</td>\n",
       "      <td>Binge drinking prevalence among adults aged &gt;=...</td>\n",
       "      <td>%</td>\n",
       "      <td>16.0</td>\n",
       "      <td>38.347740</td>\n",
       "      <td>-98.200781</td>\n",
       "    </tr>\n",
       "    <tr>\n",
       "      <th>17</th>\n",
       "      <td>2016</td>\n",
       "      <td>2016</td>\n",
       "      <td>KY</td>\n",
       "      <td>Kentucky</td>\n",
       "      <td>Alcohol</td>\n",
       "      <td>Binge drinking prevalence among adults aged &gt;=...</td>\n",
       "      <td>%</td>\n",
       "      <td>14.6</td>\n",
       "      <td>37.645970</td>\n",
       "      <td>-84.774971</td>\n",
       "    </tr>\n",
       "    <tr>\n",
       "      <th>18</th>\n",
       "      <td>2016</td>\n",
       "      <td>2016</td>\n",
       "      <td>LA</td>\n",
       "      <td>Louisiana</td>\n",
       "      <td>Alcohol</td>\n",
       "      <td>Binge drinking prevalence among adults aged &gt;=...</td>\n",
       "      <td>%</td>\n",
       "      <td>16.9</td>\n",
       "      <td>31.312661</td>\n",
       "      <td>-92.445680</td>\n",
       "    </tr>\n",
       "    <tr>\n",
       "      <th>19</th>\n",
       "      <td>2016</td>\n",
       "      <td>2016</td>\n",
       "      <td>ME</td>\n",
       "      <td>Maine</td>\n",
       "      <td>Alcohol</td>\n",
       "      <td>Binge drinking prevalence among adults aged &gt;=...</td>\n",
       "      <td>%</td>\n",
       "      <td>18.3</td>\n",
       "      <td>45.254229</td>\n",
       "      <td>-68.985031</td>\n",
       "    </tr>\n",
       "    <tr>\n",
       "      <th>20</th>\n",
       "      <td>2016</td>\n",
       "      <td>2016</td>\n",
       "      <td>MD</td>\n",
       "      <td>Maryland</td>\n",
       "      <td>Alcohol</td>\n",
       "      <td>Binge drinking prevalence among adults aged &gt;=...</td>\n",
       "      <td>%</td>\n",
       "      <td>15.3</td>\n",
       "      <td>39.290581</td>\n",
       "      <td>-76.609260</td>\n",
       "    </tr>\n",
       "    <tr>\n",
       "      <th>21</th>\n",
       "      <td>2016</td>\n",
       "      <td>2016</td>\n",
       "      <td>MA</td>\n",
       "      <td>Massachusetts</td>\n",
       "      <td>Alcohol</td>\n",
       "      <td>Binge drinking prevalence among adults aged &gt;=...</td>\n",
       "      <td>%</td>\n",
       "      <td>17.8</td>\n",
       "      <td>42.276870</td>\n",
       "      <td>-72.082691</td>\n",
       "    </tr>\n",
       "    <tr>\n",
       "      <th>22</th>\n",
       "      <td>2016</td>\n",
       "      <td>2016</td>\n",
       "      <td>MI</td>\n",
       "      <td>Michigan</td>\n",
       "      <td>Alcohol</td>\n",
       "      <td>Binge drinking prevalence among adults aged &gt;=...</td>\n",
       "      <td>%</td>\n",
       "      <td>19.0</td>\n",
       "      <td>44.661320</td>\n",
       "      <td>-84.714390</td>\n",
       "    </tr>\n",
       "    <tr>\n",
       "      <th>23</th>\n",
       "      <td>2016</td>\n",
       "      <td>2016</td>\n",
       "      <td>MN</td>\n",
       "      <td>Minnesota</td>\n",
       "      <td>Alcohol</td>\n",
       "      <td>Binge drinking prevalence among adults aged &gt;=...</td>\n",
       "      <td>%</td>\n",
       "      <td>21.3</td>\n",
       "      <td>46.355649</td>\n",
       "      <td>-94.794201</td>\n",
       "    </tr>\n",
       "    <tr>\n",
       "      <th>24</th>\n",
       "      <td>2016</td>\n",
       "      <td>2016</td>\n",
       "      <td>MS</td>\n",
       "      <td>Mississippi</td>\n",
       "      <td>Alcohol</td>\n",
       "      <td>Binge drinking prevalence among adults aged &gt;=...</td>\n",
       "      <td>%</td>\n",
       "      <td>12.3</td>\n",
       "      <td>32.745510</td>\n",
       "      <td>-89.538031</td>\n",
       "    </tr>\n",
       "    <tr>\n",
       "      <th>25</th>\n",
       "      <td>2016</td>\n",
       "      <td>2016</td>\n",
       "      <td>MO</td>\n",
       "      <td>Missouri</td>\n",
       "      <td>Alcohol</td>\n",
       "      <td>Binge drinking prevalence among adults aged &gt;=...</td>\n",
       "      <td>%</td>\n",
       "      <td>18.4</td>\n",
       "      <td>38.635791</td>\n",
       "      <td>-92.566300</td>\n",
       "    </tr>\n",
       "    <tr>\n",
       "      <th>26</th>\n",
       "      <td>2016</td>\n",
       "      <td>2016</td>\n",
       "      <td>MT</td>\n",
       "      <td>Montana</td>\n",
       "      <td>Alcohol</td>\n",
       "      <td>Binge drinking prevalence among adults aged &gt;=...</td>\n",
       "      <td>%</td>\n",
       "      <td>18.9</td>\n",
       "      <td>47.066529</td>\n",
       "      <td>-109.424421</td>\n",
       "    </tr>\n",
       "    <tr>\n",
       "      <th>27</th>\n",
       "      <td>2016</td>\n",
       "      <td>2016</td>\n",
       "      <td>NE</td>\n",
       "      <td>Nebraska</td>\n",
       "      <td>Alcohol</td>\n",
       "      <td>Binge drinking prevalence among adults aged &gt;=...</td>\n",
       "      <td>%</td>\n",
       "      <td>20.0</td>\n",
       "      <td>41.641041</td>\n",
       "      <td>-99.365721</td>\n",
       "    </tr>\n",
       "    <tr>\n",
       "      <th>28</th>\n",
       "      <td>2016</td>\n",
       "      <td>2016</td>\n",
       "      <td>NV</td>\n",
       "      <td>Nevada</td>\n",
       "      <td>Alcohol</td>\n",
       "      <td>Binge drinking prevalence among adults aged &gt;=...</td>\n",
       "      <td>%</td>\n",
       "      <td>15.8</td>\n",
       "      <td>39.493240</td>\n",
       "      <td>-117.071841</td>\n",
       "    </tr>\n",
       "    <tr>\n",
       "      <th>29</th>\n",
       "      <td>2016</td>\n",
       "      <td>2016</td>\n",
       "      <td>NH</td>\n",
       "      <td>New Hampshire</td>\n",
       "      <td>Alcohol</td>\n",
       "      <td>Binge drinking prevalence among adults aged &gt;=...</td>\n",
       "      <td>%</td>\n",
       "      <td>18.0</td>\n",
       "      <td>43.655950</td>\n",
       "      <td>-71.500361</td>\n",
       "    </tr>\n",
       "    <tr>\n",
       "      <th>...</th>\n",
       "      <td>...</td>\n",
       "      <td>...</td>\n",
       "      <td>...</td>\n",
       "      <td>...</td>\n",
       "      <td>...</td>\n",
       "      <td>...</td>\n",
       "      <td>...</td>\n",
       "      <td>...</td>\n",
       "      <td>...</td>\n",
       "      <td>...</td>\n",
       "    </tr>\n",
       "    <tr>\n",
       "      <th>226490</th>\n",
       "      <td>2010</td>\n",
       "      <td>2010</td>\n",
       "      <td>MI</td>\n",
       "      <td>Michigan</td>\n",
       "      <td>Overarching Conditions</td>\n",
       "      <td>High school completion among adults aged 18-24...</td>\n",
       "      <td>%</td>\n",
       "      <td>87.3</td>\n",
       "      <td>44.661320</td>\n",
       "      <td>-84.714390</td>\n",
       "    </tr>\n",
       "    <tr>\n",
       "      <th>226491</th>\n",
       "      <td>2010</td>\n",
       "      <td>2010</td>\n",
       "      <td>MN</td>\n",
       "      <td>Minnesota</td>\n",
       "      <td>Overarching Conditions</td>\n",
       "      <td>High school completion among adults aged 18-24...</td>\n",
       "      <td>%</td>\n",
       "      <td>89.6</td>\n",
       "      <td>46.355649</td>\n",
       "      <td>-94.794201</td>\n",
       "    </tr>\n",
       "    <tr>\n",
       "      <th>226492</th>\n",
       "      <td>2010</td>\n",
       "      <td>2010</td>\n",
       "      <td>MO</td>\n",
       "      <td>Missouri</td>\n",
       "      <td>Overarching Conditions</td>\n",
       "      <td>High school completion among adults aged 18-24...</td>\n",
       "      <td>%</td>\n",
       "      <td>86.8</td>\n",
       "      <td>38.635791</td>\n",
       "      <td>-92.566300</td>\n",
       "    </tr>\n",
       "    <tr>\n",
       "      <th>226493</th>\n",
       "      <td>2010</td>\n",
       "      <td>2010</td>\n",
       "      <td>MS</td>\n",
       "      <td>Mississippi</td>\n",
       "      <td>Overarching Conditions</td>\n",
       "      <td>High school completion among adults aged 18-24...</td>\n",
       "      <td>%</td>\n",
       "      <td>84.5</td>\n",
       "      <td>32.745510</td>\n",
       "      <td>-89.538031</td>\n",
       "    </tr>\n",
       "    <tr>\n",
       "      <th>226494</th>\n",
       "      <td>2010</td>\n",
       "      <td>2010</td>\n",
       "      <td>MT</td>\n",
       "      <td>Montana</td>\n",
       "      <td>Overarching Conditions</td>\n",
       "      <td>High school completion among adults aged 18-24...</td>\n",
       "      <td>%</td>\n",
       "      <td>84.4</td>\n",
       "      <td>47.066529</td>\n",
       "      <td>-109.424421</td>\n",
       "    </tr>\n",
       "    <tr>\n",
       "      <th>226495</th>\n",
       "      <td>2010</td>\n",
       "      <td>2010</td>\n",
       "      <td>NC</td>\n",
       "      <td>North Carolina</td>\n",
       "      <td>Overarching Conditions</td>\n",
       "      <td>High school completion among adults aged 18-24...</td>\n",
       "      <td>%</td>\n",
       "      <td>85.5</td>\n",
       "      <td>35.466221</td>\n",
       "      <td>-79.159250</td>\n",
       "    </tr>\n",
       "    <tr>\n",
       "      <th>226496</th>\n",
       "      <td>2010</td>\n",
       "      <td>2010</td>\n",
       "      <td>ND</td>\n",
       "      <td>North Dakota</td>\n",
       "      <td>Overarching Conditions</td>\n",
       "      <td>High school completion among adults aged 18-24...</td>\n",
       "      <td>%</td>\n",
       "      <td>93.4</td>\n",
       "      <td>47.475320</td>\n",
       "      <td>-100.118421</td>\n",
       "    </tr>\n",
       "    <tr>\n",
       "      <th>226497</th>\n",
       "      <td>2010</td>\n",
       "      <td>2010</td>\n",
       "      <td>NE</td>\n",
       "      <td>Nebraska</td>\n",
       "      <td>Overarching Conditions</td>\n",
       "      <td>High school completion among adults aged 18-24...</td>\n",
       "      <td>%</td>\n",
       "      <td>88.7</td>\n",
       "      <td>41.641041</td>\n",
       "      <td>-99.365721</td>\n",
       "    </tr>\n",
       "    <tr>\n",
       "      <th>226498</th>\n",
       "      <td>2010</td>\n",
       "      <td>2010</td>\n",
       "      <td>NH</td>\n",
       "      <td>New Hampshire</td>\n",
       "      <td>Overarching Conditions</td>\n",
       "      <td>High school completion among adults aged 18-24...</td>\n",
       "      <td>%</td>\n",
       "      <td>88.6</td>\n",
       "      <td>43.655950</td>\n",
       "      <td>-71.500361</td>\n",
       "    </tr>\n",
       "    <tr>\n",
       "      <th>226499</th>\n",
       "      <td>2010</td>\n",
       "      <td>2010</td>\n",
       "      <td>NJ</td>\n",
       "      <td>New Jersey</td>\n",
       "      <td>Overarching Conditions</td>\n",
       "      <td>High school completion among adults aged 18-24...</td>\n",
       "      <td>%</td>\n",
       "      <td>89.0</td>\n",
       "      <td>40.130570</td>\n",
       "      <td>-74.273691</td>\n",
       "    </tr>\n",
       "    <tr>\n",
       "      <th>226500</th>\n",
       "      <td>2010</td>\n",
       "      <td>2010</td>\n",
       "      <td>NM</td>\n",
       "      <td>New Mexico</td>\n",
       "      <td>Overarching Conditions</td>\n",
       "      <td>High school completion among adults aged 18-24...</td>\n",
       "      <td>%</td>\n",
       "      <td>81.1</td>\n",
       "      <td>34.520881</td>\n",
       "      <td>-106.240581</td>\n",
       "    </tr>\n",
       "    <tr>\n",
       "      <th>226501</th>\n",
       "      <td>2010</td>\n",
       "      <td>2010</td>\n",
       "      <td>NV</td>\n",
       "      <td>Nevada</td>\n",
       "      <td>Overarching Conditions</td>\n",
       "      <td>High school completion among adults aged 18-24...</td>\n",
       "      <td>%</td>\n",
       "      <td>81.8</td>\n",
       "      <td>39.493240</td>\n",
       "      <td>-117.071841</td>\n",
       "    </tr>\n",
       "    <tr>\n",
       "      <th>226502</th>\n",
       "      <td>2010</td>\n",
       "      <td>2010</td>\n",
       "      <td>NY</td>\n",
       "      <td>New York</td>\n",
       "      <td>Overarching Conditions</td>\n",
       "      <td>High school completion among adults aged 18-24...</td>\n",
       "      <td>%</td>\n",
       "      <td>87.8</td>\n",
       "      <td>42.827001</td>\n",
       "      <td>-75.543970</td>\n",
       "    </tr>\n",
       "    <tr>\n",
       "      <th>226503</th>\n",
       "      <td>2010</td>\n",
       "      <td>2010</td>\n",
       "      <td>OH</td>\n",
       "      <td>Ohio</td>\n",
       "      <td>Overarching Conditions</td>\n",
       "      <td>High school completion among adults aged 18-24...</td>\n",
       "      <td>%</td>\n",
       "      <td>85.8</td>\n",
       "      <td>40.060210</td>\n",
       "      <td>-82.404260</td>\n",
       "    </tr>\n",
       "    <tr>\n",
       "      <th>226504</th>\n",
       "      <td>2010</td>\n",
       "      <td>2010</td>\n",
       "      <td>OK</td>\n",
       "      <td>Oklahoma</td>\n",
       "      <td>Overarching Conditions</td>\n",
       "      <td>High school completion among adults aged 18-24...</td>\n",
       "      <td>%</td>\n",
       "      <td>84.6</td>\n",
       "      <td>35.472031</td>\n",
       "      <td>-97.521070</td>\n",
       "    </tr>\n",
       "    <tr>\n",
       "      <th>226505</th>\n",
       "      <td>2010</td>\n",
       "      <td>2010</td>\n",
       "      <td>OR</td>\n",
       "      <td>Oregon</td>\n",
       "      <td>Overarching Conditions</td>\n",
       "      <td>High school completion among adults aged 18-24...</td>\n",
       "      <td>%</td>\n",
       "      <td>85.6</td>\n",
       "      <td>44.567449</td>\n",
       "      <td>-120.155031</td>\n",
       "    </tr>\n",
       "    <tr>\n",
       "      <th>226506</th>\n",
       "      <td>2010</td>\n",
       "      <td>2010</td>\n",
       "      <td>PA</td>\n",
       "      <td>Pennsylvania</td>\n",
       "      <td>Overarching Conditions</td>\n",
       "      <td>High school completion among adults aged 18-24...</td>\n",
       "      <td>%</td>\n",
       "      <td>88.5</td>\n",
       "      <td>40.793730</td>\n",
       "      <td>-77.860700</td>\n",
       "    </tr>\n",
       "    <tr>\n",
       "      <th>226507</th>\n",
       "      <td>2010</td>\n",
       "      <td>2010</td>\n",
       "      <td>PR</td>\n",
       "      <td>Puerto Rico</td>\n",
       "      <td>Overarching Conditions</td>\n",
       "      <td>High school completion among adults aged 18-24...</td>\n",
       "      <td>%</td>\n",
       "      <td>86.8</td>\n",
       "      <td>18.220833</td>\n",
       "      <td>-66.590149</td>\n",
       "    </tr>\n",
       "    <tr>\n",
       "      <th>226508</th>\n",
       "      <td>2010</td>\n",
       "      <td>2010</td>\n",
       "      <td>RI</td>\n",
       "      <td>Rhode Island</td>\n",
       "      <td>Overarching Conditions</td>\n",
       "      <td>High school completion among adults aged 18-24...</td>\n",
       "      <td>%</td>\n",
       "      <td>90.3</td>\n",
       "      <td>41.708280</td>\n",
       "      <td>-71.522470</td>\n",
       "    </tr>\n",
       "    <tr>\n",
       "      <th>226509</th>\n",
       "      <td>2010</td>\n",
       "      <td>2010</td>\n",
       "      <td>SC</td>\n",
       "      <td>South Carolina</td>\n",
       "      <td>Overarching Conditions</td>\n",
       "      <td>High school completion among adults aged 18-24...</td>\n",
       "      <td>%</td>\n",
       "      <td>83.3</td>\n",
       "      <td>33.998821</td>\n",
       "      <td>-81.045371</td>\n",
       "    </tr>\n",
       "    <tr>\n",
       "      <th>226510</th>\n",
       "      <td>2010</td>\n",
       "      <td>2010</td>\n",
       "      <td>SD</td>\n",
       "      <td>South Dakota</td>\n",
       "      <td>Overarching Conditions</td>\n",
       "      <td>High school completion among adults aged 18-24...</td>\n",
       "      <td>%</td>\n",
       "      <td>84.5</td>\n",
       "      <td>44.353130</td>\n",
       "      <td>-100.373531</td>\n",
       "    </tr>\n",
       "    <tr>\n",
       "      <th>226511</th>\n",
       "      <td>2010</td>\n",
       "      <td>2010</td>\n",
       "      <td>TN</td>\n",
       "      <td>Tennessee</td>\n",
       "      <td>Overarching Conditions</td>\n",
       "      <td>High school completion among adults aged 18-24...</td>\n",
       "      <td>%</td>\n",
       "      <td>86.3</td>\n",
       "      <td>35.680941</td>\n",
       "      <td>-85.774491</td>\n",
       "    </tr>\n",
       "    <tr>\n",
       "      <th>226512</th>\n",
       "      <td>2010</td>\n",
       "      <td>2010</td>\n",
       "      <td>TX</td>\n",
       "      <td>Texas</td>\n",
       "      <td>Overarching Conditions</td>\n",
       "      <td>High school completion among adults aged 18-24...</td>\n",
       "      <td>%</td>\n",
       "      <td>83.1</td>\n",
       "      <td>31.827240</td>\n",
       "      <td>-99.426770</td>\n",
       "    </tr>\n",
       "    <tr>\n",
       "      <th>226513</th>\n",
       "      <td>2010</td>\n",
       "      <td>2010</td>\n",
       "      <td>UT</td>\n",
       "      <td>Utah</td>\n",
       "      <td>Overarching Conditions</td>\n",
       "      <td>High school completion among adults aged 18-24...</td>\n",
       "      <td>%</td>\n",
       "      <td>87.8</td>\n",
       "      <td>39.360700</td>\n",
       "      <td>-111.587131</td>\n",
       "    </tr>\n",
       "    <tr>\n",
       "      <th>226514</th>\n",
       "      <td>2010</td>\n",
       "      <td>2010</td>\n",
       "      <td>VA</td>\n",
       "      <td>Virginia</td>\n",
       "      <td>Overarching Conditions</td>\n",
       "      <td>High school completion among adults aged 18-24...</td>\n",
       "      <td>%</td>\n",
       "      <td>89.5</td>\n",
       "      <td>37.542681</td>\n",
       "      <td>-78.457890</td>\n",
       "    </tr>\n",
       "    <tr>\n",
       "      <th>226515</th>\n",
       "      <td>2010</td>\n",
       "      <td>2010</td>\n",
       "      <td>VT</td>\n",
       "      <td>Vermont</td>\n",
       "      <td>Overarching Conditions</td>\n",
       "      <td>High school completion among adults aged 18-24...</td>\n",
       "      <td>%</td>\n",
       "      <td>94.2</td>\n",
       "      <td>43.625381</td>\n",
       "      <td>-72.517641</td>\n",
       "    </tr>\n",
       "    <tr>\n",
       "      <th>226516</th>\n",
       "      <td>2010</td>\n",
       "      <td>2010</td>\n",
       "      <td>WA</td>\n",
       "      <td>Washington</td>\n",
       "      <td>Overarching Conditions</td>\n",
       "      <td>High school completion among adults aged 18-24...</td>\n",
       "      <td>%</td>\n",
       "      <td>85.4</td>\n",
       "      <td>47.522279</td>\n",
       "      <td>-120.470011</td>\n",
       "    </tr>\n",
       "    <tr>\n",
       "      <th>226517</th>\n",
       "      <td>2010</td>\n",
       "      <td>2010</td>\n",
       "      <td>WI</td>\n",
       "      <td>Wisconsin</td>\n",
       "      <td>Overarching Conditions</td>\n",
       "      <td>High school completion among adults aged 18-24...</td>\n",
       "      <td>%</td>\n",
       "      <td>89.4</td>\n",
       "      <td>44.393191</td>\n",
       "      <td>-89.816371</td>\n",
       "    </tr>\n",
       "    <tr>\n",
       "      <th>226518</th>\n",
       "      <td>2010</td>\n",
       "      <td>2010</td>\n",
       "      <td>WV</td>\n",
       "      <td>West Virginia</td>\n",
       "      <td>Overarching Conditions</td>\n",
       "      <td>High school completion among adults aged 18-24...</td>\n",
       "      <td>%</td>\n",
       "      <td>84.1</td>\n",
       "      <td>38.665510</td>\n",
       "      <td>-80.712640</td>\n",
       "    </tr>\n",
       "    <tr>\n",
       "      <th>226519</th>\n",
       "      <td>2010</td>\n",
       "      <td>2010</td>\n",
       "      <td>WY</td>\n",
       "      <td>Wyoming</td>\n",
       "      <td>Overarching Conditions</td>\n",
       "      <td>High school completion among adults aged 18-24...</td>\n",
       "      <td>%</td>\n",
       "      <td>85.7</td>\n",
       "      <td>43.235541</td>\n",
       "      <td>-108.109830</td>\n",
       "    </tr>\n",
       "  </tbody>\n",
       "</table>\n",
       "<p>205635 rows × 10 columns</p>\n",
       "</div>"
      ],
      "text/plain": [
       "        YearStart  YearEnd LocationAbbr          LocationDesc  \\\n",
       "0            2016     2016           AL               Alabama   \n",
       "1            2016     2016           AK                Alaska   \n",
       "2            2016     2016           AZ               Arizona   \n",
       "3            2016     2016           AR              Arkansas   \n",
       "4            2016     2016           CA            California   \n",
       "5            2016     2016           CO              Colorado   \n",
       "6            2016     2016           CT           Connecticut   \n",
       "7            2016     2016           DE              Delaware   \n",
       "8            2016     2016           DC  District of Columbia   \n",
       "9            2016     2016           FL               Florida   \n",
       "10           2016     2016           GA               Georgia   \n",
       "11           2016     2016           HI                Hawaii   \n",
       "12           2016     2016           ID                 Idaho   \n",
       "13           2016     2016           IL              Illinois   \n",
       "14           2016     2016           IN               Indiana   \n",
       "15           2016     2016           IA                  Iowa   \n",
       "16           2016     2016           KS                Kansas   \n",
       "17           2016     2016           KY              Kentucky   \n",
       "18           2016     2016           LA             Louisiana   \n",
       "19           2016     2016           ME                 Maine   \n",
       "20           2016     2016           MD              Maryland   \n",
       "21           2016     2016           MA         Massachusetts   \n",
       "22           2016     2016           MI              Michigan   \n",
       "23           2016     2016           MN             Minnesota   \n",
       "24           2016     2016           MS           Mississippi   \n",
       "25           2016     2016           MO              Missouri   \n",
       "26           2016     2016           MT               Montana   \n",
       "27           2016     2016           NE              Nebraska   \n",
       "28           2016     2016           NV                Nevada   \n",
       "29           2016     2016           NH         New Hampshire   \n",
       "...           ...      ...          ...                   ...   \n",
       "226490       2010     2010           MI              Michigan   \n",
       "226491       2010     2010           MN             Minnesota   \n",
       "226492       2010     2010           MO              Missouri   \n",
       "226493       2010     2010           MS           Mississippi   \n",
       "226494       2010     2010           MT               Montana   \n",
       "226495       2010     2010           NC        North Carolina   \n",
       "226496       2010     2010           ND          North Dakota   \n",
       "226497       2010     2010           NE              Nebraska   \n",
       "226498       2010     2010           NH         New Hampshire   \n",
       "226499       2010     2010           NJ            New Jersey   \n",
       "226500       2010     2010           NM            New Mexico   \n",
       "226501       2010     2010           NV                Nevada   \n",
       "226502       2010     2010           NY              New York   \n",
       "226503       2010     2010           OH                  Ohio   \n",
       "226504       2010     2010           OK              Oklahoma   \n",
       "226505       2010     2010           OR                Oregon   \n",
       "226506       2010     2010           PA          Pennsylvania   \n",
       "226507       2010     2010           PR           Puerto Rico   \n",
       "226508       2010     2010           RI          Rhode Island   \n",
       "226509       2010     2010           SC        South Carolina   \n",
       "226510       2010     2010           SD          South Dakota   \n",
       "226511       2010     2010           TN             Tennessee   \n",
       "226512       2010     2010           TX                 Texas   \n",
       "226513       2010     2010           UT                  Utah   \n",
       "226514       2010     2010           VA              Virginia   \n",
       "226515       2010     2010           VT               Vermont   \n",
       "226516       2010     2010           WA            Washington   \n",
       "226517       2010     2010           WI             Wisconsin   \n",
       "226518       2010     2010           WV         West Virginia   \n",
       "226519       2010     2010           WY               Wyoming   \n",
       "\n",
       "                         Topic  \\\n",
       "0                      Alcohol   \n",
       "1                      Alcohol   \n",
       "2                      Alcohol   \n",
       "3                      Alcohol   \n",
       "4                      Alcohol   \n",
       "5                      Alcohol   \n",
       "6                      Alcohol   \n",
       "7                      Alcohol   \n",
       "8                      Alcohol   \n",
       "9                      Alcohol   \n",
       "10                     Alcohol   \n",
       "11                     Alcohol   \n",
       "12                     Alcohol   \n",
       "13                     Alcohol   \n",
       "14                     Alcohol   \n",
       "15                     Alcohol   \n",
       "16                     Alcohol   \n",
       "17                     Alcohol   \n",
       "18                     Alcohol   \n",
       "19                     Alcohol   \n",
       "20                     Alcohol   \n",
       "21                     Alcohol   \n",
       "22                     Alcohol   \n",
       "23                     Alcohol   \n",
       "24                     Alcohol   \n",
       "25                     Alcohol   \n",
       "26                     Alcohol   \n",
       "27                     Alcohol   \n",
       "28                     Alcohol   \n",
       "29                     Alcohol   \n",
       "...                        ...   \n",
       "226490  Overarching Conditions   \n",
       "226491  Overarching Conditions   \n",
       "226492  Overarching Conditions   \n",
       "226493  Overarching Conditions   \n",
       "226494  Overarching Conditions   \n",
       "226495  Overarching Conditions   \n",
       "226496  Overarching Conditions   \n",
       "226497  Overarching Conditions   \n",
       "226498  Overarching Conditions   \n",
       "226499  Overarching Conditions   \n",
       "226500  Overarching Conditions   \n",
       "226501  Overarching Conditions   \n",
       "226502  Overarching Conditions   \n",
       "226503  Overarching Conditions   \n",
       "226504  Overarching Conditions   \n",
       "226505  Overarching Conditions   \n",
       "226506  Overarching Conditions   \n",
       "226507  Overarching Conditions   \n",
       "226508  Overarching Conditions   \n",
       "226509  Overarching Conditions   \n",
       "226510  Overarching Conditions   \n",
       "226511  Overarching Conditions   \n",
       "226512  Overarching Conditions   \n",
       "226513  Overarching Conditions   \n",
       "226514  Overarching Conditions   \n",
       "226515  Overarching Conditions   \n",
       "226516  Overarching Conditions   \n",
       "226517  Overarching Conditions   \n",
       "226518  Overarching Conditions   \n",
       "226519  Overarching Conditions   \n",
       "\n",
       "                                                 Question DataValueUnit  \\\n",
       "0       Binge drinking prevalence among adults aged >=...             %   \n",
       "1       Binge drinking prevalence among adults aged >=...             %   \n",
       "2       Binge drinking prevalence among adults aged >=...             %   \n",
       "3       Binge drinking prevalence among adults aged >=...             %   \n",
       "4       Binge drinking prevalence among adults aged >=...             %   \n",
       "5       Binge drinking prevalence among adults aged >=...             %   \n",
       "6       Binge drinking prevalence among adults aged >=...             %   \n",
       "7       Binge drinking prevalence among adults aged >=...             %   \n",
       "8       Binge drinking prevalence among adults aged >=...             %   \n",
       "9       Binge drinking prevalence among adults aged >=...             %   \n",
       "10      Binge drinking prevalence among adults aged >=...             %   \n",
       "11      Binge drinking prevalence among adults aged >=...             %   \n",
       "12      Binge drinking prevalence among adults aged >=...             %   \n",
       "13      Binge drinking prevalence among adults aged >=...             %   \n",
       "14      Binge drinking prevalence among adults aged >=...             %   \n",
       "15      Binge drinking prevalence among adults aged >=...             %   \n",
       "16      Binge drinking prevalence among adults aged >=...             %   \n",
       "17      Binge drinking prevalence among adults aged >=...             %   \n",
       "18      Binge drinking prevalence among adults aged >=...             %   \n",
       "19      Binge drinking prevalence among adults aged >=...             %   \n",
       "20      Binge drinking prevalence among adults aged >=...             %   \n",
       "21      Binge drinking prevalence among adults aged >=...             %   \n",
       "22      Binge drinking prevalence among adults aged >=...             %   \n",
       "23      Binge drinking prevalence among adults aged >=...             %   \n",
       "24      Binge drinking prevalence among adults aged >=...             %   \n",
       "25      Binge drinking prevalence among adults aged >=...             %   \n",
       "26      Binge drinking prevalence among adults aged >=...             %   \n",
       "27      Binge drinking prevalence among adults aged >=...             %   \n",
       "28      Binge drinking prevalence among adults aged >=...             %   \n",
       "29      Binge drinking prevalence among adults aged >=...             %   \n",
       "...                                                   ...           ...   \n",
       "226490  High school completion among adults aged 18-24...             %   \n",
       "226491  High school completion among adults aged 18-24...             %   \n",
       "226492  High school completion among adults aged 18-24...             %   \n",
       "226493  High school completion among adults aged 18-24...             %   \n",
       "226494  High school completion among adults aged 18-24...             %   \n",
       "226495  High school completion among adults aged 18-24...             %   \n",
       "226496  High school completion among adults aged 18-24...             %   \n",
       "226497  High school completion among adults aged 18-24...             %   \n",
       "226498  High school completion among adults aged 18-24...             %   \n",
       "226499  High school completion among adults aged 18-24...             %   \n",
       "226500  High school completion among adults aged 18-24...             %   \n",
       "226501  High school completion among adults aged 18-24...             %   \n",
       "226502  High school completion among adults aged 18-24...             %   \n",
       "226503  High school completion among adults aged 18-24...             %   \n",
       "226504  High school completion among adults aged 18-24...             %   \n",
       "226505  High school completion among adults aged 18-24...             %   \n",
       "226506  High school completion among adults aged 18-24...             %   \n",
       "226507  High school completion among adults aged 18-24...             %   \n",
       "226508  High school completion among adults aged 18-24...             %   \n",
       "226509  High school completion among adults aged 18-24...             %   \n",
       "226510  High school completion among adults aged 18-24...             %   \n",
       "226511  High school completion among adults aged 18-24...             %   \n",
       "226512  High school completion among adults aged 18-24...             %   \n",
       "226513  High school completion among adults aged 18-24...             %   \n",
       "226514  High school completion among adults aged 18-24...             %   \n",
       "226515  High school completion among adults aged 18-24...             %   \n",
       "226516  High school completion among adults aged 18-24...             %   \n",
       "226517  High school completion among adults aged 18-24...             %   \n",
       "226518  High school completion among adults aged 18-24...             %   \n",
       "226519  High school completion among adults aged 18-24...             %   \n",
       "\n",
       "        DataValue   Latitude   Longitude  \n",
       "0            13.0  32.840571  -86.631861  \n",
       "1            18.2  64.845080 -147.722059  \n",
       "2            15.6  34.865970 -111.763811  \n",
       "3            15.0  34.748650  -92.274491  \n",
       "4            16.3  37.638640 -121.000000  \n",
       "5            19.0  38.843841 -106.133611  \n",
       "6            16.7  41.562661  -72.649841  \n",
       "7            17.0  39.008831  -75.577741  \n",
       "8            25.6  38.907192  -77.036871  \n",
       "9            15.5  28.932040  -81.928961  \n",
       "10           13.3  32.839681  -83.627580  \n",
       "11           18.6  21.304850 -157.857749  \n",
       "12           16.1  43.682630 -114.363730  \n",
       "13           19.9  40.485010  -88.997710  \n",
       "14           17.5  39.766910  -86.149960  \n",
       "15           21.2  42.469401  -93.816491  \n",
       "16           16.0  38.347740  -98.200781  \n",
       "17           14.6  37.645970  -84.774971  \n",
       "18           16.9  31.312661  -92.445680  \n",
       "19           18.3  45.254229  -68.985031  \n",
       "20           15.3  39.290581  -76.609260  \n",
       "21           17.8  42.276870  -72.082691  \n",
       "22           19.0  44.661320  -84.714390  \n",
       "23           21.3  46.355649  -94.794201  \n",
       "24           12.3  32.745510  -89.538031  \n",
       "25           18.4  38.635791  -92.566300  \n",
       "26           18.9  47.066529 -109.424421  \n",
       "27           20.0  41.641041  -99.365721  \n",
       "28           15.8  39.493240 -117.071841  \n",
       "29           18.0  43.655950  -71.500361  \n",
       "...           ...        ...         ...  \n",
       "226490       87.3  44.661320  -84.714390  \n",
       "226491       89.6  46.355649  -94.794201  \n",
       "226492       86.8  38.635791  -92.566300  \n",
       "226493       84.5  32.745510  -89.538031  \n",
       "226494       84.4  47.066529 -109.424421  \n",
       "226495       85.5  35.466221  -79.159250  \n",
       "226496       93.4  47.475320 -100.118421  \n",
       "226497       88.7  41.641041  -99.365721  \n",
       "226498       88.6  43.655950  -71.500361  \n",
       "226499       89.0  40.130570  -74.273691  \n",
       "226500       81.1  34.520881 -106.240581  \n",
       "226501       81.8  39.493240 -117.071841  \n",
       "226502       87.8  42.827001  -75.543970  \n",
       "226503       85.8  40.060210  -82.404260  \n",
       "226504       84.6  35.472031  -97.521070  \n",
       "226505       85.6  44.567449 -120.155031  \n",
       "226506       88.5  40.793730  -77.860700  \n",
       "226507       86.8  18.220833  -66.590149  \n",
       "226508       90.3  41.708280  -71.522470  \n",
       "226509       83.3  33.998821  -81.045371  \n",
       "226510       84.5  44.353130 -100.373531  \n",
       "226511       86.3  35.680941  -85.774491  \n",
       "226512       83.1  31.827240  -99.426770  \n",
       "226513       87.8  39.360700 -111.587131  \n",
       "226514       89.5  37.542681  -78.457890  \n",
       "226515       94.2  43.625381  -72.517641  \n",
       "226516       85.4  47.522279 -120.470011  \n",
       "226517       89.4  44.393191  -89.816371  \n",
       "226518       84.1  38.665510  -80.712640  \n",
       "226519       85.7  43.235541 -108.109830  \n",
       "\n",
       "[205635 rows x 10 columns]"
      ]
     },
     "execution_count": 122,
     "metadata": {},
     "output_type": "execute_result"
    }
   ],
   "source": [
    "#Drop duplicates to confirm there are no multiples by 'YearStart', 'YearEnd', 'LocationAbbr', 'LocationDesc', 'Topic', 'DataValue'\n",
    "csv_df.drop_duplicates(subset=['YearStart', 'YearEnd', 'LocationAbbr', 'LocationDesc', 'Topic', 'DataValue' ], keep=\"first\")"
   ]
  },
  {
   "cell_type": "code",
   "execution_count": 123,
   "metadata": {},
   "outputs": [],
   "source": [
    "# csv_df.count"
   ]
  },
  {
   "cell_type": "code",
   "execution_count": 124,
   "metadata": {},
   "outputs": [
    {
     "data": {
      "text/plain": [
       "array(['AL', 'AK', 'AZ', 'AR', 'CA', 'CO', 'CT', 'DE', 'DC', 'FL', 'GA',\n",
       "       'HI', 'ID', 'IL', 'IN', 'IA', 'KS', 'KY', 'LA', 'ME', 'MD', 'MA',\n",
       "       'MI', 'MN', 'MS', 'MO', 'MT', 'NE', 'NV', 'NH', 'NJ', 'NM', 'NY',\n",
       "       'NC', 'ND', 'OH', 'OK', 'OR', 'PA', 'RI', 'SC', 'SD', 'TN', 'TX',\n",
       "       'UT', 'VT', 'VA', 'WA', 'WV', 'WI', 'WY', 'GU', 'PR', 'VI'],\n",
       "      dtype=object)"
      ]
     },
     "execution_count": 124,
     "metadata": {},
     "output_type": "execute_result"
    }
   ],
   "source": [
    "csv_df[\"LocationAbbr\"].unique()"
   ]
  },
  {
   "cell_type": "code",
   "execution_count": 125,
   "metadata": {},
   "outputs": [],
   "source": [
    "# csv_df.head()"
   ]
  },
  {
   "cell_type": "code",
   "execution_count": 126,
   "metadata": {},
   "outputs": [],
   "source": [
    "# csv_df.duplicated()"
   ]
  },
  {
   "cell_type": "code",
   "execution_count": 127,
   "metadata": {},
   "outputs": [],
   "source": [
    "grouped_by_abbreviation = csv_df.groupby(\"LocationAbbr\")"
   ]
  },
  {
   "cell_type": "code",
   "execution_count": 128,
   "metadata": {},
   "outputs": [
    {
     "data": {
      "text/plain": [
       "YearStart\n",
       "2007       13.00\n",
       "2010     1178.19\n",
       "2011    23335.08\n",
       "2012    26928.20\n",
       "2013    30251.67\n",
       "2014    27019.00\n",
       "2015    24791.70\n",
       "2016    22416.50\n",
       "Name: DataValue, dtype: float64"
      ]
     },
     "execution_count": 128,
     "metadata": {},
     "output_type": "execute_result"
    }
   ],
   "source": [
    "AK = grouped_by_abbreviation.get_group(\"AK\")\n",
    "\n",
    "AK.groupby(\"YearStart\")[\"DataValue\"].sum()\n"
   ]
  },
  {
   "cell_type": "code",
   "execution_count": 129,
   "metadata": {},
   "outputs": [
    {
     "data": {
      "text/plain": [
       "YearStart\n",
       "2007       23.00\n",
       "2010     1355.70\n",
       "2011    30767.04\n",
       "2012    31098.80\n",
       "2013    33198.35\n",
       "2014    29047.50\n",
       "2015    32142.40\n",
       "2016    30677.20\n",
       "Name: DataValue, dtype: float64"
      ]
     },
     "execution_count": 129,
     "metadata": {},
     "output_type": "execute_result"
    }
   ],
   "source": [
    "AL = grouped_by_abbreviation.get_group(\"AL\")\n",
    "\n",
    "AL.groupby(\"YearStart\")[\"DataValue\"].sum()"
   ]
  },
  {
   "cell_type": "code",
   "execution_count": 130,
   "metadata": {},
   "outputs": [
    {
     "data": {
      "text/plain": [
       "YearStart\n",
       "2007    18.000000\n",
       "2010    44.155484\n",
       "2011    41.113392\n",
       "2012    38.577372\n",
       "2013    40.850708\n",
       "2014    40.730342\n",
       "2015    39.703585\n",
       "2016    38.209318\n",
       "Name: DataValue, dtype: float64"
      ]
     },
     "execution_count": 130,
     "metadata": {},
     "output_type": "execute_result"
    }
   ],
   "source": [
    "AZ = grouped_by_abbreviation.get_group(\"AZ\")\n",
    "\n",
    "AZ.groupby(\"YearStart\")[\"DataValue\"].mean()"
   ]
  },
  {
   "cell_type": "code",
   "execution_count": 131,
   "metadata": {},
   "outputs": [
    {
     "data": {
      "text/plain": [
       "YearStart\n",
       "2007       18.00\n",
       "2009      216.50\n",
       "2010     1293.39\n",
       "2011    27786.56\n",
       "2012    29112.60\n",
       "2013    32448.11\n",
       "2014    28474.30\n",
       "2015    29233.00\n",
       "2016    25848.10\n",
       "Name: DataValue, dtype: float64"
      ]
     },
     "execution_count": 131,
     "metadata": {},
     "output_type": "execute_result"
    }
   ],
   "source": [
    "AR = grouped_by_abbreviation.get_group(\"AR\")\n",
    "\n",
    "AR.groupby(\"YearStart\")[\"DataValue\"].sum()"
   ]
  },
  {
   "cell_type": "code",
   "execution_count": 132,
   "metadata": {},
   "outputs": [
    {
     "data": {
      "text/plain": [
       "YearStart\n",
       "2007       24.00\n",
       "2010     1396.83\n",
       "2011    31456.12\n",
       "2012    30869.60\n",
       "2013    30150.90\n",
       "2014    29350.00\n",
       "2015    33697.40\n",
       "2016    28941.40\n",
       "Name: DataValue, dtype: float64"
      ]
     },
     "execution_count": 132,
     "metadata": {},
     "output_type": "execute_result"
    }
   ],
   "source": [
    "CA = grouped_by_abbreviation.get_group(\"CA\")\n",
    "\n",
    "CA.groupby(\"YearStart\")[\"DataValue\"].sum()"
   ]
  },
  {
   "cell_type": "code",
   "execution_count": 133,
   "metadata": {},
   "outputs": [
    {
     "data": {
      "text/plain": [
       "YearStart\n",
       "2007       18.00\n",
       "2009      143.20\n",
       "2010     1235.30\n",
       "2011    26727.49\n",
       "2012    29106.30\n",
       "2013    31520.10\n",
       "2014    30385.30\n",
       "2015    33264.90\n",
       "2016    28557.60\n",
       "Name: DataValue, dtype: float64"
      ]
     },
     "execution_count": 133,
     "metadata": {},
     "output_type": "execute_result"
    }
   ],
   "source": [
    "CO = grouped_by_abbreviation.get_group(\"CO\")\n",
    "\n",
    "CO.groupby(\"YearStart\")[\"DataValue\"].sum()"
   ]
  },
  {
   "cell_type": "code",
   "execution_count": 134,
   "metadata": {},
   "outputs": [
    {
     "data": {
      "text/plain": [
       "YearStart\n",
       "2007       12.00\n",
       "2010     1326.23\n",
       "2011    28173.17\n",
       "2012    31312.00\n",
       "2013    31835.41\n",
       "2014    31301.10\n",
       "2015    34079.60\n",
       "2016    27573.30\n",
       "Name: DataValue, dtype: float64"
      ]
     },
     "execution_count": 134,
     "metadata": {},
     "output_type": "execute_result"
    }
   ],
   "source": [
    "CT = grouped_by_abbreviation.get_group(\"CT\")\n",
    "\n",
    "CT.groupby(\"YearStart\")[\"DataValue\"].sum()"
   ]
  },
  {
   "cell_type": "code",
   "execution_count": 135,
   "metadata": {},
   "outputs": [
    {
     "data": {
      "text/plain": [
       "YearStart\n",
       "2007       13.00\n",
       "2010     1187.21\n",
       "2011    27290.97\n",
       "2012    29515.10\n",
       "2013    32317.86\n",
       "2014    31287.00\n",
       "2015    29578.00\n",
       "2016    27766.90\n",
       "Name: DataValue, dtype: float64"
      ]
     },
     "execution_count": 135,
     "metadata": {},
     "output_type": "execute_result"
    }
   ],
   "source": [
    "DE = grouped_by_abbreviation.get_group(\"DE\")\n",
    "\n",
    "DE.groupby(\"YearStart\")[\"DataValue\"].sum()"
   ]
  },
  {
   "cell_type": "code",
   "execution_count": 136,
   "metadata": {},
   "outputs": [
    {
     "data": {
      "text/plain": [
       "YearStart\n",
       "2007       18.00\n",
       "2010     1112.98\n",
       "2011    27290.59\n",
       "2012    24054.50\n",
       "2013    30045.66\n",
       "2014    27055.40\n",
       "2015    28252.50\n",
       "2016    24677.60\n",
       "Name: DataValue, dtype: float64"
      ]
     },
     "execution_count": 136,
     "metadata": {},
     "output_type": "execute_result"
    }
   ],
   "source": [
    "DC = grouped_by_abbreviation.get_group(\"DC\")\n",
    "\n",
    "DC.groupby(\"YearStart\")[\"DataValue\"].sum()"
   ]
  },
  {
   "cell_type": "code",
   "execution_count": 137,
   "metadata": {},
   "outputs": [
    {
     "data": {
      "text/plain": [
       "YearStart\n",
       "2007       25.00\n",
       "2010     1373.97\n",
       "2011    32011.15\n",
       "2012    27762.50\n",
       "2013    42492.29\n",
       "2014    31847.20\n",
       "2015    32407.80\n",
       "2016    34661.20\n",
       "Name: DataValue, dtype: float64"
      ]
     },
     "execution_count": 137,
     "metadata": {},
     "output_type": "execute_result"
    }
   ],
   "source": [
    "FL = grouped_by_abbreviation.get_group(\"FL\")\n",
    "\n",
    "FL.groupby(\"YearStart\")[\"DataValue\"].sum()"
   ]
  },
  {
   "cell_type": "code",
   "execution_count": 138,
   "metadata": {},
   "outputs": [
    {
     "data": {
      "text/plain": [
       "YearStart\n",
       "2007       30.00\n",
       "2009      212.10\n",
       "2010     1328.92\n",
       "2011    30001.67\n",
       "2012    29954.10\n",
       "2013    35099.95\n",
       "2014    29740.40\n",
       "2015    32493.90\n",
       "2016    27418.60\n",
       "Name: DataValue, dtype: float64"
      ]
     },
     "execution_count": 138,
     "metadata": {},
     "output_type": "execute_result"
    }
   ],
   "source": [
    "GA = grouped_by_abbreviation.get_group(\"GA\")\n",
    "\n",
    "GA.groupby(\"YearStart\")[\"DataValue\"].sum()"
   ]
  },
  {
   "cell_type": "code",
   "execution_count": 139,
   "metadata": {},
   "outputs": [
    {
     "data": {
      "text/plain": [
       "YearStart\n",
       "2007       12.00\n",
       "2009      248.00\n",
       "2010     1174.90\n",
       "2011    31186.99\n",
       "2012    32302.80\n",
       "2013    36775.97\n",
       "2014    31197.80\n",
       "2015    36593.60\n",
       "2016    29925.70\n",
       "Name: DataValue, dtype: float64"
      ]
     },
     "execution_count": 139,
     "metadata": {},
     "output_type": "execute_result"
    }
   ],
   "source": [
    "HI = grouped_by_abbreviation.get_group(\"HI\")\n",
    "\n",
    "HI.groupby(\"YearStart\")[\"DataValue\"].sum()"
   ]
  },
  {
   "cell_type": "code",
   "execution_count": 140,
   "metadata": {},
   "outputs": [
    {
     "data": {
      "text/plain": [
       "YearStart\n",
       "2007       23.00\n",
       "2010     1076.69\n",
       "2011    21796.61\n",
       "2012    23350.70\n",
       "2013    24298.23\n",
       "2014    22011.50\n",
       "2015    23271.70\n",
       "2016    21433.10\n",
       "Name: DataValue, dtype: float64"
      ]
     },
     "execution_count": 140,
     "metadata": {},
     "output_type": "execute_result"
    }
   ],
   "source": [
    "ID = grouped_by_abbreviation.get_group(\"ID\")\n",
    "\n",
    "ID.groupby(\"YearStart\")[\"DataValue\"].sum()"
   ]
  },
  {
   "cell_type": "code",
   "execution_count": 141,
   "metadata": {},
   "outputs": [
    {
     "data": {
      "text/plain": [
       "YearStart\n",
       "2007       25.00\n",
       "2010     1262.38\n",
       "2011    25489.77\n",
       "2012    25298.00\n",
       "2013    27818.10\n",
       "2014    27807.10\n",
       "2015    26714.50\n",
       "2016    23779.10\n",
       "Name: DataValue, dtype: float64"
      ]
     },
     "execution_count": 141,
     "metadata": {},
     "output_type": "execute_result"
    }
   ],
   "source": [
    "IA = grouped_by_abbreviation.get_group(\"IA\")\n",
    "\n",
    "IA.groupby(\"YearStart\")[\"DataValue\"].sum()"
   ]
  },
  {
   "cell_type": "code",
   "execution_count": 142,
   "metadata": {},
   "outputs": [
    {
     "data": {
      "text/plain": [
       "YearStart\n",
       "2007       17.00\n",
       "2010     1335.82\n",
       "2011    29514.36\n",
       "2012    28543.20\n",
       "2013    32912.40\n",
       "2014    30669.80\n",
       "2015    30084.20\n",
       "2016    27569.10\n",
       "Name: DataValue, dtype: float64"
      ]
     },
     "execution_count": 142,
     "metadata": {},
     "output_type": "execute_result"
    }
   ],
   "source": [
    "IN = grouped_by_abbreviation.get_group(\"IN\")\n",
    "\n",
    "IN.groupby(\"YearStart\")[\"DataValue\"].sum()"
   ]
  },
  {
   "cell_type": "code",
   "execution_count": 143,
   "metadata": {},
   "outputs": [
    {
     "data": {
      "text/plain": [
       "YearStart\n",
       "2007       25.00\n",
       "2010     1262.38\n",
       "2011    25489.77\n",
       "2012    25298.00\n",
       "2013    27818.10\n",
       "2014    27807.10\n",
       "2015    26714.50\n",
       "2016    23779.10\n",
       "Name: DataValue, dtype: float64"
      ]
     },
     "execution_count": 143,
     "metadata": {},
     "output_type": "execute_result"
    }
   ],
   "source": [
    "IA = grouped_by_abbreviation.get_group(\"IA\")\n",
    "\n",
    "IA.groupby(\"YearStart\")[\"DataValue\"].sum()"
   ]
  },
  {
   "cell_type": "code",
   "execution_count": 144,
   "metadata": {},
   "outputs": [
    {
     "data": {
      "text/plain": [
       "YearStart\n",
       "2007       19.00\n",
       "2010     1339.38\n",
       "2011    32569.87\n",
       "2012    33332.00\n",
       "2013    35740.48\n",
       "2014    30050.40\n",
       "2015    37919.60\n",
       "2016    27488.40\n",
       "Name: DataValue, dtype: float64"
      ]
     },
     "execution_count": 144,
     "metadata": {},
     "output_type": "execute_result"
    }
   ],
   "source": [
    "KS = grouped_by_abbreviation.get_group(\"KS\")\n",
    "\n",
    "KS.groupby(\"YearStart\")[\"DataValue\"].sum()"
   ]
  },
  {
   "cell_type": "code",
   "execution_count": 145,
   "metadata": {},
   "outputs": [
    {
     "data": {
      "text/plain": [
       "YearStart\n",
       "2007       21.00\n",
       "2010     1258.26\n",
       "2011    34102.83\n",
       "2012    33326.60\n",
       "2013    34990.68\n",
       "2014    30887.10\n",
       "2015    33570.50\n",
       "2016    30696.20\n",
       "Name: DataValue, dtype: float64"
      ]
     },
     "execution_count": 145,
     "metadata": {},
     "output_type": "execute_result"
    }
   ],
   "source": [
    "KY = grouped_by_abbreviation.get_group(\"KY\")\n",
    "\n",
    "KY.groupby(\"YearStart\")[\"DataValue\"].sum()"
   ]
  },
  {
   "cell_type": "code",
   "execution_count": 146,
   "metadata": {},
   "outputs": [
    {
     "data": {
      "text/plain": [
       "YearStart\n",
       "2007       20.00\n",
       "2010     1362.29\n",
       "2011    31850.56\n",
       "2012    27825.50\n",
       "2013    31281.67\n",
       "2014    30927.40\n",
       "2015    31426.90\n",
       "2016    28918.30\n",
       "Name: DataValue, dtype: float64"
      ]
     },
     "execution_count": 146,
     "metadata": {},
     "output_type": "execute_result"
    }
   ],
   "source": [
    "LA = grouped_by_abbreviation.get_group(\"LA\")\n",
    "\n",
    "LA.groupby(\"YearStart\")[\"DataValue\"].sum()"
   ]
  },
  {
   "cell_type": "code",
   "execution_count": 147,
   "metadata": {},
   "outputs": [
    {
     "data": {
      "text/plain": [
       "YearStart\n",
       "2007        9.00\n",
       "2009      153.10\n",
       "2010     1174.30\n",
       "2011    27788.27\n",
       "2012    26500.20\n",
       "2013    27908.44\n",
       "2014    26463.80\n",
       "2015    25379.70\n",
       "2016    23258.30\n",
       "Name: DataValue, dtype: float64"
      ]
     },
     "execution_count": 147,
     "metadata": {},
     "output_type": "execute_result"
    }
   ],
   "source": [
    "ME = grouped_by_abbreviation.get_group(\"ME\")\n",
    "\n",
    "ME.groupby(\"YearStart\")[\"DataValue\"].sum()"
   ]
  },
  {
   "cell_type": "code",
   "execution_count": 148,
   "metadata": {},
   "outputs": [
    {
     "data": {
      "text/plain": [
       "YearStart\n",
       "2007       15.00\n",
       "2009      153.40\n",
       "2010     1208.18\n",
       "2011    26392.94\n",
       "2012    29712.90\n",
       "2013    33140.72\n",
       "2014    30624.80\n",
       "2015    33236.30\n",
       "2016    30175.70\n",
       "Name: DataValue, dtype: float64"
      ]
     },
     "execution_count": 148,
     "metadata": {},
     "output_type": "execute_result"
    }
   ],
   "source": [
    "MD = grouped_by_abbreviation.get_group(\"MD\")\n",
    "\n",
    "MD.groupby(\"YearStart\")[\"DataValue\"].sum()"
   ]
  },
  {
   "cell_type": "code",
   "execution_count": 149,
   "metadata": {},
   "outputs": [
    {
     "data": {
      "text/plain": [
       "YearStart\n",
       "2007       13.00\n",
       "2010     1356.19\n",
       "2011    35202.28\n",
       "2012    33605.10\n",
       "2013    38178.78\n",
       "2014    33281.40\n",
       "2015    30111.30\n",
       "2016    29999.90\n",
       "Name: DataValue, dtype: float64"
      ]
     },
     "execution_count": 149,
     "metadata": {},
     "output_type": "execute_result"
    }
   ],
   "source": [
    "MA = grouped_by_abbreviation.get_group(\"MA\")\n",
    "\n",
    "MA.groupby(\"YearStart\")[\"DataValue\"].sum()"
   ]
  },
  {
   "cell_type": "code",
   "execution_count": 150,
   "metadata": {},
   "outputs": [
    {
     "data": {
      "text/plain": [
       "YearStart\n",
       "2007        9.00\n",
       "2009      240.40\n",
       "2010     1389.78\n",
       "2011    32736.52\n",
       "2012    33491.90\n",
       "2013    33252.91\n",
       "2014    29573.20\n",
       "2015    34614.70\n",
       "2016    31245.50\n",
       "Name: DataValue, dtype: float64"
      ]
     },
     "execution_count": 150,
     "metadata": {},
     "output_type": "execute_result"
    }
   ],
   "source": [
    "MI = grouped_by_abbreviation.get_group(\"MI\")\n",
    "\n",
    "MI.groupby(\"YearStart\")[\"DataValue\"].sum()"
   ]
  },
  {
   "cell_type": "code",
   "execution_count": 151,
   "metadata": {},
   "outputs": [
    {
     "data": {
      "text/plain": [
       "YearStart\n",
       "2007       10.00\n",
       "2009      257.70\n",
       "2010     1246.77\n",
       "2011    28560.38\n",
       "2012    30787.30\n",
       "2013    33627.50\n",
       "2014    29101.40\n",
       "2015    31844.80\n",
       "2016    28880.90\n",
       "Name: DataValue, dtype: float64"
      ]
     },
     "execution_count": 151,
     "metadata": {},
     "output_type": "execute_result"
    }
   ],
   "source": [
    "MN = grouped_by_abbreviation.get_group(\"MN\")\n",
    "\n",
    "MN.groupby(\"YearStart\")[\"DataValue\"].sum()"
   ]
  },
  {
   "cell_type": "code",
   "execution_count": 152,
   "metadata": {},
   "outputs": [
    {
     "data": {
      "text/plain": [
       "YearStart\n",
       "2007       25.00\n",
       "2010     1326.09\n",
       "2011    26837.11\n",
       "2012    28805.90\n",
       "2013    29866.41\n",
       "2014    27041.60\n",
       "2015    27170.70\n",
       "2016    27193.90\n",
       "Name: DataValue, dtype: float64"
      ]
     },
     "execution_count": 152,
     "metadata": {},
     "output_type": "execute_result"
    }
   ],
   "source": [
    "MS = grouped_by_abbreviation.get_group(\"MS\")\n",
    "\n",
    "MS.groupby(\"YearStart\")[\"DataValue\"].sum()"
   ]
  },
  {
   "cell_type": "code",
   "execution_count": 153,
   "metadata": {},
   "outputs": [
    {
     "data": {
      "text/plain": [
       "YearStart\n",
       "2007       30.00\n",
       "2009      231.90\n",
       "2010     1329.83\n",
       "2011    29462.50\n",
       "2012    28820.20\n",
       "2013    33354.85\n",
       "2014    28700.40\n",
       "2015    30722.70\n",
       "2016    27516.40\n",
       "Name: DataValue, dtype: float64"
      ]
     },
     "execution_count": 153,
     "metadata": {},
     "output_type": "execute_result"
    }
   ],
   "source": [
    "MO = grouped_by_abbreviation.get_group(\"MO\")\n",
    "\n",
    "MO.groupby(\"YearStart\")[\"DataValue\"].sum()"
   ]
  },
  {
   "cell_type": "code",
   "execution_count": 154,
   "metadata": {},
   "outputs": [
    {
     "data": {
      "text/plain": [
       "YearStart\n",
       "2007       12.00\n",
       "2010     1028.71\n",
       "2011    28947.18\n",
       "2012    26406.70\n",
       "2013    31231.93\n",
       "2014    26181.70\n",
       "2015    30221.20\n",
       "2016    25655.20\n",
       "Name: DataValue, dtype: float64"
      ]
     },
     "execution_count": 154,
     "metadata": {},
     "output_type": "execute_result"
    }
   ],
   "source": [
    "MT = grouped_by_abbreviation.get_group(\"MT\")\n",
    "\n",
    "MT.groupby(\"YearStart\")[\"DataValue\"].sum()"
   ]
  },
  {
   "cell_type": "code",
   "execution_count": 155,
   "metadata": {},
   "outputs": [
    {
     "data": {
      "text/plain": [
       "YearStart\n",
       "2007       20.00\n",
       "2009      152.80\n",
       "2010     1210.07\n",
       "2011    32056.70\n",
       "2012    32473.00\n",
       "2013    33155.75\n",
       "2014    32726.00\n",
       "2015    32856.40\n",
       "2016    27348.50\n",
       "Name: DataValue, dtype: float64"
      ]
     },
     "execution_count": 155,
     "metadata": {},
     "output_type": "execute_result"
    }
   ],
   "source": [
    "NE = grouped_by_abbreviation.get_group(\"NE\")\n",
    "\n",
    "NE.groupby(\"YearStart\")[\"DataValue\"].sum()"
   ]
  },
  {
   "cell_type": "code",
   "execution_count": 156,
   "metadata": {},
   "outputs": [
    {
     "data": {
      "text/plain": [
       "YearStart\n",
       "2007       19.00\n",
       "2010     1241.21\n",
       "2011    24252.65\n",
       "2012    28682.60\n",
       "2013    30512.08\n",
       "2014    24399.10\n",
       "2015    27129.40\n",
       "2016    23811.00\n",
       "Name: DataValue, dtype: float64"
      ]
     },
     "execution_count": 156,
     "metadata": {},
     "output_type": "execute_result"
    }
   ],
   "source": [
    "NV = grouped_by_abbreviation.get_group(\"NV\")\n",
    "\n",
    "NV.groupby(\"YearStart\")[\"DataValue\"].sum()"
   ]
  },
  {
   "cell_type": "code",
   "execution_count": 157,
   "metadata": {},
   "outputs": [
    {
     "data": {
      "text/plain": [
       "YearStart\n",
       "2007       11.00\n",
       "2010     1026.62\n",
       "2011    23345.01\n",
       "2012    22658.70\n",
       "2013    24416.08\n",
       "2014    23288.30\n",
       "2015    27396.10\n",
       "2016    22090.60\n",
       "Name: DataValue, dtype: float64"
      ]
     },
     "execution_count": 157,
     "metadata": {},
     "output_type": "execute_result"
    }
   ],
   "source": [
    "NH = grouped_by_abbreviation.get_group(\"NH\")\n",
    "\n",
    "NH.groupby(\"YearStart\")[\"DataValue\"].sum()"
   ]
  },
  {
   "cell_type": "code",
   "execution_count": 158,
   "metadata": {},
   "outputs": [
    {
     "data": {
      "text/plain": [
       "YearStart\n",
       "2007       12.00\n",
       "2009      237.70\n",
       "2010     1340.08\n",
       "2011    31548.16\n",
       "2012    33430.20\n",
       "2013    34819.16\n",
       "2014    34385.60\n",
       "2015    35692.70\n",
       "2016    30448.10\n",
       "Name: DataValue, dtype: float64"
      ]
     },
     "execution_count": 158,
     "metadata": {},
     "output_type": "execute_result"
    }
   ],
   "source": [
    "NJ = grouped_by_abbreviation.get_group(\"NJ\")\n",
    "\n",
    "NJ.groupby(\"YearStart\")[\"DataValue\"].sum()"
   ]
  },
  {
   "cell_type": "code",
   "execution_count": 159,
   "metadata": {},
   "outputs": [
    {
     "data": {
      "text/plain": [
       "YearStart\n",
       "2007       23.00\n",
       "2009      139.60\n",
       "2010     1265.99\n",
       "2011    30997.29\n",
       "2012    31784.00\n",
       "2013    35070.72\n",
       "2014    32483.00\n",
       "2015    33101.10\n",
       "2016    26514.60\n",
       "Name: DataValue, dtype: float64"
      ]
     },
     "execution_count": 159,
     "metadata": {},
     "output_type": "execute_result"
    }
   ],
   "source": [
    "NM = grouped_by_abbreviation.get_group(\"NM\")\n",
    "\n",
    "NM.groupby(\"YearStart\")[\"DataValue\"].sum()"
   ]
  },
  {
   "cell_type": "code",
   "execution_count": 160,
   "metadata": {},
   "outputs": [
    {
     "data": {
      "text/plain": [
       "YearStart\n",
       "2007       15.00\n",
       "2009      155.00\n",
       "2010     1372.94\n",
       "2011    27044.51\n",
       "2012    26619.30\n",
       "2013    29654.98\n",
       "2014    29567.80\n",
       "2015    36299.50\n",
       "2016    34161.30\n",
       "Name: DataValue, dtype: float64"
      ]
     },
     "execution_count": 160,
     "metadata": {},
     "output_type": "execute_result"
    }
   ],
   "source": [
    "NY = grouped_by_abbreviation.get_group(\"NY\")\n",
    "\n",
    "NY.groupby(\"YearStart\")[\"DataValue\"].sum()"
   ]
  },
  {
   "cell_type": "code",
   "execution_count": 161,
   "metadata": {},
   "outputs": [
    {
     "data": {
      "text/plain": [
       "YearStart\n",
       "2007       35.00\n",
       "2010     1428.90\n",
       "2011    32642.12\n",
       "2012    36343.50\n",
       "2013    37485.95\n",
       "2014    30179.30\n",
       "2015    33465.30\n",
       "2016    29546.40\n",
       "Name: DataValue, dtype: float64"
      ]
     },
     "execution_count": 161,
     "metadata": {},
     "output_type": "execute_result"
    }
   ],
   "source": [
    "NC = grouped_by_abbreviation.get_group(\"NC\")\n",
    "\n",
    "NC.groupby(\"YearStart\")[\"DataValue\"].sum()"
   ]
  },
  {
   "cell_type": "code",
   "execution_count": 162,
   "metadata": {},
   "outputs": [
    {
     "data": {
      "text/plain": [
       "YearStart\n",
       "2007       21.00\n",
       "2010     1022.64\n",
       "2011    23517.17\n",
       "2012    20840.90\n",
       "2013    27818.96\n",
       "2014    26504.60\n",
       "2015    23688.00\n",
       "2016    23560.60\n",
       "Name: DataValue, dtype: float64"
      ]
     },
     "execution_count": 162,
     "metadata": {},
     "output_type": "execute_result"
    }
   ],
   "source": [
    "ND = grouped_by_abbreviation.get_group(\"ND\")\n",
    "\n",
    "ND.groupby(\"YearStart\")[\"DataValue\"].sum()"
   ]
  },
  {
   "cell_type": "code",
   "execution_count": 163,
   "metadata": {},
   "outputs": [
    {
     "data": {
      "text/plain": [
       "YearStart\n",
       "2007       11.00\n",
       "2010     1384.44\n",
       "2011    29968.20\n",
       "2012    33649.70\n",
       "2013    35789.25\n",
       "2014    31744.60\n",
       "2015    31111.60\n",
       "2016    31105.50\n",
       "Name: DataValue, dtype: float64"
      ]
     },
     "execution_count": 163,
     "metadata": {},
     "output_type": "execute_result"
    }
   ],
   "source": [
    "OH = grouped_by_abbreviation.get_group(\"OH\")\n",
    "\n",
    "OH.groupby(\"YearStart\")[\"DataValue\"].sum()"
   ]
  },
  {
   "cell_type": "code",
   "execution_count": 164,
   "metadata": {},
   "outputs": [
    {
     "data": {
      "text/plain": [
       "YearStart\n",
       "2007       16.00\n",
       "2009      134.50\n",
       "2010     1380.53\n",
       "2011    36204.96\n",
       "2012    35666.10\n",
       "2013    40195.48\n",
       "2014    34987.00\n",
       "2015    36342.10\n",
       "2016    31882.50\n",
       "Name: DataValue, dtype: float64"
      ]
     },
     "execution_count": 164,
     "metadata": {},
     "output_type": "execute_result"
    }
   ],
   "source": [
    "OK = grouped_by_abbreviation.get_group(\"OK\")\n",
    "\n",
    "OK.groupby(\"YearStart\")[\"DataValue\"].sum()"
   ]
  },
  {
   "cell_type": "code",
   "execution_count": 165,
   "metadata": {},
   "outputs": [
    {
     "data": {
      "text/plain": [
       "YearStart\n",
       "2007       13.00\n",
       "2009      140.60\n",
       "2010     1295.77\n",
       "2011    26060.83\n",
       "2012    29646.30\n",
       "2013    27895.70\n",
       "2014    24876.50\n",
       "2015    26885.70\n",
       "2016    24698.50\n",
       "Name: DataValue, dtype: float64"
      ]
     },
     "execution_count": 165,
     "metadata": {},
     "output_type": "execute_result"
    }
   ],
   "source": [
    "OR = grouped_by_abbreviation.get_group(\"OR\")\n",
    "\n",
    "OR.groupby(\"YearStart\")[\"DataValue\"].sum()"
   ]
  },
  {
   "cell_type": "code",
   "execution_count": 166,
   "metadata": {},
   "outputs": [
    {
     "data": {
      "text/plain": [
       "YearStart\n",
       "2007       11.00\n",
       "2009      155.50\n",
       "2010     1370.36\n",
       "2011    30662.47\n",
       "2012    34332.50\n",
       "2013    33987.10\n",
       "2014    29247.50\n",
       "2015    29893.40\n",
       "2016    26307.10\n",
       "Name: DataValue, dtype: float64"
      ]
     },
     "execution_count": 166,
     "metadata": {},
     "output_type": "execute_result"
    }
   ],
   "source": [
    "PA = grouped_by_abbreviation.get_group(\"PA\")\n",
    "\n",
    "PA.groupby(\"YearStart\")[\"DataValue\"].sum()"
   ]
  },
  {
   "cell_type": "code",
   "execution_count": 167,
   "metadata": {},
   "outputs": [
    {
     "data": {
      "text/plain": [
       "YearStart\n",
       "2007        9.00\n",
       "2009      251.60\n",
       "2010     1201.68\n",
       "2011    27208.45\n",
       "2012    24952.60\n",
       "2013    28959.54\n",
       "2014    26844.90\n",
       "2015    30729.60\n",
       "2016    24875.90\n",
       "Name: DataValue, dtype: float64"
      ]
     },
     "execution_count": 167,
     "metadata": {},
     "output_type": "execute_result"
    }
   ],
   "source": [
    "RI = grouped_by_abbreviation.get_group(\"RI\")\n",
    "\n",
    "RI.groupby(\"YearStart\")[\"DataValue\"].sum()"
   ]
  },
  {
   "cell_type": "code",
   "execution_count": 168,
   "metadata": {},
   "outputs": [
    {
     "data": {
      "text/plain": [
       "YearStart\n",
       "2007       62.00\n",
       "2010     1298.60\n",
       "2011    32157.33\n",
       "2012    32555.60\n",
       "2013    35919.59\n",
       "2014    33044.20\n",
       "2015    35098.80\n",
       "2016    30121.40\n",
       "Name: DataValue, dtype: float64"
      ]
     },
     "execution_count": 168,
     "metadata": {},
     "output_type": "execute_result"
    }
   ],
   "source": [
    "SC = grouped_by_abbreviation.get_group(\"SC\")\n",
    "\n",
    "SC.groupby(\"YearStart\")[\"DataValue\"].sum()"
   ]
  },
  {
   "cell_type": "code",
   "execution_count": 169,
   "metadata": {},
   "outputs": [
    {
     "data": {
      "text/plain": [
       "YearStart\n",
       "2007       23.00\n",
       "2010     1012.20\n",
       "2011    26552.54\n",
       "2012    29206.40\n",
       "2013    27257.04\n",
       "2014    29033.20\n",
       "2015    26943.60\n",
       "2016    26843.30\n",
       "Name: DataValue, dtype: float64"
      ]
     },
     "execution_count": 169,
     "metadata": {},
     "output_type": "execute_result"
    }
   ],
   "source": [
    "SD = grouped_by_abbreviation.get_group(\"SD\")\n",
    "\n",
    "SD.groupby(\"YearStart\")[\"DataValue\"].sum()"
   ]
  },
  {
   "cell_type": "code",
   "execution_count": 170,
   "metadata": {},
   "outputs": [
    {
     "data": {
      "text/plain": [
       "YearStart\n",
       "2007       27.00\n",
       "2010     1353.55\n",
       "2011    27934.14\n",
       "2012    29545.50\n",
       "2013    31332.95\n",
       "2014    28543.40\n",
       "2015    32276.70\n",
       "2016    26596.40\n",
       "Name: DataValue, dtype: float64"
      ]
     },
     "execution_count": 170,
     "metadata": {},
     "output_type": "execute_result"
    }
   ],
   "source": [
    "TN = grouped_by_abbreviation.get_group(\"TN\")\n",
    "\n",
    "TN.groupby(\"YearStart\")[\"DataValue\"].sum()"
   ]
  },
  {
   "cell_type": "code",
   "execution_count": 171,
   "metadata": {},
   "outputs": [
    {
     "data": {
      "text/plain": [
       "YearStart\n",
       "2007       25.00\n",
       "2010     1437.53\n",
       "2011    33613.03\n",
       "2012    31101.60\n",
       "2013    36138.74\n",
       "2014    34553.30\n",
       "2015    35323.20\n",
       "2016    32746.50\n",
       "Name: DataValue, dtype: float64"
      ]
     },
     "execution_count": 171,
     "metadata": {},
     "output_type": "execute_result"
    }
   ],
   "source": [
    "TX = grouped_by_abbreviation.get_group(\"TX\")\n",
    "\n",
    "TX.groupby(\"YearStart\")[\"DataValue\"].sum()"
   ]
  },
  {
   "cell_type": "code",
   "execution_count": 172,
   "metadata": {},
   "outputs": [
    {
     "data": {
      "text/plain": [
       "YearStart\n",
       "2007       26.00\n",
       "2009      245.80\n",
       "2010     1157.25\n",
       "2011    25621.52\n",
       "2012    27113.20\n",
       "2013    25988.30\n",
       "2014    25436.90\n",
       "2015    27343.70\n",
       "2016    23617.30\n",
       "Name: DataValue, dtype: float64"
      ]
     },
     "execution_count": 172,
     "metadata": {},
     "output_type": "execute_result"
    }
   ],
   "source": [
    "UT = grouped_by_abbreviation.get_group(\"UT\")\n",
    "\n",
    "UT.groupby(\"YearStart\")[\"DataValue\"].sum()"
   ]
  },
  {
   "cell_type": "code",
   "execution_count": 173,
   "metadata": {},
   "outputs": [
    {
     "data": {
      "text/plain": [
       "YearStart\n",
       "2007       14.00\n",
       "2009      159.20\n",
       "2010     1024.90\n",
       "2011    22097.33\n",
       "2012    24462.90\n",
       "2013    24990.52\n",
       "2014    22642.70\n",
       "2015    26077.30\n",
       "2016    21507.40\n",
       "Name: DataValue, dtype: float64"
      ]
     },
     "execution_count": 173,
     "metadata": {},
     "output_type": "execute_result"
    }
   ],
   "source": [
    "VT = grouped_by_abbreviation.get_group(\"VT\")\n",
    "\n",
    "VT.groupby(\"YearStart\")[\"DataValue\"].sum()"
   ]
  },
  {
   "cell_type": "code",
   "execution_count": 174,
   "metadata": {},
   "outputs": [
    {
     "data": {
      "text/plain": [
       "YearStart\n",
       "2007       34.00\n",
       "2010     1311.14\n",
       "2011    26353.15\n",
       "2012    31632.10\n",
       "2013    33575.89\n",
       "2014    32659.30\n",
       "2015    32437.70\n",
       "2016    31407.10\n",
       "Name: DataValue, dtype: float64"
      ]
     },
     "execution_count": 174,
     "metadata": {},
     "output_type": "execute_result"
    }
   ],
   "source": [
    "VA = grouped_by_abbreviation.get_group(\"VA\")\n",
    "\n",
    "VA.groupby(\"YearStart\")[\"DataValue\"].sum()"
   ]
  },
  {
   "cell_type": "code",
   "execution_count": 175,
   "metadata": {},
   "outputs": [
    {
     "data": {
      "text/plain": [
       "YearStart\n",
       "2007       12.00\n",
       "2009      234.50\n",
       "2010     1356.60\n",
       "2011    27982.95\n",
       "2012    29455.20\n",
       "2013    30815.20\n",
       "2014    28494.60\n",
       "2015    37542.90\n",
       "2016    28305.10\n",
       "Name: DataValue, dtype: float64"
      ]
     },
     "execution_count": 175,
     "metadata": {},
     "output_type": "execute_result"
    }
   ],
   "source": [
    "WA = grouped_by_abbreviation.get_group(\"WA\")\n",
    "\n",
    "WA.groupby(\"YearStart\")[\"DataValue\"].sum()"
   ]
  },
  {
   "cell_type": "code",
   "execution_count": 176,
   "metadata": {},
   "outputs": [
    {
     "data": {
      "text/plain": [
       "YearStart\n",
       "2007       17.00\n",
       "2009      218.00\n",
       "2010     1098.15\n",
       "2011    26975.36\n",
       "2012    25730.60\n",
       "2013    29198.68\n",
       "2014    27258.00\n",
       "2015    27217.40\n",
       "2016    24680.90\n",
       "Name: DataValue, dtype: float64"
      ]
     },
     "execution_count": 176,
     "metadata": {},
     "output_type": "execute_result"
    }
   ],
   "source": [
    "WV = grouped_by_abbreviation.get_group(\"WV\")\n",
    "\n",
    "WV.groupby(\"YearStart\")[\"DataValue\"].sum()"
   ]
  },
  {
   "cell_type": "code",
   "execution_count": 177,
   "metadata": {},
   "outputs": [
    {
     "data": {
      "text/plain": [
       "YearStart\n",
       "2007       15.00\n",
       "2009      255.50\n",
       "2010     1315.99\n",
       "2011    27142.03\n",
       "2012    27880.70\n",
       "2013    31477.96\n",
       "2014    26610.70\n",
       "2015    29983.70\n",
       "2016    26312.50\n",
       "Name: DataValue, dtype: float64"
      ]
     },
     "execution_count": 177,
     "metadata": {},
     "output_type": "execute_result"
    }
   ],
   "source": [
    "WI = grouped_by_abbreviation.get_group(\"WI\")\n",
    "\n",
    "WI.groupby(\"YearStart\")[\"DataValue\"].sum()"
   ]
  },
  {
   "cell_type": "code",
   "execution_count": 178,
   "metadata": {},
   "outputs": [
    {
     "data": {
      "text/plain": [
       "YearStart\n",
       "2007       23.00\n",
       "2009      140.40\n",
       "2010     1028.05\n",
       "2011    23542.44\n",
       "2012    23941.30\n",
       "2013    25653.30\n",
       "2014    25968.40\n",
       "2015    25519.10\n",
       "2016    22558.60\n",
       "Name: DataValue, dtype: float64"
      ]
     },
     "execution_count": 178,
     "metadata": {},
     "output_type": "execute_result"
    }
   ],
   "source": [
    "WY = grouped_by_abbreviation.get_group(\"WY\")\n",
    "\n",
    "WY.groupby(\"YearStart\")[\"DataValue\"].sum()"
   ]
  },
  {
   "cell_type": "code",
   "execution_count": 179,
   "metadata": {},
   "outputs": [
    {
     "data": {
      "text/plain": [
       "YearStart\n",
       "2011    14652.6\n",
       "2012    16009.2\n",
       "2013    19540.3\n",
       "2014    17551.6\n",
       "2015    18148.2\n",
       "2016    15657.0\n",
       "Name: DataValue, dtype: float64"
      ]
     },
     "execution_count": 179,
     "metadata": {},
     "output_type": "execute_result"
    }
   ],
   "source": [
    "GU = grouped_by_abbreviation.get_group(\"GU\")\n",
    "\n",
    "GU.groupby(\"YearStart\")[\"DataValue\"].sum()"
   ]
  },
  {
   "cell_type": "code",
   "execution_count": 180,
   "metadata": {},
   "outputs": [
    {
     "data": {
      "text/plain": [
       "YearStart\n",
       "2010      932.6\n",
       "2011    16477.0\n",
       "2012    15898.9\n",
       "2013    18027.7\n",
       "2014    16683.3\n",
       "2015    16169.2\n",
       "2016    15402.8\n",
       "Name: DataValue, dtype: float64"
      ]
     },
     "execution_count": 180,
     "metadata": {},
     "output_type": "execute_result"
    }
   ],
   "source": [
    "PR = grouped_by_abbreviation.get_group(\"PR\")\n",
    "\n",
    "PR.groupby(\"YearStart\")[\"DataValue\"].sum()"
   ]
  },
  {
   "cell_type": "code",
   "execution_count": 181,
   "metadata": {},
   "outputs": [
    {
     "data": {
      "text/plain": [
       "YearStart\n",
       "2010      133.2\n",
       "2011      140.9\n",
       "2012      181.5\n",
       "2013      190.9\n",
       "2014      179.5\n",
       "2015      180.2\n",
       "2016    12146.9\n",
       "Name: DataValue, dtype: float64"
      ]
     },
     "execution_count": 181,
     "metadata": {},
     "output_type": "execute_result"
    }
   ],
   "source": [
    "VI = grouped_by_abbreviation.get_group(\"VI\")\n",
    "\n",
    "VI.groupby(\"YearStart\")[\"DataValue\"].sum()"
   ]
  },
  {
   "cell_type": "code",
   "execution_count": null,
   "metadata": {},
   "outputs": [],
   "source": []
  }
 ],
 "metadata": {
  "kernelspec": {
   "display_name": "Python 3",
   "language": "python",
   "name": "python3"
  },
  "language_info": {
   "codemirror_mode": {
    "name": "ipython",
    "version": 3
   },
   "file_extension": ".py",
   "mimetype": "text/x-python",
   "name": "python",
   "nbconvert_exporter": "python",
   "pygments_lexer": "ipython3",
   "version": "3.7.3"
  }
 },
 "nbformat": 4,
 "nbformat_minor": 2
}
